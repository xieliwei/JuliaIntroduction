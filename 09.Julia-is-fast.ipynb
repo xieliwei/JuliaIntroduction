{
 "cells": [
  {
   "cell_type": "markdown",
   "metadata": {},
   "source": [
    "# Julia is fast\n",
    "\n",
    "Very often, benchmarks are used to compare languages.  These benchmarks can lead to long discussions, first as to exactly what is being benchmarked and secondly what explains the differences.  These simple questions can sometimes get more complicated than you at first might imagine.\n",
    "\n",
    "The purpose of this notebook is for you to see a simple benchmark for yourself.  One can read the notebook and see what happened on the author's Macbook Pro with a 4-core Intel Core I7, or run the notebook yourself.\n",
    "\n",
    "(This material began life as a wonderful lecture by Steven Johnson at MIT: https://github.com/stevengj/18S096/blob/master/lectures/lecture1/Boxes-and-registers.ipynb.)"
   ]
  },
  {
   "cell_type": "markdown",
   "metadata": {},
   "source": [
    "# Outline of this notebook\n",
    "\n",
    "- Define the sum function\n",
    "- Implementations & benchmarking of sum in...\n",
    "    - C (hand-written)\n",
    "    - C (hand-written with -ffast-math)\n",
    "    - python (built-in)\n",
    "    - python (numpy)\n",
    "    - python (hand-written)\n",
    "    - Julia (built-in)\n",
    "    - Julia (hand-written)\n",
    "    - Julia (hand-written with SIMD)\n",
    "- Summary of benchmarks"
   ]
  },
  {
   "cell_type": "markdown",
   "metadata": {},
   "source": [
    "# `sum`: An easy enough function to understand"
   ]
  },
  {
   "cell_type": "markdown",
   "metadata": {},
   "source": [
    "Consider the  **sum** function `sum(a)`, which computes\n",
    "$$\n",
    "\\mathrm{sum}(a) = \\sum_{i=1}^n a_i,\n",
    "$$\n",
    "where $n$ is the length of `a`."
   ]
  },
  {
   "cell_type": "code",
   "execution_count": 1,
   "metadata": {},
   "outputs": [
    {
     "data": {
      "text/plain": [
       "10000000-element Array{Float64,1}:\n",
       " 0.9137720318352194\n",
       " 0.8431395015113496\n",
       " 0.5023181345585017\n",
       " 0.2551592185721132\n",
       " 0.022054838356646123\n",
       " 0.5196287978225129\n",
       " 0.6714361149479116\n",
       " 0.010543232374548683\n",
       " 0.9937728563422985\n",
       " 0.07782139273705857\n",
       " 0.5915296458932466\n",
       " 0.5510729269324448\n",
       " 0.13445643573402966\n",
       " ⋮\n",
       " 0.6896328155008056\n",
       " 0.5013800809225335\n",
       " 0.08915602884873386\n",
       " 0.2273062281614857\n",
       " 0.8271012070232864\n",
       " 0.7358229240572078\n",
       " 0.07843411502166098\n",
       " 0.573264043932401\n",
       " 0.3327283316445493\n",
       " 0.41206960442450735\n",
       " 0.6365940379102091\n",
       " 0.8517105876326636"
      ]
     },
     "execution_count": 1,
     "metadata": {},
     "output_type": "execute_result"
    }
   ],
   "source": [
    "a = rand(10^7) # 1D vector of random numbers, uniform on [0,1)"
   ]
  },
  {
   "cell_type": "code",
   "execution_count": 2,
   "metadata": {},
   "outputs": [
    {
     "data": {
      "text/plain": [
       "5.001516419838389e6"
      ]
     },
     "execution_count": 2,
     "metadata": {},
     "output_type": "execute_result"
    }
   ],
   "source": [
    "sum(a)"
   ]
  },
  {
   "cell_type": "markdown",
   "metadata": {},
   "source": [
    "The expected result is 0.5 * 10^7, since the mean of each entry is 0.5"
   ]
  },
  {
   "cell_type": "markdown",
   "metadata": {},
   "source": [
    "# Benchmarking a few ways in a few languages"
   ]
  },
  {
   "cell_type": "code",
   "execution_count": 3,
   "metadata": {},
   "outputs": [
    {
     "name": "stdout",
     "output_type": "stream",
     "text": [
      "  0.005670 seconds (1 allocation: 16 bytes)\n"
     ]
    },
    {
     "data": {
      "text/plain": [
       "5.001516419838389e6"
      ]
     },
     "execution_count": 3,
     "metadata": {},
     "output_type": "execute_result"
    }
   ],
   "source": [
    "@time sum(a)"
   ]
  },
  {
   "cell_type": "code",
   "execution_count": 4,
   "metadata": {},
   "outputs": [
    {
     "name": "stdout",
     "output_type": "stream",
     "text": [
      "  0.004901 seconds (1 allocation: 16 bytes)\n"
     ]
    },
    {
     "data": {
      "text/plain": [
       "5.001516419838389e6"
      ]
     },
     "execution_count": 4,
     "metadata": {},
     "output_type": "execute_result"
    }
   ],
   "source": [
    "@time sum(a)"
   ]
  },
  {
   "cell_type": "code",
   "execution_count": 5,
   "metadata": {},
   "outputs": [
    {
     "name": "stdout",
     "output_type": "stream",
     "text": [
      "  0.004855 seconds (1 allocation: 16 bytes)\n"
     ]
    },
    {
     "data": {
      "text/plain": [
       "5.001516419838389e6"
      ]
     },
     "execution_count": 5,
     "metadata": {},
     "output_type": "execute_result"
    }
   ],
   "source": [
    "@time sum(a)"
   ]
  },
  {
   "cell_type": "markdown",
   "metadata": {},
   "source": [
    "The `@time` macro can yield noisy results, so it's not our best choice for benchmarking!\n",
    "\n",
    "Luckily, Julia has a `BenchmarkTools.jl` package to make benchmarking easy and accurate:"
   ]
  },
  {
   "cell_type": "code",
   "execution_count": 6,
   "metadata": {},
   "outputs": [
    {
     "name": "stderr",
     "output_type": "stream",
     "text": [
      "\u001b[32m\u001b[1m   Updating\u001b[22m\u001b[39m registry at `~/.julia/registries/General`\n"
     ]
    },
    {
     "name": "stdout",
     "output_type": "stream",
     "text": [
      "\u001b[?25l    "
     ]
    },
    {
     "name": "stderr",
     "output_type": "stream",
     "text": [
      "\u001b[32m\u001b[1m   Updating\u001b[22m\u001b[39m git-repo `https://github.com/JuliaRegistries/General.git`\n"
     ]
    },
    {
     "name": "stdout",
     "output_type": "stream",
     "text": [
      "\u001b[36m\u001b[1mFetching:\u001b[22m\u001b[39m [>                                        ]  0.0 %\r",
      "    \u001b[36m\u001b[1mFetching:\u001b[22m\u001b[39m [====>                                    ]  10.0 %\r",
      "    \u001b[36m\u001b[1mFetching:\u001b[22m\u001b[39m [========>                                ]  20.0 %\r",
      "    \u001b[36m\u001b[1mFetching:\u001b[22m\u001b[39m [============>                            ]  30.0 %\r",
      "    \u001b[36m\u001b[1mFetching:\u001b[22m\u001b[39m [================>                        ]  40.0 %\r",
      "    \u001b[36m\u001b[1mFetching:\u001b[22m\u001b[39m [====================>                    ]  50.0 %\r",
      "    \u001b[36m\u001b[1mFetching:\u001b[22m\u001b[39m [========================>                ]  60.0 %\r",
      "    \u001b[36m\u001b[1mFetching:\u001b[22m\u001b[39m [============================>            ]  70.0 %\r",
      "    \u001b[36m\u001b[1mFetching:\u001b[22m\u001b[39m [================================>        ]  80.0 %\r",
      "    \u001b[36m\u001b[1mFetching:\u001b[22m\u001b[39m [====================================>    ]  90.0 %\r",
      "    \u001b[36m\u001b[1mFetching:\u001b[22m\u001b[39m [========================================>]  100.0 %\r",
      "\u001b[2K\u001b[?25h"
     ]
    },
    {
     "name": "stderr",
     "output_type": "stream",
     "text": [
      "\u001b[32m\u001b[1m  Resolving\u001b[22m\u001b[39m package versions...\n",
      "\u001b[32m\u001b[1m  Installed\u001b[22m\u001b[39m BenchmarkTools ─ v0.5.0\n",
      "\u001b[32m\u001b[1m   Updating\u001b[22m\u001b[39m `~/.julia/environments/v1.4/Project.toml`\n",
      " \u001b[90m [6e4b80f9]\u001b[39m\u001b[92m + BenchmarkTools v0.5.0\u001b[39m\n",
      "\u001b[32m\u001b[1m   Updating\u001b[22m\u001b[39m `~/.julia/environments/v1.4/Manifest.toml`\n",
      " \u001b[90m [6e4b80f9]\u001b[39m\u001b[92m + BenchmarkTools v0.5.0\u001b[39m\n"
     ]
    }
   ],
   "source": [
    "using Pkg\n",
    "Pkg.add(\"BenchmarkTools\")"
   ]
  },
  {
   "cell_type": "code",
   "execution_count": 7,
   "metadata": {},
   "outputs": [
    {
     "name": "stderr",
     "output_type": "stream",
     "text": [
      "┌ Info: Precompiling BenchmarkTools [6e4b80f9-dd63-53aa-95a3-0cdb28fa8baf]\n",
      "└ @ Base loading.jl:1260\n"
     ]
    }
   ],
   "source": [
    "using BenchmarkTools"
   ]
  },
  {
   "cell_type": "markdown",
   "metadata": {},
   "source": [
    "#  1. The C language\n",
    "\n",
    "C is often considered the gold standard: difficult on the human, nice for the machine. Getting within a factor of 2 of C is often satisfying. Nonetheless, even within C, there are many kinds of optimizations possible that a naive C writer may or may not get the advantage of.\n",
    "\n",
    "The current author does not speak C, so he does not read the cell below, but is happy to know that you can put C code in a Julia session, compile it, and run it. Note that the `\"\"\"` wrap a multi-line string."
   ]
  },
  {
   "cell_type": "code",
   "execution_count": 8,
   "metadata": {},
   "outputs": [
    {
     "data": {
      "text/plain": [
       "c_sum (generic function with 1 method)"
      ]
     },
     "execution_count": 8,
     "metadata": {},
     "output_type": "execute_result"
    }
   ],
   "source": [
    "using Libdl\n",
    "C_code = \"\"\"\n",
    "#include <stddef.h>\n",
    "double c_sum(size_t n, double *X) {\n",
    "    double s = 0.0;\n",
    "    for (size_t i = 0; i < n; ++i) {\n",
    "        s += X[i];\n",
    "    }\n",
    "    return s;\n",
    "}\n",
    "\"\"\"\n",
    "\n",
    "const Clib = tempname()   # make a temporary file\n",
    "\n",
    "\n",
    "# compile to a shared library by piping C_code to gcc\n",
    "# (works only if you have gcc installed):\n",
    "\n",
    "open(`gcc -fPIC -O3 -msse3 -xc -shared -o $(Clib * \".\" * Libdl.dlext) -`, \"w\") do f\n",
    "    print(f, C_code)\n",
    "end\n",
    "\n",
    "# define a Julia function that calls the C function:\n",
    "c_sum(X::Array{Float64}) = ccall((\"c_sum\", Clib), Float64, (Csize_t, Ptr{Float64}), length(X), X)"
   ]
  },
  {
   "cell_type": "code",
   "execution_count": 9,
   "metadata": {},
   "outputs": [
    {
     "data": {
      "text/plain": [
       "5.001516419839441e6"
      ]
     },
     "execution_count": 9,
     "metadata": {},
     "output_type": "execute_result"
    }
   ],
   "source": [
    "c_sum(a)"
   ]
  },
  {
   "cell_type": "code",
   "execution_count": 10,
   "metadata": {},
   "outputs": [
    {
     "data": {
      "text/plain": [
       "true"
      ]
     },
     "execution_count": 10,
     "metadata": {},
     "output_type": "execute_result"
    }
   ],
   "source": [
    "c_sum(a) ≈ sum(a) # type \\approx and then <TAB> to get the ≈ symbolb"
   ]
  },
  {
   "cell_type": "code",
   "execution_count": 11,
   "metadata": {},
   "outputs": [
    {
     "data": {
      "text/plain": [
       "1.0514631867408752e-6"
      ]
     },
     "execution_count": 11,
     "metadata": {},
     "output_type": "execute_result"
    }
   ],
   "source": [
    "c_sum(a) - sum(a)"
   ]
  },
  {
   "cell_type": "code",
   "execution_count": 12,
   "metadata": {},
   "outputs": [
    {
     "data": {
      "text/plain": [
       "isapprox (generic function with 8 methods)"
      ]
     },
     "execution_count": 12,
     "metadata": {},
     "output_type": "execute_result"
    }
   ],
   "source": [
    "≈  # alias for the `isapprox` function"
   ]
  },
  {
   "cell_type": "code",
   "execution_count": 13,
   "metadata": {},
   "outputs": [
    {
     "name": "stdout",
     "output_type": "stream",
     "text": [
      "search: \u001b[0m\u001b[1mi\u001b[22m\u001b[0m\u001b[1ms\u001b[22m\u001b[0m\u001b[1ma\u001b[22m\u001b[0m\u001b[1mp\u001b[22m\u001b[0m\u001b[1mp\u001b[22m\u001b[0m\u001b[1mr\u001b[22m\u001b[0m\u001b[1mo\u001b[22m\u001b[0m\u001b[1mx\u001b[22m\n",
      "\n"
     ]
    },
    {
     "data": {
      "text/latex": [
       "\\begin{verbatim}\n",
       "isapprox(x, y; rtol::Real=atol>0 ? 0 : √eps, atol::Real=0, nans::Bool=false, norm::Function)\n",
       "\\end{verbatim}\n",
       "Inexact equality comparison: \\texttt{true} if \\texttt{norm(x-y) <= max(atol, rtol*max(norm(x), norm(y)))}. The default \\texttt{atol} is zero and the default \\texttt{rtol} depends on the types of \\texttt{x} and \\texttt{y}. The keyword argument \\texttt{nans} determines whether or not NaN values are considered equal (defaults to false).\n",
       "\n",
       "For real or complex floating-point values, if an \\texttt{atol > 0} is not specified, \\texttt{rtol} defaults to the square root of \\href{@ref}{\\texttt{eps}} of the type of \\texttt{x} or \\texttt{y}, whichever is bigger (least precise). This corresponds to requiring equality of about half of the significand digits. Otherwise, e.g. for integer arguments or if an \\texttt{atol > 0} is supplied, \\texttt{rtol} defaults to zero.\n",
       "\n",
       "\\texttt{x} and \\texttt{y} may also be arrays of numbers, in which case \\texttt{norm} defaults to the usual \\texttt{norm} function in LinearAlgebra, but may be changed by passing a \\texttt{norm::Function} keyword argument. (For numbers, \\texttt{norm} is the same thing as \\texttt{abs}.) When \\texttt{x} and \\texttt{y} are arrays, if \\texttt{norm(x-y)} is not finite (i.e. \\texttt{±Inf} or \\texttt{NaN}), the comparison falls back to checking whether all elements of \\texttt{x} and \\texttt{y} are approximately equal component-wise.\n",
       "\n",
       "The binary operator \\texttt{≈} is equivalent to \\texttt{isapprox} with the default arguments, and \\texttt{x ≉ y} is equivalent to \\texttt{!isapprox(x,y)}.\n",
       "\n",
       "Note that \\texttt{x ≈ 0} (i.e., comparing to zero with the default tolerances) is equivalent to \\texttt{x == 0} since the default \\texttt{atol} is \\texttt{0}.  In such cases, you should either supply an appropriate \\texttt{atol} (or use \\texttt{norm(x) ≤ atol}) or rearrange your code (e.g. use \\texttt{x ≈ y} rather than \\texttt{x - y ≈ 0}).   It is not possible to pick a nonzero \\texttt{atol} automatically because it depends on the overall scaling (the \"units\") of your problem: for example, in \\texttt{x - y ≈ 0}, \\texttt{atol=1e-9} is an absurdly small tolerance if \\texttt{x} is the \\href{https://en.wikipedia.org/wiki/Earth_radius}{radius of the Earth} in meters, but an absurdly large tolerance if \\texttt{x} is the \\href{https://en.wikipedia.org/wiki/Bohr_radius}{radius of a Hydrogen atom} in meters.\n",
       "\n",
       "\\section{Examples}\n",
       "\\begin{verbatim}\n",
       "julia> 0.1 ≈ (0.1 - 1e-10)\n",
       "true\n",
       "\n",
       "julia> isapprox(10, 11; atol = 2)\n",
       "true\n",
       "\n",
       "julia> isapprox([10.0^9, 1.0], [10.0^9, 2.0])\n",
       "true\n",
       "\n",
       "julia> 1e-10 ≈ 0\n",
       "false\n",
       "\n",
       "julia> isapprox(1e-10, 0, atol=1e-8)\n",
       "true\n",
       "\\end{verbatim}\n"
      ],
      "text/markdown": [
       "```\n",
       "isapprox(x, y; rtol::Real=atol>0 ? 0 : √eps, atol::Real=0, nans::Bool=false, norm::Function)\n",
       "```\n",
       "\n",
       "Inexact equality comparison: `true` if `norm(x-y) <= max(atol, rtol*max(norm(x), norm(y)))`. The default `atol` is zero and the default `rtol` depends on the types of `x` and `y`. The keyword argument `nans` determines whether or not NaN values are considered equal (defaults to false).\n",
       "\n",
       "For real or complex floating-point values, if an `atol > 0` is not specified, `rtol` defaults to the square root of [`eps`](@ref) of the type of `x` or `y`, whichever is bigger (least precise). This corresponds to requiring equality of about half of the significand digits. Otherwise, e.g. for integer arguments or if an `atol > 0` is supplied, `rtol` defaults to zero.\n",
       "\n",
       "`x` and `y` may also be arrays of numbers, in which case `norm` defaults to the usual `norm` function in LinearAlgebra, but may be changed by passing a `norm::Function` keyword argument. (For numbers, `norm` is the same thing as `abs`.) When `x` and `y` are arrays, if `norm(x-y)` is not finite (i.e. `±Inf` or `NaN`), the comparison falls back to checking whether all elements of `x` and `y` are approximately equal component-wise.\n",
       "\n",
       "The binary operator `≈` is equivalent to `isapprox` with the default arguments, and `x ≉ y` is equivalent to `!isapprox(x,y)`.\n",
       "\n",
       "Note that `x ≈ 0` (i.e., comparing to zero with the default tolerances) is equivalent to `x == 0` since the default `atol` is `0`.  In such cases, you should either supply an appropriate `atol` (or use `norm(x) ≤ atol`) or rearrange your code (e.g. use `x ≈ y` rather than `x - y ≈ 0`).   It is not possible to pick a nonzero `atol` automatically because it depends on the overall scaling (the \"units\") of your problem: for example, in `x - y ≈ 0`, `atol=1e-9` is an absurdly small tolerance if `x` is the [radius of the Earth](https://en.wikipedia.org/wiki/Earth_radius) in meters, but an absurdly large tolerance if `x` is the [radius of a Hydrogen atom](https://en.wikipedia.org/wiki/Bohr_radius) in meters.\n",
       "\n",
       "# Examples\n",
       "\n",
       "```jldoctest\n",
       "julia> 0.1 ≈ (0.1 - 1e-10)\n",
       "true\n",
       "\n",
       "julia> isapprox(10, 11; atol = 2)\n",
       "true\n",
       "\n",
       "julia> isapprox([10.0^9, 1.0], [10.0^9, 2.0])\n",
       "true\n",
       "\n",
       "julia> 1e-10 ≈ 0\n",
       "false\n",
       "\n",
       "julia> isapprox(1e-10, 0, atol=1e-8)\n",
       "true\n",
       "```\n"
      ],
      "text/plain": [
       "\u001b[36m  isapprox(x, y; rtol::Real=atol>0 ? 0 : √eps, atol::Real=0, nans::Bool=false, norm::Function)\u001b[39m\n",
       "\n",
       "  Inexact equality comparison: \u001b[36mtrue\u001b[39m if \u001b[36mnorm(x-y) <= max(atol,\n",
       "  rtol*max(norm(x), norm(y)))\u001b[39m. The default \u001b[36matol\u001b[39m is zero and the default \u001b[36mrtol\u001b[39m\n",
       "  depends on the types of \u001b[36mx\u001b[39m and \u001b[36my\u001b[39m. The keyword argument \u001b[36mnans\u001b[39m determines\n",
       "  whether or not NaN values are considered equal (defaults to false).\n",
       "\n",
       "  For real or complex floating-point values, if an \u001b[36matol > 0\u001b[39m is not specified,\n",
       "  \u001b[36mrtol\u001b[39m defaults to the square root of \u001b[36meps\u001b[39m of the type of \u001b[36mx\u001b[39m or \u001b[36my\u001b[39m, whichever is\n",
       "  bigger (least precise). This corresponds to requiring equality of about half\n",
       "  of the significand digits. Otherwise, e.g. for integer arguments or if an\n",
       "  \u001b[36matol > 0\u001b[39m is supplied, \u001b[36mrtol\u001b[39m defaults to zero.\n",
       "\n",
       "  \u001b[36mx\u001b[39m and \u001b[36my\u001b[39m may also be arrays of numbers, in which case \u001b[36mnorm\u001b[39m defaults to the\n",
       "  usual \u001b[36mnorm\u001b[39m function in LinearAlgebra, but may be changed by passing a\n",
       "  \u001b[36mnorm::Function\u001b[39m keyword argument. (For numbers, \u001b[36mnorm\u001b[39m is the same thing as\n",
       "  \u001b[36mabs\u001b[39m.) When \u001b[36mx\u001b[39m and \u001b[36my\u001b[39m are arrays, if \u001b[36mnorm(x-y)\u001b[39m is not finite (i.e. \u001b[36m±Inf\u001b[39m or\n",
       "  \u001b[36mNaN\u001b[39m), the comparison falls back to checking whether all elements of \u001b[36mx\u001b[39m and \u001b[36my\u001b[39m\n",
       "  are approximately equal component-wise.\n",
       "\n",
       "  The binary operator \u001b[36m≈\u001b[39m is equivalent to \u001b[36misapprox\u001b[39m with the default arguments,\n",
       "  and \u001b[36mx ≉ y\u001b[39m is equivalent to \u001b[36m!isapprox(x,y)\u001b[39m.\n",
       "\n",
       "  Note that \u001b[36mx ≈ 0\u001b[39m (i.e., comparing to zero with the default tolerances) is\n",
       "  equivalent to \u001b[36mx == 0\u001b[39m since the default \u001b[36matol\u001b[39m is \u001b[36m0\u001b[39m. In such cases, you should\n",
       "  either supply an appropriate \u001b[36matol\u001b[39m (or use \u001b[36mnorm(x) ≤ atol\u001b[39m) or rearrange your\n",
       "  code (e.g. use \u001b[36mx ≈ y\u001b[39m rather than \u001b[36mx - y ≈ 0\u001b[39m). It is not possible to pick a\n",
       "  nonzero \u001b[36matol\u001b[39m automatically because it depends on the overall scaling (the\n",
       "  \"units\") of your problem: for example, in \u001b[36mx - y ≈ 0\u001b[39m, \u001b[36matol=1e-9\u001b[39m is an\n",
       "  absurdly small tolerance if \u001b[36mx\u001b[39m is the radius of the Earth\n",
       "  (https://en.wikipedia.org/wiki/Earth_radius) in meters, but an absurdly\n",
       "  large tolerance if \u001b[36mx\u001b[39m is the radius of a Hydrogen atom\n",
       "  (https://en.wikipedia.org/wiki/Bohr_radius) in meters.\n",
       "\n",
       "\u001b[1m  Examples\u001b[22m\n",
       "\u001b[1m  ≡≡≡≡≡≡≡≡≡≡\u001b[22m\n",
       "\n",
       "\u001b[36m  julia> 0.1 ≈ (0.1 - 1e-10)\u001b[39m\n",
       "\u001b[36m  true\u001b[39m\n",
       "\u001b[36m  \u001b[39m\n",
       "\u001b[36m  julia> isapprox(10, 11; atol = 2)\u001b[39m\n",
       "\u001b[36m  true\u001b[39m\n",
       "\u001b[36m  \u001b[39m\n",
       "\u001b[36m  julia> isapprox([10.0^9, 1.0], [10.0^9, 2.0])\u001b[39m\n",
       "\u001b[36m  true\u001b[39m\n",
       "\u001b[36m  \u001b[39m\n",
       "\u001b[36m  julia> 1e-10 ≈ 0\u001b[39m\n",
       "\u001b[36m  false\u001b[39m\n",
       "\u001b[36m  \u001b[39m\n",
       "\u001b[36m  julia> isapprox(1e-10, 0, atol=1e-8)\u001b[39m\n",
       "\u001b[36m  true\u001b[39m"
      ]
     },
     "execution_count": 13,
     "metadata": {},
     "output_type": "execute_result"
    }
   ],
   "source": [
    "?isapprox"
   ]
  },
  {
   "cell_type": "markdown",
   "metadata": {},
   "source": [
    "We can now benchmark the C code directly from Julia:"
   ]
  },
  {
   "cell_type": "code",
   "execution_count": 14,
   "metadata": {},
   "outputs": [
    {
     "data": {
      "text/plain": [
       "BenchmarkTools.Trial: \n",
       "  memory estimate:  0 bytes\n",
       "  allocs estimate:  0\n",
       "  --------------\n",
       "  minimum time:     11.218 ms (0.00% GC)\n",
       "  median time:      11.317 ms (0.00% GC)\n",
       "  mean time:        11.347 ms (0.00% GC)\n",
       "  maximum time:     13.981 ms (0.00% GC)\n",
       "  --------------\n",
       "  samples:          441\n",
       "  evals/sample:     1"
      ]
     },
     "execution_count": 14,
     "metadata": {},
     "output_type": "execute_result"
    }
   ],
   "source": [
    "c_bench = @benchmark c_sum($a)"
   ]
  },
  {
   "cell_type": "code",
   "execution_count": 15,
   "metadata": {},
   "outputs": [
    {
     "name": "stdout",
     "output_type": "stream",
     "text": [
      "C: Fastest time was 11.217761 msec\n"
     ]
    }
   ],
   "source": [
    "println(\"C: Fastest time was $(minimum(c_bench.times) / 1e6) msec\")"
   ]
  },
  {
   "cell_type": "code",
   "execution_count": 16,
   "metadata": {},
   "outputs": [
    {
     "data": {
      "text/plain": [
       "Dict{Any,Any} with 1 entry:\n",
       "  \"C\" => 11.2178"
      ]
     },
     "execution_count": 16,
     "metadata": {},
     "output_type": "execute_result"
    }
   ],
   "source": [
    "d = Dict()  # a \"dictionary\", i.e. an associative array\n",
    "d[\"C\"] = minimum(c_bench.times) / 1e6  # in milliseconds\n",
    "d"
   ]
  },
  {
   "cell_type": "code",
   "execution_count": 17,
   "metadata": {},
   "outputs": [
    {
     "data": {
      "text/plain": [
       "Plots.GRBackend()"
      ]
     },
     "execution_count": 17,
     "metadata": {},
     "output_type": "execute_result"
    }
   ],
   "source": [
    "using Plots\n",
    "gr()"
   ]
  },
  {
   "cell_type": "code",
   "execution_count": 18,
   "metadata": {},
   "outputs": [
    {
     "data": {
      "image/svg+xml": [
       "<?xml version=\"1.0\" encoding=\"utf-8\"?>\n",
       "<svg xmlns=\"http://www.w3.org/2000/svg\" xmlns:xlink=\"http://www.w3.org/1999/xlink\" width=\"600\" height=\"400\" viewBox=\"0 0 2400 1600\">\n",
       "<defs>\n",
       "  <clipPath id=\"clip100\">\n",
       "    <rect x=\"0\" y=\"0\" width=\"2400\" height=\"1600\"/>\n",
       "  </clipPath>\n",
       "</defs>\n",
       "<path clip-path=\"url(#clip100)\" d=\"\n",
       "M0 1600 L2400 1600 L2400 0 L0 0  Z\n",
       "  \" fill=\"#ffffff\" fill-rule=\"evenodd\" fill-opacity=\"1\"/>\n",
       "<defs>\n",
       "  <clipPath id=\"clip101\">\n",
       "    <rect x=\"480\" y=\"0\" width=\"1681\" height=\"1600\"/>\n",
       "  </clipPath>\n",
       "</defs>\n",
       "<path clip-path=\"url(#clip100)\" d=\"\n",
       "M223.269 1423.18 L2352.76 1423.18 L2352.76 47.2441 L223.269 47.2441  Z\n",
       "  \" fill=\"#ffffff\" fill-rule=\"evenodd\" fill-opacity=\"1\"/>\n",
       "<defs>\n",
       "  <clipPath id=\"clip102\">\n",
       "    <rect x=\"223\" y=\"47\" width=\"2130\" height=\"1377\"/>\n",
       "  </clipPath>\n",
       "</defs>\n",
       "<polyline clip-path=\"url(#clip102)\" style=\"stroke:#000000; stroke-width:2; stroke-opacity:0.1; fill:none\" points=\"\n",
       "  596.128,1423.18 596.128,47.2441 \n",
       "  \"/>\n",
       "<polyline clip-path=\"url(#clip102)\" style=\"stroke:#000000; stroke-width:2; stroke-opacity:0.1; fill:none\" points=\"\n",
       "  1037.5,1423.18 1037.5,47.2441 \n",
       "  \"/>\n",
       "<polyline clip-path=\"url(#clip102)\" style=\"stroke:#000000; stroke-width:2; stroke-opacity:0.1; fill:none\" points=\"\n",
       "  1478.87,1423.18 1478.87,47.2441 \n",
       "  \"/>\n",
       "<polyline clip-path=\"url(#clip102)\" style=\"stroke:#000000; stroke-width:2; stroke-opacity:0.1; fill:none\" points=\"\n",
       "  1920.23,1423.18 1920.23,47.2441 \n",
       "  \"/>\n",
       "<polyline clip-path=\"url(#clip102)\" style=\"stroke:#000000; stroke-width:2; stroke-opacity:0.1; fill:none\" points=\"\n",
       "  223.269,1384.24 2352.76,1384.24 \n",
       "  \"/>\n",
       "<polyline clip-path=\"url(#clip102)\" style=\"stroke:#000000; stroke-width:2; stroke-opacity:0.1; fill:none\" points=\"\n",
       "  223.269,1115.68 2352.76,1115.68 \n",
       "  \"/>\n",
       "<polyline clip-path=\"url(#clip102)\" style=\"stroke:#000000; stroke-width:2; stroke-opacity:0.1; fill:none\" points=\"\n",
       "  223.269,847.113 2352.76,847.113 \n",
       "  \"/>\n",
       "<polyline clip-path=\"url(#clip102)\" style=\"stroke:#000000; stroke-width:2; stroke-opacity:0.1; fill:none\" points=\"\n",
       "  223.269,578.55 2352.76,578.55 \n",
       "  \"/>\n",
       "<polyline clip-path=\"url(#clip102)\" style=\"stroke:#000000; stroke-width:2; stroke-opacity:0.1; fill:none\" points=\"\n",
       "  223.269,309.988 2352.76,309.988 \n",
       "  \"/>\n",
       "<polyline clip-path=\"url(#clip100)\" style=\"stroke:#000000; stroke-width:4; stroke-opacity:1; fill:none\" points=\"\n",
       "  223.269,1423.18 2352.76,1423.18 \n",
       "  \"/>\n",
       "<polyline clip-path=\"url(#clip100)\" style=\"stroke:#000000; stroke-width:4; stroke-opacity:1; fill:none\" points=\"\n",
       "  223.269,1423.18 223.269,47.2441 \n",
       "  \"/>\n",
       "<polyline clip-path=\"url(#clip100)\" style=\"stroke:#000000; stroke-width:4; stroke-opacity:1; fill:none\" points=\"\n",
       "  596.128,1423.18 596.128,1406.67 \n",
       "  \"/>\n",
       "<polyline clip-path=\"url(#clip100)\" style=\"stroke:#000000; stroke-width:4; stroke-opacity:1; fill:none\" points=\"\n",
       "  1037.5,1423.18 1037.5,1406.67 \n",
       "  \"/>\n",
       "<polyline clip-path=\"url(#clip100)\" style=\"stroke:#000000; stroke-width:4; stroke-opacity:1; fill:none\" points=\"\n",
       "  1478.87,1423.18 1478.87,1406.67 \n",
       "  \"/>\n",
       "<polyline clip-path=\"url(#clip100)\" style=\"stroke:#000000; stroke-width:4; stroke-opacity:1; fill:none\" points=\"\n",
       "  1920.23,1423.18 1920.23,1406.67 \n",
       "  \"/>\n",
       "<polyline clip-path=\"url(#clip100)\" style=\"stroke:#000000; stroke-width:4; stroke-opacity:1; fill:none\" points=\"\n",
       "  223.269,1384.24 248.823,1384.24 \n",
       "  \"/>\n",
       "<polyline clip-path=\"url(#clip100)\" style=\"stroke:#000000; stroke-width:4; stroke-opacity:1; fill:none\" points=\"\n",
       "  223.269,1115.68 248.823,1115.68 \n",
       "  \"/>\n",
       "<polyline clip-path=\"url(#clip100)\" style=\"stroke:#000000; stroke-width:4; stroke-opacity:1; fill:none\" points=\"\n",
       "  223.269,847.113 248.823,847.113 \n",
       "  \"/>\n",
       "<polyline clip-path=\"url(#clip100)\" style=\"stroke:#000000; stroke-width:4; stroke-opacity:1; fill:none\" points=\"\n",
       "  223.269,578.55 248.823,578.55 \n",
       "  \"/>\n",
       "<polyline clip-path=\"url(#clip100)\" style=\"stroke:#000000; stroke-width:4; stroke-opacity:1; fill:none\" points=\"\n",
       "  223.269,309.988 248.823,309.988 \n",
       "  \"/>\n",
       "<path clip-path=\"url(#clip100)\" d=\"M 0 0 M542.923 1472.72 L550.562 1472.72 L550.562 1446.35 L542.251 1448.02 L542.251 1443.76 L550.515 1442.09 L555.191 1442.09 L555.191 1472.72 L562.83 1472.72 L562.83 1476.65 L542.923 1476.65 L542.923 1472.72 Z\" fill=\"#000000\" fill-rule=\"evenodd\" fill-opacity=\"1\" /><path clip-path=\"url(#clip100)\" d=\"M 0 0 M568.71 1472.72 L576.348 1472.72 L576.348 1446.35 L568.038 1448.02 L568.038 1443.76 L576.302 1442.09 L580.978 1442.09 L580.978 1472.72 L588.617 1472.72 L588.617 1476.65 L568.71 1476.65 L568.71 1472.72 Z\" fill=\"#000000\" fill-rule=\"evenodd\" fill-opacity=\"1\" /><path clip-path=\"url(#clip100)\" d=\"M 0 0 M593.686 1470.77 L598.571 1470.77 L598.571 1476.65 L593.686 1476.65 L593.686 1470.77 Z\" fill=\"#000000\" fill-rule=\"evenodd\" fill-opacity=\"1\" /><path clip-path=\"url(#clip100)\" d=\"M 0 0 M607.668 1472.72 L623.987 1472.72 L623.987 1476.65 L602.043 1476.65 L602.043 1472.72 Q604.705 1469.96 609.288 1465.33 Q613.895 1460.68 615.075 1459.34 Q617.32 1456.81 618.2 1455.08 Q619.103 1453.32 619.103 1451.63 Q619.103 1448.87 617.158 1447.14 Q615.237 1445.4 612.135 1445.4 Q609.936 1445.4 607.483 1446.17 Q605.052 1446.93 602.274 1448.48 L602.274 1443.76 Q605.098 1442.62 607.552 1442.05 Q610.006 1441.47 612.043 1441.47 Q617.413 1441.47 620.607 1444.15 Q623.802 1446.84 623.802 1451.33 Q623.802 1453.46 622.992 1455.38 Q622.205 1457.28 620.098 1459.87 Q619.52 1460.54 616.418 1463.76 Q613.316 1466.95 607.668 1472.72 Z\" fill=\"#000000\" fill-rule=\"evenodd\" fill-opacity=\"1\" /><path clip-path=\"url(#clip100)\" d=\"M 0 0 M629.103 1442.09 L647.459 1442.09 L647.459 1446.03 L633.385 1446.03 L633.385 1454.5 Q634.404 1454.15 635.422 1453.99 Q636.441 1453.8 637.459 1453.8 Q643.246 1453.8 646.626 1456.98 Q650.005 1460.15 650.005 1465.56 Q650.005 1471.14 646.533 1474.24 Q643.061 1477.32 636.742 1477.32 Q634.566 1477.32 632.297 1476.95 Q630.052 1476.58 627.644 1475.84 L627.644 1471.14 Q629.728 1472.28 631.95 1472.83 Q634.172 1473.39 636.649 1473.39 Q640.654 1473.39 642.992 1471.28 Q645.33 1469.18 645.33 1465.56 Q645.33 1461.95 642.992 1459.85 Q640.654 1457.74 636.649 1457.74 Q634.774 1457.74 632.899 1458.16 Q631.047 1458.57 629.103 1459.45 L629.103 1442.09 Z\" fill=\"#000000\" fill-rule=\"evenodd\" fill-opacity=\"1\" /><path clip-path=\"url(#clip100)\" d=\"M 0 0 M983.319 1472.72 L990.958 1472.72 L990.958 1446.35 L982.648 1448.02 L982.648 1443.76 L990.912 1442.09 L995.588 1442.09 L995.588 1472.72 L1003.23 1472.72 L1003.23 1476.65 L983.319 1476.65 L983.319 1472.72 Z\" fill=\"#000000\" fill-rule=\"evenodd\" fill-opacity=\"1\" /><path clip-path=\"url(#clip100)\" d=\"M 0 0 M1009.11 1472.72 L1016.74 1472.72 L1016.74 1446.35 L1008.43 1448.02 L1008.43 1443.76 L1016.7 1442.09 L1021.37 1442.09 L1021.37 1472.72 L1029.01 1472.72 L1029.01 1476.65 L1009.11 1476.65 L1009.11 1472.72 Z\" fill=\"#000000\" fill-rule=\"evenodd\" fill-opacity=\"1\" /><path clip-path=\"url(#clip100)\" d=\"M 0 0 M1034.08 1470.77 L1038.97 1470.77 L1038.97 1476.65 L1034.08 1476.65 L1034.08 1470.77 Z\" fill=\"#000000\" fill-rule=\"evenodd\" fill-opacity=\"1\" /><path clip-path=\"url(#clip100)\" d=\"M 0 0 M1058.2 1458.02 Q1061.56 1458.74 1063.43 1461 Q1065.33 1463.27 1065.33 1466.61 Q1065.33 1471.72 1061.81 1474.52 Q1058.3 1477.32 1051.81 1477.32 Q1049.64 1477.32 1047.32 1476.88 Q1045.03 1476.47 1042.58 1475.61 L1042.58 1471.1 Q1044.52 1472.23 1046.84 1472.81 Q1049.15 1473.39 1051.68 1473.39 Q1056.07 1473.39 1058.37 1471.65 Q1060.68 1469.92 1060.68 1466.61 Q1060.68 1463.55 1058.53 1461.84 Q1056.4 1460.1 1052.58 1460.1 L1048.55 1460.1 L1048.55 1456.26 L1052.76 1456.26 Q1056.21 1456.26 1058.04 1454.89 Q1059.87 1453.5 1059.87 1450.91 Q1059.87 1448.25 1057.97 1446.84 Q1056.1 1445.4 1052.58 1445.4 Q1050.66 1445.4 1048.46 1445.82 Q1046.26 1446.24 1043.62 1447.11 L1043.62 1442.95 Q1046.28 1442.21 1048.6 1441.84 Q1050.93 1441.47 1052.99 1441.47 Q1058.32 1441.47 1061.42 1443.9 Q1064.52 1446.3 1064.52 1450.43 Q1064.52 1453.3 1062.88 1455.29 Q1061.24 1457.25 1058.2 1458.02 Z\" fill=\"#000000\" fill-rule=\"evenodd\" fill-opacity=\"1\" /><path clip-path=\"url(#clip100)\" d=\"M 0 0 M1080.4 1445.17 Q1076.79 1445.17 1074.96 1448.74 Q1073.16 1452.28 1073.16 1459.41 Q1073.16 1466.51 1074.96 1470.08 Q1076.79 1473.62 1080.4 1473.62 Q1084.04 1473.62 1085.84 1470.08 Q1087.67 1466.51 1087.67 1459.41 Q1087.67 1452.28 1085.84 1448.74 Q1084.04 1445.17 1080.4 1445.17 M1080.4 1441.47 Q1086.21 1441.47 1089.27 1446.07 Q1092.35 1450.66 1092.35 1459.41 Q1092.35 1468.13 1089.27 1472.74 Q1086.21 1477.32 1080.4 1477.32 Q1074.59 1477.32 1071.51 1472.74 Q1068.46 1468.13 1068.46 1459.41 Q1068.46 1450.66 1071.51 1446.07 Q1074.59 1441.47 1080.4 1441.47 Z\" fill=\"#000000\" fill-rule=\"evenodd\" fill-opacity=\"1\" /><path clip-path=\"url(#clip100)\" d=\"M 0 0 M1425.19 1472.72 L1432.82 1472.72 L1432.82 1446.35 L1424.51 1448.02 L1424.51 1443.76 L1432.78 1442.09 L1437.45 1442.09 L1437.45 1472.72 L1445.09 1472.72 L1445.09 1476.65 L1425.19 1476.65 L1425.19 1472.72 Z\" fill=\"#000000\" fill-rule=\"evenodd\" fill-opacity=\"1\" /><path clip-path=\"url(#clip100)\" d=\"M 0 0 M1450.97 1472.72 L1458.61 1472.72 L1458.61 1446.35 L1450.3 1448.02 L1450.3 1443.76 L1458.56 1442.09 L1463.24 1442.09 L1463.24 1472.72 L1470.88 1472.72 L1470.88 1476.65 L1450.97 1476.65 L1450.97 1472.72 Z\" fill=\"#000000\" fill-rule=\"evenodd\" fill-opacity=\"1\" /><path clip-path=\"url(#clip100)\" d=\"M 0 0 M1475.95 1470.77 L1480.83 1470.77 L1480.83 1476.65 L1475.95 1476.65 L1475.95 1470.77 Z\" fill=\"#000000\" fill-rule=\"evenodd\" fill-opacity=\"1\" /><path clip-path=\"url(#clip100)\" d=\"M 0 0 M1500.07 1458.02 Q1503.43 1458.74 1505.3 1461 Q1507.2 1463.27 1507.2 1466.61 Q1507.2 1471.72 1503.68 1474.52 Q1500.16 1477.32 1493.68 1477.32 Q1491.5 1477.32 1489.19 1476.88 Q1486.9 1476.47 1484.44 1475.61 L1484.44 1471.1 Q1486.39 1472.23 1488.7 1472.81 Q1491.02 1473.39 1493.54 1473.39 Q1497.94 1473.39 1500.23 1471.65 Q1502.55 1469.92 1502.55 1466.61 Q1502.55 1463.55 1500.39 1461.84 Q1498.26 1460.1 1494.44 1460.1 L1490.42 1460.1 L1490.42 1456.26 L1494.63 1456.26 Q1498.08 1456.26 1499.91 1454.89 Q1501.74 1453.5 1501.74 1450.91 Q1501.74 1448.25 1499.84 1446.84 Q1497.96 1445.4 1494.44 1445.4 Q1492.52 1445.4 1490.32 1445.82 Q1488.12 1446.24 1485.49 1447.11 L1485.49 1442.95 Q1488.15 1442.21 1490.46 1441.84 Q1492.8 1441.47 1494.86 1441.47 Q1500.19 1441.47 1503.29 1443.9 Q1506.39 1446.3 1506.39 1450.43 Q1506.39 1453.3 1504.75 1455.29 Q1503.1 1457.25 1500.07 1458.02 Z\" fill=\"#000000\" fill-rule=\"evenodd\" fill-opacity=\"1\" /><path clip-path=\"url(#clip100)\" d=\"M 0 0 M1512.31 1442.09 L1530.67 1442.09 L1530.67 1446.03 L1516.6 1446.03 L1516.6 1454.5 Q1517.62 1454.15 1518.63 1453.99 Q1519.65 1453.8 1520.67 1453.8 Q1526.46 1453.8 1529.84 1456.98 Q1533.22 1460.15 1533.22 1465.56 Q1533.22 1471.14 1529.75 1474.24 Q1526.27 1477.32 1519.95 1477.32 Q1517.78 1477.32 1515.51 1476.95 Q1513.26 1476.58 1510.86 1475.84 L1510.86 1471.14 Q1512.94 1472.28 1515.16 1472.83 Q1517.38 1473.39 1519.86 1473.39 Q1523.87 1473.39 1526.2 1471.28 Q1528.54 1469.18 1528.54 1465.56 Q1528.54 1461.95 1526.2 1459.85 Q1523.87 1457.74 1519.86 1457.74 Q1517.99 1457.74 1516.11 1458.16 Q1514.26 1458.57 1512.31 1459.45 L1512.31 1442.09 Z\" fill=\"#000000\" fill-rule=\"evenodd\" fill-opacity=\"1\" /><path clip-path=\"url(#clip100)\" d=\"M 0 0 M1865.49 1472.72 L1873.13 1472.72 L1873.13 1446.35 L1864.82 1448.02 L1864.82 1443.76 L1873.08 1442.09 L1877.76 1442.09 L1877.76 1472.72 L1885.4 1472.72 L1885.4 1476.65 L1865.49 1476.65 L1865.49 1472.72 Z\" fill=\"#000000\" fill-rule=\"evenodd\" fill-opacity=\"1\" /><path clip-path=\"url(#clip100)\" d=\"M 0 0 M1891.28 1472.72 L1898.92 1472.72 L1898.92 1446.35 L1890.6 1448.02 L1890.6 1443.76 L1898.87 1442.09 L1903.54 1442.09 L1903.54 1472.72 L1911.18 1472.72 L1911.18 1476.65 L1891.28 1476.65 L1891.28 1472.72 Z\" fill=\"#000000\" fill-rule=\"evenodd\" fill-opacity=\"1\" /><path clip-path=\"url(#clip100)\" d=\"M 0 0 M1916.25 1470.77 L1921.14 1470.77 L1921.14 1476.65 L1916.25 1476.65 L1916.25 1470.77 Z\" fill=\"#000000\" fill-rule=\"evenodd\" fill-opacity=\"1\" /><path clip-path=\"url(#clip100)\" d=\"M 0 0 M1939.05 1446.17 L1927.25 1464.61 L1939.05 1464.61 L1939.05 1446.17 M1937.83 1442.09 L1943.71 1442.09 L1943.71 1464.61 L1948.64 1464.61 L1948.64 1468.5 L1943.71 1468.5 L1943.71 1476.65 L1939.05 1476.65 L1939.05 1468.5 L1923.45 1468.5 L1923.45 1463.99 L1937.83 1442.09 Z\" fill=\"#000000\" fill-rule=\"evenodd\" fill-opacity=\"1\" /><path clip-path=\"url(#clip100)\" d=\"M 0 0 M1963.71 1445.17 Q1960.1 1445.17 1958.27 1448.74 Q1956.46 1452.28 1956.46 1459.41 Q1956.46 1466.51 1958.27 1470.08 Q1960.1 1473.62 1963.71 1473.62 Q1967.34 1473.62 1969.15 1470.08 Q1970.97 1466.51 1970.97 1459.41 Q1970.97 1452.28 1969.15 1448.74 Q1967.34 1445.17 1963.71 1445.17 M1963.71 1441.47 Q1969.52 1441.47 1972.57 1446.07 Q1975.65 1450.66 1975.65 1459.41 Q1975.65 1468.13 1972.57 1472.74 Q1969.52 1477.32 1963.71 1477.32 Q1957.9 1477.32 1954.82 1472.74 Q1951.76 1468.13 1951.76 1459.41 Q1951.76 1450.66 1954.82 1446.07 Q1957.9 1441.47 1963.71 1441.47 Z\" fill=\"#000000\" fill-rule=\"evenodd\" fill-opacity=\"1\" /><path clip-path=\"url(#clip100)\" d=\"M 0 0 M187.325 1370.04 Q183.714 1370.04 181.885 1373.6 Q180.079 1377.14 180.079 1384.27 Q180.079 1391.38 181.885 1394.94 Q183.714 1398.49 187.325 1398.49 Q190.959 1398.49 192.764 1394.94 Q194.593 1391.38 194.593 1384.27 Q194.593 1377.14 192.764 1373.6 Q190.959 1370.04 187.325 1370.04 M187.325 1366.33 Q193.135 1366.33 196.19 1370.94 Q199.269 1375.52 199.269 1384.27 Q199.269 1393 196.19 1397.61 Q193.135 1402.19 187.325 1402.19 Q181.514 1402.19 178.436 1397.61 Q175.38 1393 175.38 1384.27 Q175.38 1375.52 178.436 1370.94 Q181.514 1366.33 187.325 1366.33 Z\" fill=\"#000000\" fill-rule=\"evenodd\" fill-opacity=\"1\" /><path clip-path=\"url(#clip100)\" d=\"M 0 0 M165.126 1114.32 Q168.482 1115.04 170.357 1117.31 Q172.255 1119.58 172.255 1122.91 Q172.255 1128.03 168.737 1130.83 Q165.218 1133.63 158.737 1133.63 Q156.561 1133.63 154.246 1133.19 Q151.954 1132.77 149.501 1131.91 L149.501 1127.4 Q151.445 1128.53 153.76 1129.11 Q156.075 1129.69 158.598 1129.69 Q162.996 1129.69 165.288 1127.96 Q167.603 1126.22 167.603 1122.91 Q167.603 1119.85 165.45 1118.14 Q163.32 1116.4 159.501 1116.4 L155.473 1116.4 L155.473 1112.56 L159.686 1112.56 Q163.135 1112.56 164.964 1111.2 Q166.792 1109.81 166.792 1107.22 Q166.792 1104.55 164.894 1103.14 Q163.019 1101.71 159.501 1101.71 Q157.579 1101.71 155.38 1102.12 Q153.181 1102.54 150.542 1103.42 L150.542 1099.25 Q153.204 1098.51 155.519 1098.14 Q157.857 1097.77 159.917 1097.77 Q165.241 1097.77 168.343 1100.2 Q171.445 1102.61 171.445 1106.73 Q171.445 1109.6 169.802 1111.59 Q168.158 1113.56 165.126 1114.32 Z\" fill=\"#000000\" fill-rule=\"evenodd\" fill-opacity=\"1\" /><path clip-path=\"url(#clip100)\" d=\"M 0 0 M187.325 1101.47 Q183.714 1101.47 181.885 1105.04 Q180.079 1108.58 180.079 1115.71 Q180.079 1122.82 181.885 1126.38 Q183.714 1129.92 187.325 1129.92 Q190.959 1129.92 192.764 1126.38 Q194.593 1122.82 194.593 1115.71 Q194.593 1108.58 192.764 1105.04 Q190.959 1101.47 187.325 1101.47 M187.325 1097.77 Q193.135 1097.77 196.19 1102.38 Q199.269 1106.96 199.269 1115.71 Q199.269 1124.44 196.19 1129.04 Q193.135 1133.63 187.325 1133.63 Q181.514 1133.63 178.436 1129.04 Q175.38 1124.44 175.38 1115.71 Q175.38 1106.96 178.436 1102.38 Q181.514 1097.77 187.325 1097.77 Z\" fill=\"#000000\" fill-rule=\"evenodd\" fill-opacity=\"1\" /><path clip-path=\"url(#clip100)\" d=\"M 0 0 M160.728 845.25 Q157.579 845.25 155.728 847.402 Q153.899 849.555 153.899 853.305 Q153.899 857.032 155.728 859.208 Q157.579 861.361 160.728 861.361 Q163.876 861.361 165.704 859.208 Q167.556 857.032 167.556 853.305 Q167.556 849.555 165.704 847.402 Q163.876 845.25 160.728 845.25 M170.01 830.597 L170.01 834.856 Q168.251 834.023 166.445 833.583 Q164.663 833.143 162.903 833.143 Q158.274 833.143 155.82 836.268 Q153.39 839.393 153.042 845.713 Q154.408 843.699 156.468 842.634 Q158.529 841.546 161.005 841.546 Q166.214 841.546 169.223 844.717 Q172.255 847.865 172.255 853.305 Q172.255 858.629 169.107 861.847 Q165.959 865.064 160.728 865.064 Q154.732 865.064 151.561 860.481 Q148.39 855.875 148.39 847.148 Q148.39 838.953 152.279 834.092 Q156.167 829.208 162.718 829.208 Q164.478 829.208 166.26 829.555 Q168.065 829.902 170.01 830.597 Z\" fill=\"#000000\" fill-rule=\"evenodd\" fill-opacity=\"1\" /><path clip-path=\"url(#clip100)\" d=\"M 0 0 M187.325 832.912 Q183.714 832.912 181.885 836.477 Q180.079 840.018 180.079 847.148 Q180.079 854.254 181.885 857.819 Q183.714 861.361 187.325 861.361 Q190.959 861.361 192.764 857.819 Q194.593 854.254 194.593 847.148 Q194.593 840.018 192.764 836.477 Q190.959 832.912 187.325 832.912 M187.325 829.208 Q193.135 829.208 196.19 833.815 Q199.269 838.398 199.269 847.148 Q199.269 855.875 196.19 860.481 Q193.135 865.064 187.325 865.064 Q181.514 865.064 178.436 860.481 Q175.38 855.875 175.38 847.148 Q175.38 838.398 178.436 833.815 Q181.514 829.208 187.325 829.208 Z\" fill=\"#000000\" fill-rule=\"evenodd\" fill-opacity=\"1\" /><path clip-path=\"url(#clip100)\" d=\"M 0 0 M150.635 595.113 L150.635 590.854 Q152.394 591.687 154.2 592.127 Q156.005 592.567 157.741 592.567 Q162.371 592.567 164.802 589.465 Q167.255 586.34 167.603 579.997 Q166.26 581.988 164.2 583.053 Q162.14 584.118 159.64 584.118 Q154.454 584.118 151.422 580.993 Q148.413 577.844 148.413 572.405 Q148.413 567.081 151.561 563.863 Q154.709 560.645 159.941 560.645 Q165.936 560.645 169.084 565.252 Q172.255 569.835 172.255 578.585 Q172.255 586.756 168.366 591.641 Q164.501 596.502 157.95 596.502 Q156.191 596.502 154.385 596.155 Q152.579 595.807 150.635 595.113 M159.941 580.46 Q163.089 580.46 164.917 578.307 Q166.769 576.155 166.769 572.405 Q166.769 568.678 164.917 566.525 Q163.089 564.349 159.941 564.349 Q156.792 564.349 154.941 566.525 Q153.112 568.678 153.112 572.405 Q153.112 576.155 154.941 578.307 Q156.792 580.46 159.941 580.46 Z\" fill=\"#000000\" fill-rule=\"evenodd\" fill-opacity=\"1\" /><path clip-path=\"url(#clip100)\" d=\"M 0 0 M187.325 564.349 Q183.714 564.349 181.885 567.914 Q180.079 571.456 180.079 578.585 Q180.079 585.692 181.885 589.256 Q183.714 592.798 187.325 592.798 Q190.959 592.798 192.764 589.256 Q194.593 585.692 194.593 578.585 Q194.593 571.456 192.764 567.914 Q190.959 564.349 187.325 564.349 M187.325 560.645 Q193.135 560.645 196.19 565.252 Q199.269 569.835 199.269 578.585 Q199.269 587.312 196.19 591.918 Q193.135 596.502 187.325 596.502 Q181.514 596.502 178.436 591.918 Q175.38 587.312 175.38 578.585 Q175.38 569.835 178.436 565.252 Q181.514 560.645 187.325 560.645 Z\" fill=\"#000000\" fill-rule=\"evenodd\" fill-opacity=\"1\" /><path clip-path=\"url(#clip100)\" d=\"M 0 0 M126.931 323.333 L134.57 323.333 L134.57 296.967 L126.26 298.634 L126.26 294.375 L134.524 292.708 L139.2 292.708 L139.2 323.333 L146.839 323.333 L146.839 327.268 L126.931 327.268 L126.931 323.333 Z\" fill=\"#000000\" fill-rule=\"evenodd\" fill-opacity=\"1\" /><path clip-path=\"url(#clip100)\" d=\"M 0 0 M155.936 323.333 L172.255 323.333 L172.255 327.268 L150.311 327.268 L150.311 323.333 Q152.973 320.578 157.556 315.948 Q162.163 311.296 163.343 309.953 Q165.589 307.43 166.468 305.694 Q167.371 303.935 167.371 302.245 Q167.371 299.49 165.427 297.754 Q163.505 296.018 160.403 296.018 Q158.204 296.018 155.751 296.782 Q153.32 297.546 150.542 299.097 L150.542 294.375 Q153.366 293.24 155.82 292.662 Q158.274 292.083 160.311 292.083 Q165.681 292.083 168.876 294.768 Q172.07 297.453 172.07 301.944 Q172.07 304.074 171.26 305.995 Q170.473 307.893 168.366 310.486 Q167.788 311.157 164.686 314.374 Q161.584 317.569 155.936 323.333 Z\" fill=\"#000000\" fill-rule=\"evenodd\" fill-opacity=\"1\" /><path clip-path=\"url(#clip100)\" d=\"M 0 0 M187.325 295.787 Q183.714 295.787 181.885 299.351 Q180.079 302.893 180.079 310.023 Q180.079 317.129 181.885 320.694 Q183.714 324.235 187.325 324.235 Q190.959 324.235 192.764 320.694 Q194.593 317.129 194.593 310.023 Q194.593 302.893 192.764 299.351 Q190.959 295.787 187.325 295.787 M187.325 292.083 Q193.135 292.083 196.19 296.689 Q199.269 301.273 199.269 310.023 Q199.269 318.749 196.19 323.356 Q193.135 327.939 187.325 327.939 Q181.514 327.939 178.436 323.356 Q175.38 318.749 175.38 310.023 Q175.38 301.273 178.436 296.689 Q181.514 292.083 187.325 292.083 Z\" fill=\"#000000\" fill-rule=\"evenodd\" fill-opacity=\"1\" /><path clip-path=\"url(#clip100)\" d=\"M 0 0 M1147.2 1527.24 Q1149.4 1523.29 1152.45 1521.41 Q1155.51 1519.54 1159.65 1519.54 Q1165.22 1519.54 1168.24 1523.45 Q1171.27 1527.33 1171.27 1534.53 L1171.27 1556.04 L1165.38 1556.04 L1165.38 1534.72 Q1165.38 1529.59 1163.56 1527.11 Q1161.75 1524.63 1158.02 1524.63 Q1153.47 1524.63 1150.83 1527.65 Q1148.19 1530.68 1148.19 1535.9 L1148.19 1556.04 L1142.3 1556.04 L1142.3 1534.72 Q1142.3 1529.56 1140.49 1527.11 Q1138.67 1524.63 1134.89 1524.63 Q1130.4 1524.63 1127.76 1527.68 Q1125.11 1530.71 1125.11 1535.9 L1125.11 1556.04 L1119.23 1556.04 L1119.23 1520.4 L1125.11 1520.4 L1125.11 1525.93 Q1127.12 1522.66 1129.92 1521.1 Q1132.72 1519.54 1136.57 1519.54 Q1140.46 1519.54 1143.16 1521.51 Q1145.9 1523.48 1147.2 1527.24 Z\" fill=\"#000000\" fill-rule=\"evenodd\" fill-opacity=\"1\" /><path clip-path=\"url(#clip100)\" d=\"M 0 0 M1177.41 1520.4 L1183.26 1520.4 L1183.26 1556.04 L1177.41 1556.04 L1177.41 1520.4 M1177.41 1506.52 L1183.26 1506.52 L1183.26 1513.93 L1177.41 1513.93 L1177.41 1506.52 Z\" fill=\"#000000\" fill-rule=\"evenodd\" fill-opacity=\"1\" /><path clip-path=\"url(#clip100)\" d=\"M 0 0 M1189.41 1506.52 L1195.26 1506.52 L1195.26 1556.04 L1189.41 1556.04 L1189.41 1506.52 Z\" fill=\"#000000\" fill-rule=\"evenodd\" fill-opacity=\"1\" /><path clip-path=\"url(#clip100)\" d=\"M 0 0 M1201.41 1506.52 L1207.26 1506.52 L1207.26 1556.04 L1201.41 1556.04 L1201.41 1506.52 Z\" fill=\"#000000\" fill-rule=\"evenodd\" fill-opacity=\"1\" /><path clip-path=\"url(#clip100)\" d=\"M 0 0 M1213.41 1520.4 L1219.26 1520.4 L1219.26 1556.04 L1213.41 1556.04 L1213.41 1520.4 M1213.41 1506.52 L1219.26 1506.52 L1219.26 1513.93 L1213.41 1513.93 L1213.41 1506.52 Z\" fill=\"#000000\" fill-rule=\"evenodd\" fill-opacity=\"1\" /><path clip-path=\"url(#clip100)\" d=\"M 0 0 M1248.13 1521.45 L1248.13 1526.98 Q1245.65 1525.71 1242.98 1525.07 Q1240.3 1524.44 1237.44 1524.44 Q1233.08 1524.44 1230.88 1525.77 Q1228.72 1527.11 1228.72 1529.79 Q1228.72 1531.82 1230.28 1533 Q1231.84 1534.15 1236.55 1535.2 L1238.55 1535.64 Q1244.79 1536.98 1247.4 1539.43 Q1250.04 1541.85 1250.04 1546.21 Q1250.04 1551.17 1246.09 1554.07 Q1242.18 1556.97 1235.3 1556.97 Q1232.44 1556.97 1229.32 1556.39 Q1226.23 1555.85 1222.8 1554.74 L1222.8 1548.69 Q1226.04 1550.38 1229.19 1551.24 Q1232.34 1552.07 1235.43 1552.07 Q1239.57 1552.07 1241.8 1550.66 Q1244.03 1549.23 1244.03 1546.65 Q1244.03 1544.27 1242.4 1542.99 Q1240.81 1541.72 1235.37 1540.54 L1233.33 1540.07 Q1227.89 1538.92 1225.47 1536.56 Q1223.05 1534.18 1223.05 1530.04 Q1223.05 1525.01 1226.62 1522.27 Q1230.18 1519.54 1236.74 1519.54 Q1239.98 1519.54 1242.85 1520.01 Q1245.71 1520.49 1248.13 1521.45 Z\" fill=\"#000000\" fill-rule=\"evenodd\" fill-opacity=\"1\" /><path clip-path=\"url(#clip100)\" d=\"M 0 0 M1286.68 1536.76 L1286.68 1539.62 L1259.75 1539.62 Q1260.13 1545.67 1263.38 1548.85 Q1266.66 1552 1272.48 1552 Q1275.85 1552 1279 1551.17 Q1282.19 1550.35 1285.31 1548.69 L1285.31 1554.23 Q1282.16 1555.57 1278.85 1556.27 Q1275.54 1556.97 1272.13 1556.97 Q1263.6 1556.97 1258.6 1552 Q1253.64 1547.04 1253.64 1538.57 Q1253.64 1529.82 1258.35 1524.69 Q1263.09 1519.54 1271.11 1519.54 Q1278.3 1519.54 1282.47 1524.18 Q1286.68 1528.8 1286.68 1536.76 M1280.82 1535.04 Q1280.76 1530.23 1278.11 1527.37 Q1275.5 1524.5 1271.18 1524.5 Q1266.27 1524.5 1263.31 1527.27 Q1260.39 1530.04 1259.94 1535.07 L1280.82 1535.04 Z\" fill=\"#000000\" fill-rule=\"evenodd\" fill-opacity=\"1\" /><path clip-path=\"url(#clip100)\" d=\"M 0 0 M1318.47 1521.76 L1318.47 1527.24 Q1315.99 1525.87 1313.48 1525.2 Q1310.99 1524.5 1308.45 1524.5 Q1302.75 1524.5 1299.6 1528.13 Q1296.45 1531.73 1296.45 1538.25 Q1296.45 1544.78 1299.6 1548.4 Q1302.75 1552 1308.45 1552 Q1310.99 1552 1313.48 1551.33 Q1315.99 1550.63 1318.47 1549.26 L1318.47 1554.68 Q1316.02 1555.82 1313.38 1556.39 Q1310.77 1556.97 1307.81 1556.97 Q1299.76 1556.97 1295.01 1551.91 Q1290.27 1546.85 1290.27 1538.25 Q1290.27 1529.53 1295.05 1524.53 Q1299.85 1519.54 1308.19 1519.54 Q1310.9 1519.54 1313.48 1520.11 Q1316.05 1520.65 1318.47 1521.76 Z\" fill=\"#000000\" fill-rule=\"evenodd\" fill-opacity=\"1\" /><path clip-path=\"url(#clip100)\" d=\"M 0 0 M1338.43 1524.5 Q1333.72 1524.5 1330.98 1528.19 Q1328.24 1531.85 1328.24 1538.25 Q1328.24 1544.65 1330.95 1548.34 Q1333.69 1552 1338.43 1552 Q1343.11 1552 1345.84 1548.31 Q1348.58 1544.62 1348.58 1538.25 Q1348.58 1531.92 1345.84 1528.23 Q1343.11 1524.5 1338.43 1524.5 M1338.43 1519.54 Q1346.07 1519.54 1350.43 1524.5 Q1354.79 1529.47 1354.79 1538.25 Q1354.79 1547 1350.43 1552 Q1346.07 1556.97 1338.43 1556.97 Q1330.76 1556.97 1326.4 1552 Q1322.07 1547 1322.07 1538.25 Q1322.07 1529.47 1326.4 1524.5 Q1330.76 1519.54 1338.43 1519.54 Z\" fill=\"#000000\" fill-rule=\"evenodd\" fill-opacity=\"1\" /><path clip-path=\"url(#clip100)\" d=\"M 0 0 M1390.56 1534.53 L1390.56 1556.04 L1384.71 1556.04 L1384.71 1534.72 Q1384.71 1529.66 1382.73 1527.14 Q1380.76 1524.63 1376.81 1524.63 Q1372.07 1524.63 1369.33 1527.65 Q1366.6 1530.68 1366.6 1535.9 L1366.6 1556.04 L1360.71 1556.04 L1360.71 1520.4 L1366.6 1520.4 L1366.6 1525.93 Q1368.7 1522.72 1371.53 1521.13 Q1374.4 1519.54 1378.12 1519.54 Q1384.26 1519.54 1387.41 1523.36 Q1390.56 1527.14 1390.56 1534.53 Z\" fill=\"#000000\" fill-rule=\"evenodd\" fill-opacity=\"1\" /><path clip-path=\"url(#clip100)\" d=\"M 0 0 M1420.16 1525.81 L1420.16 1506.52 L1426.02 1506.52 L1426.02 1556.04 L1420.16 1556.04 L1420.16 1550.7 Q1418.32 1553.88 1415.49 1555.44 Q1412.68 1556.97 1408.74 1556.97 Q1402.28 1556.97 1398.2 1551.81 Q1394.16 1546.65 1394.16 1538.25 Q1394.16 1529.85 1398.2 1524.69 Q1402.28 1519.54 1408.74 1519.54 Q1412.68 1519.54 1415.49 1521.1 Q1418.32 1522.62 1420.16 1525.81 M1400.21 1538.25 Q1400.21 1544.71 1402.85 1548.4 Q1405.52 1552.07 1410.17 1552.07 Q1414.82 1552.07 1417.49 1548.4 Q1420.16 1544.71 1420.16 1538.25 Q1420.16 1531.79 1417.49 1528.13 Q1414.82 1524.44 1410.17 1524.44 Q1405.52 1524.44 1402.85 1528.13 Q1400.21 1531.79 1400.21 1538.25 Z\" fill=\"#000000\" fill-rule=\"evenodd\" fill-opacity=\"1\" /><path clip-path=\"url(#clip100)\" d=\"M 0 0 M1454.89 1521.45 L1454.89 1526.98 Q1452.41 1525.71 1449.73 1525.07 Q1447.06 1524.44 1444.2 1524.44 Q1439.83 1524.44 1437.64 1525.77 Q1435.47 1527.11 1435.47 1529.79 Q1435.47 1531.82 1437.03 1533 Q1438.59 1534.15 1443.3 1535.2 L1445.31 1535.64 Q1451.55 1536.98 1454.16 1539.43 Q1456.8 1541.85 1456.8 1546.21 Q1456.8 1551.17 1452.85 1554.07 Q1448.94 1556.97 1442.06 1556.97 Q1439.2 1556.97 1436.08 1556.39 Q1432.99 1555.85 1429.55 1554.74 L1429.55 1548.69 Q1432.8 1550.38 1435.95 1551.24 Q1439.1 1552.07 1442.19 1552.07 Q1446.33 1552.07 1448.56 1550.66 Q1450.78 1549.23 1450.78 1546.65 Q1450.78 1544.27 1449.16 1542.99 Q1447.57 1541.72 1442.13 1540.54 L1440.09 1540.07 Q1434.65 1538.92 1432.23 1536.56 Q1429.81 1534.18 1429.81 1530.04 Q1429.81 1525.01 1433.37 1522.27 Q1436.94 1519.54 1443.49 1519.54 Q1446.74 1519.54 1449.61 1520.01 Q1452.47 1520.49 1454.89 1521.45 Z\" fill=\"#000000\" fill-rule=\"evenodd\" fill-opacity=\"1\" /><path clip-path=\"url(#clip100)\" d=\"M 0 0 M53.7248 786.854 L59.1993 786.854 Q57.8307 789.336 57.1623 791.851 Q56.4621 794.333 56.4621 796.88 Q56.4621 802.577 60.0905 805.728 Q63.6872 808.879 70.212 808.879 Q76.7369 808.879 80.3653 805.728 Q83.9619 802.577 83.9619 796.88 Q83.9619 794.333 83.2935 791.851 Q82.5933 789.336 81.2247 786.854 L86.6355 786.854 Q87.7814 789.305 88.3543 791.946 Q88.9272 794.556 88.9272 797.516 Q88.9272 805.569 83.8664 810.311 Q78.8057 815.054 70.212 815.054 Q61.491 815.054 56.4939 810.28 Q51.4968 805.473 51.4968 797.134 Q51.4968 794.429 52.0697 791.851 Q52.6108 789.273 53.7248 786.854 Z\" fill=\"#000000\" fill-rule=\"evenodd\" fill-opacity=\"1\" /><path clip-path=\"url(#clip100)\" d=\"M 0 0 M56.4621 766.897 Q56.4621 771.608 60.1542 774.345 Q63.8145 777.082 70.212 777.082 Q76.6095 777.082 80.3017 774.377 Q83.9619 771.64 83.9619 766.897 Q83.9619 762.218 80.2698 759.481 Q76.5777 756.744 70.212 756.744 Q63.8781 756.744 60.186 759.481 Q56.4621 762.218 56.4621 766.897 M51.4968 766.897 Q51.4968 759.258 56.4621 754.898 Q61.4273 750.537 70.212 750.537 Q78.9649 750.537 83.9619 754.898 Q88.9272 759.258 88.9272 766.897 Q88.9272 774.568 83.9619 778.928 Q78.9649 783.257 70.212 783.257 Q61.4273 783.257 56.4621 778.928 Q51.4968 774.568 51.4968 766.897 Z\" fill=\"#000000\" fill-rule=\"evenodd\" fill-opacity=\"1\" /><path clip-path=\"url(#clip100)\" d=\"M 0 0 M73.9359 744.999 L52.3562 744.999 L52.3562 739.143 L73.7131 739.143 Q78.7739 739.143 81.3202 737.169 Q83.8346 735.196 83.8346 731.249 Q83.8346 726.507 80.8109 723.77 Q77.7872 721.001 72.5673 721.001 L52.3562 721.001 L52.3562 715.144 L88.0042 715.144 L88.0042 721.001 L82.5296 721.001 Q85.7762 723.133 87.3676 725.966 Q88.9272 728.767 88.9272 732.491 Q88.9272 738.634 85.1078 741.816 Q81.2883 744.999 73.9359 744.999 M51.4968 730.263 L51.4968 730.263 Z\" fill=\"#000000\" fill-rule=\"evenodd\" fill-opacity=\"1\" /><path clip-path=\"url(#clip100)\" d=\"M 0 0 M66.4881 679.369 L88.0042 679.369 L88.0042 685.225 L66.679 685.225 Q61.6183 685.225 59.1038 687.199 Q56.5894 689.172 56.5894 693.119 Q56.5894 697.861 59.6131 700.598 Q62.6368 703.336 67.8567 703.336 L88.0042 703.336 L88.0042 709.224 L52.3562 709.224 L52.3562 703.336 L57.8944 703.336 Q54.6797 701.235 53.0883 698.402 Q51.4968 695.538 51.4968 691.814 Q51.4968 685.671 55.3163 682.52 Q59.1038 679.369 66.4881 679.369 Z\" fill=\"#000000\" fill-rule=\"evenodd\" fill-opacity=\"1\" /><path clip-path=\"url(#clip100)\" d=\"M 0 0 M42.2347 667.433 L52.3562 667.433 L52.3562 655.37 L56.9077 655.37 L56.9077 667.433 L76.2594 667.433 Q80.6199 667.433 81.8613 666.255 Q83.1026 665.046 83.1026 661.386 L83.1026 655.37 L88.0042 655.37 L88.0042 661.386 Q88.0042 668.165 85.4897 670.743 Q82.9434 673.321 76.2594 673.321 L56.9077 673.321 L56.9077 677.618 L52.3562 677.618 L52.3562 673.321 L42.2347 673.321 L42.2347 667.433 Z\" fill=\"#000000\" fill-rule=\"evenodd\" fill-opacity=\"1\" /><path clip-path=\"url(#clip102)\" d=\"\n",
       "M243.034 1375.29 L243.034 1384.24 L331.307 1384.24 L331.307 1375.29 L243.034 1375.29 L243.034 1375.29  Z\n",
       "  \" fill=\"#009af9\" fill-rule=\"evenodd\" fill-opacity=\"1\"/>\n",
       "<polyline clip-path=\"url(#clip102)\" style=\"stroke:#000000; stroke-width:4; stroke-opacity:1; fill:none\" points=\"\n",
       "  243.034,1375.29 243.034,1384.24 331.307,1384.24 331.307,1375.29 243.034,1375.29 \n",
       "  \"/>\n",
       "<path clip-path=\"url(#clip102)\" d=\"\n",
       "M331.307 1366.33 L331.307 1384.24 L419.581 1384.24 L419.581 1366.33 L331.307 1366.33 L331.307 1366.33  Z\n",
       "  \" fill=\"#009af9\" fill-rule=\"evenodd\" fill-opacity=\"1\"/>\n",
       "<polyline clip-path=\"url(#clip102)\" style=\"stroke:#000000; stroke-width:4; stroke-opacity:1; fill:none\" points=\"\n",
       "  331.307,1366.33 331.307,1384.24 419.581,1384.24 419.581,1366.33 331.307,1366.33 \n",
       "  \"/>\n",
       "<path clip-path=\"url(#clip102)\" d=\"\n",
       "M419.581 1294.72 L419.581 1384.24 L507.855 1384.24 L507.855 1294.72 L419.581 1294.72 L419.581 1294.72  Z\n",
       "  \" fill=\"#009af9\" fill-rule=\"evenodd\" fill-opacity=\"1\"/>\n",
       "<polyline clip-path=\"url(#clip102)\" style=\"stroke:#000000; stroke-width:4; stroke-opacity:1; fill:none\" points=\"\n",
       "  419.581,1294.72 419.581,1384.24 507.855,1384.24 507.855,1294.72 419.581,1294.72 \n",
       "  \"/>\n",
       "<path clip-path=\"url(#clip102)\" d=\"\n",
       "M507.855 1142.53 L507.855 1384.24 L596.128 1384.24 L596.128 1142.53 L507.855 1142.53 L507.855 1142.53  Z\n",
       "  \" fill=\"#009af9\" fill-rule=\"evenodd\" fill-opacity=\"1\"/>\n",
       "<polyline clip-path=\"url(#clip102)\" style=\"stroke:#000000; stroke-width:4; stroke-opacity:1; fill:none\" points=\"\n",
       "  507.855,1142.53 507.855,1384.24 596.128,1384.24 596.128,1142.53 507.855,1142.53 \n",
       "  \"/>\n",
       "<path clip-path=\"url(#clip102)\" d=\"\n",
       "M596.128 1124.63 L596.128 1384.24 L684.402 1384.24 L684.402 1124.63 L596.128 1124.63 L596.128 1124.63  Z\n",
       "  \" fill=\"#009af9\" fill-rule=\"evenodd\" fill-opacity=\"1\"/>\n",
       "<polyline clip-path=\"url(#clip102)\" style=\"stroke:#000000; stroke-width:4; stroke-opacity:1; fill:none\" points=\"\n",
       "  596.128,1124.63 596.128,1384.24 684.402,1384.24 684.402,1124.63 596.128,1124.63 \n",
       "  \"/>\n",
       "<path clip-path=\"url(#clip102)\" d=\"\n",
       "M684.402 1196.24 L684.402 1384.24 L772.676 1384.24 L772.676 1196.24 L684.402 1196.24 L684.402 1196.24  Z\n",
       "  \" fill=\"#009af9\" fill-rule=\"evenodd\" fill-opacity=\"1\"/>\n",
       "<polyline clip-path=\"url(#clip102)\" style=\"stroke:#000000; stroke-width:4; stroke-opacity:1; fill:none\" points=\"\n",
       "  684.402,1196.24 684.402,1384.24 772.676,1384.24 772.676,1196.24 684.402,1196.24 \n",
       "  \"/>\n",
       "<path clip-path=\"url(#clip102)\" d=\"\n",
       "M772.676 1276.81 L772.676 1384.24 L860.95 1384.24 L860.95 1276.81 L772.676 1276.81 L772.676 1276.81  Z\n",
       "  \" fill=\"#009af9\" fill-rule=\"evenodd\" fill-opacity=\"1\"/>\n",
       "<polyline clip-path=\"url(#clip102)\" style=\"stroke:#000000; stroke-width:4; stroke-opacity:1; fill:none\" points=\"\n",
       "  772.676,1276.81 772.676,1384.24 860.95,1384.24 860.95,1276.81 772.676,1276.81 \n",
       "  \"/>\n",
       "<path clip-path=\"url(#clip102)\" d=\"\n",
       "M860.95 1241 L860.95 1384.24 L949.223 1384.24 L949.223 1241 L860.95 1241 L860.95 1241  Z\n",
       "  \" fill=\"#009af9\" fill-rule=\"evenodd\" fill-opacity=\"1\"/>\n",
       "<polyline clip-path=\"url(#clip102)\" style=\"stroke:#000000; stroke-width:4; stroke-opacity:1; fill:none\" points=\"\n",
       "  860.95,1241 860.95,1384.24 949.223,1384.24 949.223,1241 860.95,1241 \n",
       "  \"/>\n",
       "<path clip-path=\"url(#clip102)\" d=\"\n",
       "M949.223 1241 L949.223 1384.24 L1037.5 1384.24 L1037.5 1241 L949.223 1241 L949.223 1241  Z\n",
       "  \" fill=\"#009af9\" fill-rule=\"evenodd\" fill-opacity=\"1\"/>\n",
       "<polyline clip-path=\"url(#clip102)\" style=\"stroke:#000000; stroke-width:4; stroke-opacity:1; fill:none\" points=\"\n",
       "  949.223,1241 949.223,1384.24 1037.5,1384.24 1037.5,1241 949.223,1241 \n",
       "  \"/>\n",
       "<path clip-path=\"url(#clip102)\" d=\"\n",
       "M1037.5 1258.91 L1037.5 1384.24 L1125.77 1384.24 L1125.77 1258.91 L1037.5 1258.91 L1037.5 1258.91  Z\n",
       "  \" fill=\"#009af9\" fill-rule=\"evenodd\" fill-opacity=\"1\"/>\n",
       "<polyline clip-path=\"url(#clip102)\" style=\"stroke:#000000; stroke-width:4; stroke-opacity:1; fill:none\" points=\"\n",
       "  1037.5,1258.91 1037.5,1384.24 1125.77,1384.24 1125.77,1258.91 1037.5,1258.91 \n",
       "  \"/>\n",
       "<path clip-path=\"url(#clip102)\" d=\"\n",
       "M1125.77 86.1857 L1125.77 1384.24 L1214.04 1384.24 L1214.04 86.1857 L1125.77 86.1857 L1125.77 86.1857  Z\n",
       "  \" fill=\"#009af9\" fill-rule=\"evenodd\" fill-opacity=\"1\"/>\n",
       "<polyline clip-path=\"url(#clip102)\" style=\"stroke:#000000; stroke-width:4; stroke-opacity:1; fill:none\" points=\"\n",
       "  1125.77,86.1857 1125.77,1384.24 1214.04,1384.24 1214.04,86.1857 1125.77,86.1857 \n",
       "  \"/>\n",
       "<path clip-path=\"url(#clip102)\" d=\"\n",
       "M1214.04 721.784 L1214.04 1384.24 L1302.32 1384.24 L1302.32 721.784 L1214.04 721.784 L1214.04 721.784  Z\n",
       "  \" fill=\"#009af9\" fill-rule=\"evenodd\" fill-opacity=\"1\"/>\n",
       "<polyline clip-path=\"url(#clip102)\" style=\"stroke:#000000; stroke-width:4; stroke-opacity:1; fill:none\" points=\"\n",
       "  1214.04,721.784 1214.04,1384.24 1302.32,1384.24 1302.32,721.784 1214.04,721.784 \n",
       "  \"/>\n",
       "<path clip-path=\"url(#clip102)\" d=\"\n",
       "M1302.32 1285.77 L1302.32 1384.24 L1390.59 1384.24 L1390.59 1285.77 L1302.32 1285.77 L1302.32 1285.77  Z\n",
       "  \" fill=\"#009af9\" fill-rule=\"evenodd\" fill-opacity=\"1\"/>\n",
       "<polyline clip-path=\"url(#clip102)\" style=\"stroke:#000000; stroke-width:4; stroke-opacity:1; fill:none\" points=\"\n",
       "  1302.32,1285.77 1302.32,1384.24 1390.59,1384.24 1390.59,1285.77 1302.32,1285.77 \n",
       "  \"/>\n",
       "<path clip-path=\"url(#clip102)\" d=\"\n",
       "M1390.59 1366.33 L1390.59 1384.24 L1478.87 1384.24 L1478.87 1366.33 L1390.59 1366.33 L1390.59 1366.33  Z\n",
       "  \" fill=\"#009af9\" fill-rule=\"evenodd\" fill-opacity=\"1\"/>\n",
       "<polyline clip-path=\"url(#clip102)\" style=\"stroke:#000000; stroke-width:4; stroke-opacity:1; fill:none\" points=\"\n",
       "  1390.59,1366.33 1390.59,1384.24 1478.87,1384.24 1478.87,1366.33 1390.59,1366.33 \n",
       "  \"/>\n",
       "<path clip-path=\"url(#clip102)\" d=\"\n",
       "M1478.87 1375.29 L1478.87 1384.24 L1567.14 1384.24 L1567.14 1375.29 L1478.87 1375.29 L1478.87 1375.29  Z\n",
       "  \" fill=\"#009af9\" fill-rule=\"evenodd\" fill-opacity=\"1\"/>\n",
       "<polyline clip-path=\"url(#clip102)\" style=\"stroke:#000000; stroke-width:4; stroke-opacity:1; fill:none\" points=\"\n",
       "  1478.87,1375.29 1478.87,1384.24 1567.14,1384.24 1567.14,1375.29 1478.87,1375.29 \n",
       "  \"/>\n",
       "<path clip-path=\"url(#clip102)\" d=\"\n",
       "M1567.14 1375.29 L1567.14 1384.24 L1655.41 1384.24 L1655.41 1375.29 L1567.14 1375.29 L1567.14 1375.29  Z\n",
       "  \" fill=\"#009af9\" fill-rule=\"evenodd\" fill-opacity=\"1\"/>\n",
       "<polyline clip-path=\"url(#clip102)\" style=\"stroke:#000000; stroke-width:4; stroke-opacity:1; fill:none\" points=\"\n",
       "  1567.14,1375.29 1567.14,1384.24 1655.41,1384.24 1655.41,1375.29 1567.14,1375.29 \n",
       "  \"/>\n",
       "<path clip-path=\"url(#clip102)\" d=\"\n",
       "M1655.41 1312.62 L1655.41 1384.24 L1743.69 1384.24 L1743.69 1312.62 L1655.41 1312.62 L1655.41 1312.62  Z\n",
       "  \" fill=\"#009af9\" fill-rule=\"evenodd\" fill-opacity=\"1\"/>\n",
       "<polyline clip-path=\"url(#clip102)\" style=\"stroke:#000000; stroke-width:4; stroke-opacity:1; fill:none\" points=\"\n",
       "  1655.41,1312.62 1655.41,1384.24 1743.69,1384.24 1743.69,1312.62 1655.41,1312.62 \n",
       "  \"/>\n",
       "<path clip-path=\"url(#clip102)\" d=\"\n",
       "M1743.69 1321.57 L1743.69 1384.24 L1831.96 1384.24 L1831.96 1321.57 L1743.69 1321.57 L1743.69 1321.57  Z\n",
       "  \" fill=\"#009af9\" fill-rule=\"evenodd\" fill-opacity=\"1\"/>\n",
       "<polyline clip-path=\"url(#clip102)\" style=\"stroke:#000000; stroke-width:4; stroke-opacity:1; fill:none\" points=\"\n",
       "  1743.69,1321.57 1743.69,1384.24 1831.96,1384.24 1831.96,1321.57 1743.69,1321.57 \n",
       "  \"/>\n",
       "<path clip-path=\"url(#clip102)\" d=\"\n",
       "M1831.96 1357.38 L1831.96 1384.24 L1920.23 1384.24 L1920.23 1357.38 L1831.96 1357.38 L1831.96 1357.38  Z\n",
       "  \" fill=\"#009af9\" fill-rule=\"evenodd\" fill-opacity=\"1\"/>\n",
       "<polyline clip-path=\"url(#clip102)\" style=\"stroke:#000000; stroke-width:4; stroke-opacity:1; fill:none\" points=\"\n",
       "  1831.96,1357.38 1831.96,1384.24 1920.23,1384.24 1920.23,1357.38 1831.96,1357.38 \n",
       "  \"/>\n",
       "<path clip-path=\"url(#clip102)\" d=\"\n",
       "M1920.23 1384.24 L1920.23 1384.24 L2008.51 1384.24 L2008.51 1384.24 L1920.23 1384.24 L1920.23 1384.24  Z\n",
       "  \" fill=\"#009af9\" fill-rule=\"evenodd\" fill-opacity=\"1\"/>\n",
       "<polyline clip-path=\"url(#clip102)\" style=\"stroke:#000000; stroke-width:4; stroke-opacity:1; fill:none\" points=\"\n",
       "  1920.23,1384.24 1920.23,1384.24 2008.51,1384.24 1920.23,1384.24 \n",
       "  \"/>\n",
       "<path clip-path=\"url(#clip102)\" d=\"\n",
       "M2008.51 1384.24 L2008.51 1384.24 L2096.78 1384.24 L2096.78 1384.24 L2008.51 1384.24 L2008.51 1384.24  Z\n",
       "  \" fill=\"#009af9\" fill-rule=\"evenodd\" fill-opacity=\"1\"/>\n",
       "<polyline clip-path=\"url(#clip102)\" style=\"stroke:#000000; stroke-width:4; stroke-opacity:1; fill:none\" points=\"\n",
       "  2008.51,1384.24 2008.51,1384.24 2096.78,1384.24 2008.51,1384.24 \n",
       "  \"/>\n",
       "<path clip-path=\"url(#clip102)\" d=\"\n",
       "M2096.78 1366.33 L2096.78 1384.24 L2185.06 1384.24 L2185.06 1366.33 L2096.78 1366.33 L2096.78 1366.33  Z\n",
       "  \" fill=\"#009af9\" fill-rule=\"evenodd\" fill-opacity=\"1\"/>\n",
       "<polyline clip-path=\"url(#clip102)\" style=\"stroke:#000000; stroke-width:4; stroke-opacity:1; fill:none\" points=\"\n",
       "  2096.78,1366.33 2096.78,1384.24 2185.06,1384.24 2185.06,1366.33 2096.78,1366.33 \n",
       "  \"/>\n",
       "<path clip-path=\"url(#clip102)\" d=\"\n",
       "M2185.06 1366.33 L2185.06 1384.24 L2273.33 1384.24 L2273.33 1366.33 L2185.06 1366.33 L2185.06 1366.33  Z\n",
       "  \" fill=\"#009af9\" fill-rule=\"evenodd\" fill-opacity=\"1\"/>\n",
       "<polyline clip-path=\"url(#clip102)\" style=\"stroke:#000000; stroke-width:4; stroke-opacity:1; fill:none\" points=\"\n",
       "  2185.06,1366.33 2185.06,1384.24 2273.33,1384.24 2273.33,1366.33 2185.06,1366.33 \n",
       "  \"/>\n",
       "<path clip-path=\"url(#clip102)\" d=\"\n",
       "M2273.33 1357.38 L2273.33 1384.24 L2361.6 1384.24 L2361.6 1357.38 L2273.33 1357.38 L2273.33 1357.38  Z\n",
       "  \" fill=\"#009af9\" fill-rule=\"evenodd\" fill-opacity=\"1\"/>\n",
       "<polyline clip-path=\"url(#clip102)\" style=\"stroke:#000000; stroke-width:4; stroke-opacity:1; fill:none\" points=\"\n",
       "  2273.33,1357.38 2273.33,1384.24 2361.6,1384.24 2361.6,1357.38 2273.33,1357.38 \n",
       "  \"/>\n",
       "<path clip-path=\"url(#clip102)\" d=\"\n",
       "M2361.6 1375.29 L2361.6 1384.24 L2449.88 1384.24 L2449.88 1375.29 L2361.6 1375.29 L2361.6 1375.29  Z\n",
       "  \" fill=\"#009af9\" fill-rule=\"evenodd\" fill-opacity=\"1\"/>\n",
       "<polyline clip-path=\"url(#clip102)\" style=\"stroke:#000000; stroke-width:4; stroke-opacity:1; fill:none\" points=\"\n",
       "  2361.6,1375.29 2361.6,1384.24 2449.88,1384.24 2449.88,1375.29 2361.6,1375.29 \n",
       "  \"/>\n",
       "<path clip-path=\"url(#clip102)\" d=\"\n",
       "M2449.88 1384.24 L2449.88 1384.24 L2538.15 1384.24 L2538.15 1384.24 L2449.88 1384.24 L2449.88 1384.24  Z\n",
       "  \" fill=\"#009af9\" fill-rule=\"evenodd\" fill-opacity=\"1\"/>\n",
       "<polyline clip-path=\"url(#clip102)\" style=\"stroke:#000000; stroke-width:4; stroke-opacity:1; fill:none\" points=\"\n",
       "  2449.88,1384.24 2449.88,1384.24 2538.15,1384.24 2449.88,1384.24 \n",
       "  \"/>\n",
       "<path clip-path=\"url(#clip102)\" d=\"\n",
       "M2538.15 1375.29 L2538.15 1384.24 L2626.42 1384.24 L2626.42 1375.29 L2538.15 1375.29 L2538.15 1375.29  Z\n",
       "  \" fill=\"#009af9\" fill-rule=\"evenodd\" fill-opacity=\"1\"/>\n",
       "<polyline clip-path=\"url(#clip102)\" style=\"stroke:#000000; stroke-width:4; stroke-opacity:1; fill:none\" points=\"\n",
       "  2538.15,1375.29 2538.15,1384.24 2626.42,1384.24 2626.42,1375.29 2538.15,1375.29 \n",
       "  \"/>\n",
       "<path clip-path=\"url(#clip102)\" d=\"\n",
       "M2626.42 1384.24 L2626.42 1384.24 L2714.7 1384.24 L2714.7 1384.24 L2626.42 1384.24 L2626.42 1384.24  Z\n",
       "  \" fill=\"#009af9\" fill-rule=\"evenodd\" fill-opacity=\"1\"/>\n",
       "<polyline clip-path=\"url(#clip102)\" style=\"stroke:#000000; stroke-width:4; stroke-opacity:1; fill:none\" points=\"\n",
       "  2626.42,1384.24 2626.42,1384.24 2714.7,1384.24 2626.42,1384.24 \n",
       "  \"/>\n",
       "<path clip-path=\"url(#clip102)\" d=\"\n",
       "M2714.7 1366.33 L2714.7 1384.24 L2802.97 1384.24 L2802.97 1366.33 L2714.7 1366.33 L2714.7 1366.33  Z\n",
       "  \" fill=\"#009af9\" fill-rule=\"evenodd\" fill-opacity=\"1\"/>\n",
       "<polyline clip-path=\"url(#clip102)\" style=\"stroke:#000000; stroke-width:4; stroke-opacity:1; fill:none\" points=\"\n",
       "  2714.7,1366.33 2714.7,1384.24 2802.97,1384.24 2802.97,1366.33 2714.7,1366.33 \n",
       "  \"/>\n",
       "<path clip-path=\"url(#clip102)\" d=\"\n",
       "M2802.97 1375.29 L2802.97 1384.24 L2891.25 1384.24 L2891.25 1375.29 L2802.97 1375.29 L2802.97 1375.29  Z\n",
       "  \" fill=\"#009af9\" fill-rule=\"evenodd\" fill-opacity=\"1\"/>\n",
       "<polyline clip-path=\"url(#clip102)\" style=\"stroke:#000000; stroke-width:4; stroke-opacity:1; fill:none\" points=\"\n",
       "  2802.97,1375.29 2802.97,1384.24 2891.25,1384.24 2891.25,1375.29 2802.97,1375.29 \n",
       "  \"/>\n",
       "<path clip-path=\"url(#clip102)\" d=\"\n",
       "M2891.25 1375.29 L2891.25 1384.24 L2979.52 1384.24 L2979.52 1375.29 L2891.25 1375.29 L2891.25 1375.29  Z\n",
       "  \" fill=\"#009af9\" fill-rule=\"evenodd\" fill-opacity=\"1\"/>\n",
       "<polyline clip-path=\"url(#clip102)\" style=\"stroke:#000000; stroke-width:4; stroke-opacity:1; fill:none\" points=\"\n",
       "  2891.25,1375.29 2891.25,1384.24 2979.52,1384.24 2979.52,1375.29 2891.25,1375.29 \n",
       "  \"/>\n",
       "<path clip-path=\"url(#clip102)\" d=\"\n",
       "M2979.52 1375.29 L2979.52 1384.24 L3067.79 1384.24 L3067.79 1375.29 L2979.52 1375.29 L2979.52 1375.29  Z\n",
       "  \" fill=\"#009af9\" fill-rule=\"evenodd\" fill-opacity=\"1\"/>\n",
       "<polyline clip-path=\"url(#clip102)\" style=\"stroke:#000000; stroke-width:4; stroke-opacity:1; fill:none\" points=\"\n",
       "  2979.52,1375.29 2979.52,1384.24 3067.79,1384.24 3067.79,1375.29 2979.52,1375.29 \n",
       "  \"/>\n",
       "<path clip-path=\"url(#clip102)\" d=\"\n",
       "M3067.79 1375.29 L3067.79 1384.24 L3156.07 1384.24 L3156.07 1375.29 L3067.79 1375.29 L3067.79 1375.29  Z\n",
       "  \" fill=\"#009af9\" fill-rule=\"evenodd\" fill-opacity=\"1\"/>\n",
       "<polyline clip-path=\"url(#clip102)\" style=\"stroke:#000000; stroke-width:4; stroke-opacity:1; fill:none\" points=\"\n",
       "  3067.79,1375.29 3067.79,1384.24 3156.07,1384.24 3156.07,1375.29 3067.79,1375.29 \n",
       "  \"/>\n",
       "<path clip-path=\"url(#clip102)\" d=\"\n",
       "M3156.07 1384.24 L3156.07 1384.24 L3244.34 1384.24 L3244.34 1384.24 L3156.07 1384.24 L3156.07 1384.24  Z\n",
       "  \" fill=\"#009af9\" fill-rule=\"evenodd\" fill-opacity=\"1\"/>\n",
       "<polyline clip-path=\"url(#clip102)\" style=\"stroke:#000000; stroke-width:4; stroke-opacity:1; fill:none\" points=\"\n",
       "  3156.07,1384.24 3156.07,1384.24 3244.34,1384.24 3156.07,1384.24 \n",
       "  \"/>\n",
       "<path clip-path=\"url(#clip102)\" d=\"\n",
       "M3244.34 1384.24 L3244.34 1384.24 L3332.61 1384.24 L3332.61 1384.24 L3244.34 1384.24 L3244.34 1384.24  Z\n",
       "  \" fill=\"#009af9\" fill-rule=\"evenodd\" fill-opacity=\"1\"/>\n",
       "<polyline clip-path=\"url(#clip102)\" style=\"stroke:#000000; stroke-width:4; stroke-opacity:1; fill:none\" points=\"\n",
       "  3244.34,1384.24 3244.34,1384.24 3332.61,1384.24 3244.34,1384.24 \n",
       "  \"/>\n",
       "<path clip-path=\"url(#clip102)\" d=\"\n",
       "M3332.61 1384.24 L3332.61 1384.24 L3420.89 1384.24 L3420.89 1384.24 L3332.61 1384.24 L3332.61 1384.24  Z\n",
       "  \" fill=\"#009af9\" fill-rule=\"evenodd\" fill-opacity=\"1\"/>\n",
       "<polyline clip-path=\"url(#clip102)\" style=\"stroke:#000000; stroke-width:4; stroke-opacity:1; fill:none\" points=\"\n",
       "  3332.61,1384.24 3332.61,1384.24 3420.89,1384.24 3332.61,1384.24 \n",
       "  \"/>\n",
       "<path clip-path=\"url(#clip102)\" d=\"\n",
       "M3420.89 1384.24 L3420.89 1384.24 L3509.16 1384.24 L3509.16 1384.24 L3420.89 1384.24 L3420.89 1384.24  Z\n",
       "  \" fill=\"#009af9\" fill-rule=\"evenodd\" fill-opacity=\"1\"/>\n",
       "<polyline clip-path=\"url(#clip102)\" style=\"stroke:#000000; stroke-width:4; stroke-opacity:1; fill:none\" points=\"\n",
       "  3420.89,1384.24 3420.89,1384.24 3509.16,1384.24 3420.89,1384.24 \n",
       "  \"/>\n",
       "<path clip-path=\"url(#clip102)\" d=\"\n",
       "M3509.16 1384.24 L3509.16 1384.24 L3597.44 1384.24 L3597.44 1384.24 L3509.16 1384.24 L3509.16 1384.24  Z\n",
       "  \" fill=\"#009af9\" fill-rule=\"evenodd\" fill-opacity=\"1\"/>\n",
       "<polyline clip-path=\"url(#clip102)\" style=\"stroke:#000000; stroke-width:4; stroke-opacity:1; fill:none\" points=\"\n",
       "  3509.16,1384.24 3509.16,1384.24 3597.44,1384.24 3509.16,1384.24 \n",
       "  \"/>\n",
       "<path clip-path=\"url(#clip102)\" d=\"\n",
       "M3597.44 1366.33 L3597.44 1384.24 L3685.71 1384.24 L3685.71 1366.33 L3597.44 1366.33 L3597.44 1366.33  Z\n",
       "  \" fill=\"#009af9\" fill-rule=\"evenodd\" fill-opacity=\"1\"/>\n",
       "<polyline clip-path=\"url(#clip102)\" style=\"stroke:#000000; stroke-width:4; stroke-opacity:1; fill:none\" points=\"\n",
       "  3597.44,1366.33 3597.44,1384.24 3685.71,1384.24 3685.71,1366.33 3597.44,1366.33 \n",
       "  \"/>\n",
       "<path clip-path=\"url(#clip102)\" d=\"\n",
       "M3685.71 1366.33 L3685.71 1384.24 L3773.98 1384.24 L3773.98 1366.33 L3685.71 1366.33 L3685.71 1366.33  Z\n",
       "  \" fill=\"#009af9\" fill-rule=\"evenodd\" fill-opacity=\"1\"/>\n",
       "<polyline clip-path=\"url(#clip102)\" style=\"stroke:#000000; stroke-width:4; stroke-opacity:1; fill:none\" points=\"\n",
       "  3685.71,1366.33 3685.71,1384.24 3773.98,1384.24 3773.98,1366.33 3685.71,1366.33 \n",
       "  \"/>\n",
       "<path clip-path=\"url(#clip102)\" d=\"\n",
       "M3773.98 1375.29 L3773.98 1384.24 L3862.26 1384.24 L3862.26 1375.29 L3773.98 1375.29 L3773.98 1375.29  Z\n",
       "  \" fill=\"#009af9\" fill-rule=\"evenodd\" fill-opacity=\"1\"/>\n",
       "<polyline clip-path=\"url(#clip102)\" style=\"stroke:#000000; stroke-width:4; stroke-opacity:1; fill:none\" points=\"\n",
       "  3773.98,1375.29 3773.98,1384.24 3862.26,1384.24 3862.26,1375.29 3773.98,1375.29 \n",
       "  \"/>\n",
       "<path clip-path=\"url(#clip102)\" d=\"\n",
       "M3862.26 1366.33 L3862.26 1384.24 L3950.53 1384.24 L3950.53 1366.33 L3862.26 1366.33 L3862.26 1366.33  Z\n",
       "  \" fill=\"#009af9\" fill-rule=\"evenodd\" fill-opacity=\"1\"/>\n",
       "<polyline clip-path=\"url(#clip102)\" style=\"stroke:#000000; stroke-width:4; stroke-opacity:1; fill:none\" points=\"\n",
       "  3862.26,1366.33 3862.26,1384.24 3950.53,1384.24 3950.53,1366.33 3862.26,1366.33 \n",
       "  \"/>\n",
       "<path clip-path=\"url(#clip102)\" d=\"\n",
       "M3950.53 1375.29 L3950.53 1384.24 L4038.8 1384.24 L4038.8 1375.29 L3950.53 1375.29 L3950.53 1375.29  Z\n",
       "  \" fill=\"#009af9\" fill-rule=\"evenodd\" fill-opacity=\"1\"/>\n",
       "<polyline clip-path=\"url(#clip102)\" style=\"stroke:#000000; stroke-width:4; stroke-opacity:1; fill:none\" points=\"\n",
       "  3950.53,1375.29 3950.53,1384.24 4038.8,1384.24 4038.8,1375.29 3950.53,1375.29 \n",
       "  \"/>\n",
       "<path clip-path=\"url(#clip102)\" d=\"\n",
       "M4038.8 1375.29 L4038.8 1384.24 L4127.08 1384.24 L4127.08 1375.29 L4038.8 1375.29 L4038.8 1375.29  Z\n",
       "  \" fill=\"#009af9\" fill-rule=\"evenodd\" fill-opacity=\"1\"/>\n",
       "<polyline clip-path=\"url(#clip102)\" style=\"stroke:#000000; stroke-width:4; stroke-opacity:1; fill:none\" points=\"\n",
       "  4038.8,1375.29 4038.8,1384.24 4127.08,1384.24 4127.08,1375.29 4038.8,1375.29 \n",
       "  \"/>\n",
       "<path clip-path=\"url(#clip102)\" d=\"\n",
       "M4127.08 1366.33 L4127.08 1384.24 L4215.35 1384.24 L4215.35 1366.33 L4127.08 1366.33 L4127.08 1366.33  Z\n",
       "  \" fill=\"#009af9\" fill-rule=\"evenodd\" fill-opacity=\"1\"/>\n",
       "<polyline clip-path=\"url(#clip102)\" style=\"stroke:#000000; stroke-width:4; stroke-opacity:1; fill:none\" points=\"\n",
       "  4127.08,1366.33 4127.08,1384.24 4215.35,1384.24 4215.35,1366.33 4127.08,1366.33 \n",
       "  \"/>\n",
       "<path clip-path=\"url(#clip102)\" d=\"\n",
       "M4215.35 1384.24 L4215.35 1384.24 L4303.63 1384.24 L4303.63 1384.24 L4215.35 1384.24 L4215.35 1384.24  Z\n",
       "  \" fill=\"#009af9\" fill-rule=\"evenodd\" fill-opacity=\"1\"/>\n",
       "<polyline clip-path=\"url(#clip102)\" style=\"stroke:#000000; stroke-width:4; stroke-opacity:1; fill:none\" points=\"\n",
       "  4215.35,1384.24 4215.35,1384.24 4303.63,1384.24 4215.35,1384.24 \n",
       "  \"/>\n",
       "<path clip-path=\"url(#clip102)\" d=\"\n",
       "M4303.63 1375.29 L4303.63 1384.24 L4391.9 1384.24 L4391.9 1375.29 L4303.63 1375.29 L4303.63 1375.29  Z\n",
       "  \" fill=\"#009af9\" fill-rule=\"evenodd\" fill-opacity=\"1\"/>\n",
       "<polyline clip-path=\"url(#clip102)\" style=\"stroke:#000000; stroke-width:4; stroke-opacity:1; fill:none\" points=\"\n",
       "  4303.63,1375.29 4303.63,1384.24 4391.9,1384.24 4391.9,1375.29 4303.63,1375.29 \n",
       "  \"/>\n",
       "<path clip-path=\"url(#clip102)\" d=\"\n",
       "M4391.9 1384.24 L4391.9 1384.24 L4480.17 1384.24 L4480.17 1384.24 L4391.9 1384.24 L4391.9 1384.24  Z\n",
       "  \" fill=\"#009af9\" fill-rule=\"evenodd\" fill-opacity=\"1\"/>\n",
       "<polyline clip-path=\"url(#clip102)\" style=\"stroke:#000000; stroke-width:4; stroke-opacity:1; fill:none\" points=\"\n",
       "  4391.9,1384.24 4391.9,1384.24 4480.17,1384.24 4391.9,1384.24 \n",
       "  \"/>\n",
       "<path clip-path=\"url(#clip102)\" d=\"\n",
       "M4480.17 1384.24 L4480.17 1384.24 L4568.45 1384.24 L4568.45 1384.24 L4480.17 1384.24 L4480.17 1384.24  Z\n",
       "  \" fill=\"#009af9\" fill-rule=\"evenodd\" fill-opacity=\"1\"/>\n",
       "<polyline clip-path=\"url(#clip102)\" style=\"stroke:#000000; stroke-width:4; stroke-opacity:1; fill:none\" points=\"\n",
       "  4480.17,1384.24 4480.17,1384.24 4568.45,1384.24 4480.17,1384.24 \n",
       "  \"/>\n",
       "<path clip-path=\"url(#clip102)\" d=\"\n",
       "M4568.45 1375.29 L4568.45 1384.24 L4656.72 1384.24 L4656.72 1375.29 L4568.45 1375.29 L4568.45 1375.29  Z\n",
       "  \" fill=\"#009af9\" fill-rule=\"evenodd\" fill-opacity=\"1\"/>\n",
       "<polyline clip-path=\"url(#clip102)\" style=\"stroke:#000000; stroke-width:4; stroke-opacity:1; fill:none\" points=\"\n",
       "  4568.45,1375.29 4568.45,1384.24 4656.72,1384.24 4656.72,1375.29 4568.45,1375.29 \n",
       "  \"/>\n",
       "<path clip-path=\"url(#clip102)\" d=\"\n",
       "M4656.72 1384.24 L4656.72 1384.24 L4744.99 1384.24 L4744.99 1384.24 L4656.72 1384.24 L4656.72 1384.24  Z\n",
       "  \" fill=\"#009af9\" fill-rule=\"evenodd\" fill-opacity=\"1\"/>\n",
       "<polyline clip-path=\"url(#clip102)\" style=\"stroke:#000000; stroke-width:4; stroke-opacity:1; fill:none\" points=\"\n",
       "  4656.72,1384.24 4656.72,1384.24 4744.99,1384.24 4656.72,1384.24 \n",
       "  \"/>\n",
       "<path clip-path=\"url(#clip102)\" d=\"\n",
       "M4744.99 1384.24 L4744.99 1384.24 L4833.27 1384.24 L4833.27 1384.24 L4744.99 1384.24 L4744.99 1384.24  Z\n",
       "  \" fill=\"#009af9\" fill-rule=\"evenodd\" fill-opacity=\"1\"/>\n",
       "<polyline clip-path=\"url(#clip102)\" style=\"stroke:#000000; stroke-width:4; stroke-opacity:1; fill:none\" points=\"\n",
       "  4744.99,1384.24 4744.99,1384.24 4833.27,1384.24 4744.99,1384.24 \n",
       "  \"/>\n",
       "<path clip-path=\"url(#clip102)\" d=\"\n",
       "M4833.27 1357.38 L4833.27 1384.24 L4921.54 1384.24 L4921.54 1357.38 L4833.27 1357.38 L4833.27 1357.38  Z\n",
       "  \" fill=\"#009af9\" fill-rule=\"evenodd\" fill-opacity=\"1\"/>\n",
       "<polyline clip-path=\"url(#clip102)\" style=\"stroke:#000000; stroke-width:4; stroke-opacity:1; fill:none\" points=\"\n",
       "  4833.27,1357.38 4833.27,1384.24 4921.54,1384.24 4921.54,1357.38 4833.27,1357.38 \n",
       "  \"/>\n",
       "<path clip-path=\"url(#clip102)\" d=\"\n",
       "M4921.54 1357.38 L4921.54 1384.24 L5009.82 1384.24 L5009.82 1357.38 L4921.54 1357.38 L4921.54 1357.38  Z\n",
       "  \" fill=\"#009af9\" fill-rule=\"evenodd\" fill-opacity=\"1\"/>\n",
       "<polyline clip-path=\"url(#clip102)\" style=\"stroke:#000000; stroke-width:4; stroke-opacity:1; fill:none\" points=\"\n",
       "  4921.54,1357.38 4921.54,1384.24 5009.82,1384.24 5009.82,1357.38 4921.54,1357.38 \n",
       "  \"/>\n",
       "<path clip-path=\"url(#clip102)\" d=\"\n",
       "M5009.82 1375.29 L5009.82 1384.24 L5098.09 1384.24 L5098.09 1375.29 L5009.82 1375.29 L5009.82 1375.29  Z\n",
       "  \" fill=\"#009af9\" fill-rule=\"evenodd\" fill-opacity=\"1\"/>\n",
       "<polyline clip-path=\"url(#clip102)\" style=\"stroke:#000000; stroke-width:4; stroke-opacity:1; fill:none\" points=\"\n",
       "  5009.82,1375.29 5009.82,1384.24 5098.09,1384.24 5098.09,1375.29 5009.82,1375.29 \n",
       "  \"/>\n",
       "<path clip-path=\"url(#clip102)\" d=\"\n",
       "M5098.09 1384.24 L5098.09 1384.24 L5186.36 1384.24 L5186.36 1384.24 L5098.09 1384.24 L5098.09 1384.24  Z\n",
       "  \" fill=\"#009af9\" fill-rule=\"evenodd\" fill-opacity=\"1\"/>\n",
       "<polyline clip-path=\"url(#clip102)\" style=\"stroke:#000000; stroke-width:4; stroke-opacity:1; fill:none\" points=\"\n",
       "  5098.09,1384.24 5098.09,1384.24 5186.36,1384.24 5098.09,1384.24 \n",
       "  \"/>\n",
       "<path clip-path=\"url(#clip102)\" d=\"\n",
       "M5186.36 1375.29 L5186.36 1384.24 L5274.64 1384.24 L5274.64 1375.29 L5186.36 1375.29 L5186.36 1375.29  Z\n",
       "  \" fill=\"#009af9\" fill-rule=\"evenodd\" fill-opacity=\"1\"/>\n",
       "<polyline clip-path=\"url(#clip102)\" style=\"stroke:#000000; stroke-width:4; stroke-opacity:1; fill:none\" points=\"\n",
       "  5186.36,1375.29 5186.36,1384.24 5274.64,1384.24 5274.64,1375.29 5186.36,1375.29 \n",
       "  \"/>\n",
       "<path clip-path=\"url(#clip102)\" d=\"\n",
       "M5274.64 1384.24 L5274.64 1384.24 L5362.91 1384.24 L5362.91 1384.24 L5274.64 1384.24 L5274.64 1384.24  Z\n",
       "  \" fill=\"#009af9\" fill-rule=\"evenodd\" fill-opacity=\"1\"/>\n",
       "<polyline clip-path=\"url(#clip102)\" style=\"stroke:#000000; stroke-width:4; stroke-opacity:1; fill:none\" points=\"\n",
       "  5274.64,1384.24 5274.64,1384.24 5362.91,1384.24 5274.64,1384.24 \n",
       "  \"/>\n",
       "<path clip-path=\"url(#clip102)\" d=\"\n",
       "M5362.91 1375.29 L5362.91 1384.24 L5451.18 1384.24 L5451.18 1375.29 L5362.91 1375.29 L5362.91 1375.29  Z\n",
       "  \" fill=\"#009af9\" fill-rule=\"evenodd\" fill-opacity=\"1\"/>\n",
       "<polyline clip-path=\"url(#clip102)\" style=\"stroke:#000000; stroke-width:4; stroke-opacity:1; fill:none\" points=\"\n",
       "  5362.91,1375.29 5362.91,1384.24 5451.18,1384.24 5451.18,1375.29 5362.91,1375.29 \n",
       "  \"/>\n",
       "<path clip-path=\"url(#clip102)\" d=\"\n",
       "M5451.18 1384.24 L5451.18 1384.24 L5539.46 1384.24 L5539.46 1384.24 L5451.18 1384.24 L5451.18 1384.24  Z\n",
       "  \" fill=\"#009af9\" fill-rule=\"evenodd\" fill-opacity=\"1\"/>\n",
       "<polyline clip-path=\"url(#clip102)\" style=\"stroke:#000000; stroke-width:4; stroke-opacity:1; fill:none\" points=\"\n",
       "  5451.18,1384.24 5451.18,1384.24 5539.46,1384.24 5451.18,1384.24 \n",
       "  \"/>\n",
       "<path clip-path=\"url(#clip102)\" d=\"\n",
       "M5539.46 1384.24 L5539.46 1384.24 L5627.73 1384.24 L5627.73 1384.24 L5539.46 1384.24 L5539.46 1384.24  Z\n",
       "  \" fill=\"#009af9\" fill-rule=\"evenodd\" fill-opacity=\"1\"/>\n",
       "<polyline clip-path=\"url(#clip102)\" style=\"stroke:#000000; stroke-width:4; stroke-opacity:1; fill:none\" points=\"\n",
       "  5539.46,1384.24 5539.46,1384.24 5627.73,1384.24 5539.46,1384.24 \n",
       "  \"/>\n",
       "<path clip-path=\"url(#clip102)\" d=\"\n",
       "M5627.73 1384.24 L5627.73 1384.24 L5716 1384.24 L5716 1384.24 L5627.73 1384.24 L5627.73 1384.24  Z\n",
       "  \" fill=\"#009af9\" fill-rule=\"evenodd\" fill-opacity=\"1\"/>\n",
       "<polyline clip-path=\"url(#clip102)\" style=\"stroke:#000000; stroke-width:4; stroke-opacity:1; fill:none\" points=\"\n",
       "  5627.73,1384.24 5627.73,1384.24 5716,1384.24 5627.73,1384.24 \n",
       "  \"/>\n",
       "<path clip-path=\"url(#clip102)\" d=\"\n",
       "M5716 1384.24 L5716 1384.24 L5804.28 1384.24 L5804.28 1384.24 L5716 1384.24 L5716 1384.24  Z\n",
       "  \" fill=\"#009af9\" fill-rule=\"evenodd\" fill-opacity=\"1\"/>\n",
       "<polyline clip-path=\"url(#clip102)\" style=\"stroke:#000000; stroke-width:4; stroke-opacity:1; fill:none\" points=\"\n",
       "  5716,1384.24 5716,1384.24 5804.28,1384.24 5716,1384.24 \n",
       "  \"/>\n",
       "<path clip-path=\"url(#clip102)\" d=\"\n",
       "M5804.28 1384.24 L5804.28 1384.24 L5892.55 1384.24 L5892.55 1384.24 L5804.28 1384.24 L5804.28 1384.24  Z\n",
       "  \" fill=\"#009af9\" fill-rule=\"evenodd\" fill-opacity=\"1\"/>\n",
       "<polyline clip-path=\"url(#clip102)\" style=\"stroke:#000000; stroke-width:4; stroke-opacity:1; fill:none\" points=\"\n",
       "  5804.28,1384.24 5804.28,1384.24 5892.55,1384.24 5804.28,1384.24 \n",
       "  \"/>\n",
       "<path clip-path=\"url(#clip102)\" d=\"\n",
       "M5892.55 1384.24 L5892.55 1384.24 L5980.83 1384.24 L5980.83 1384.24 L5892.55 1384.24 L5892.55 1384.24  Z\n",
       "  \" fill=\"#009af9\" fill-rule=\"evenodd\" fill-opacity=\"1\"/>\n",
       "<polyline clip-path=\"url(#clip102)\" style=\"stroke:#000000; stroke-width:4; stroke-opacity:1; fill:none\" points=\"\n",
       "  5892.55,1384.24 5892.55,1384.24 5980.83,1384.24 5892.55,1384.24 \n",
       "  \"/>\n",
       "<path clip-path=\"url(#clip102)\" d=\"\n",
       "M5980.83 1384.24 L5980.83 1384.24 L6069.1 1384.24 L6069.1 1384.24 L5980.83 1384.24 L5980.83 1384.24  Z\n",
       "  \" fill=\"#009af9\" fill-rule=\"evenodd\" fill-opacity=\"1\"/>\n",
       "<polyline clip-path=\"url(#clip102)\" style=\"stroke:#000000; stroke-width:4; stroke-opacity:1; fill:none\" points=\"\n",
       "  5980.83,1384.24 5980.83,1384.24 6069.1,1384.24 5980.83,1384.24 \n",
       "  \"/>\n",
       "<path clip-path=\"url(#clip102)\" d=\"\n",
       "M6069.1 1384.24 L6069.1 1384.24 L6157.37 1384.24 L6157.37 1384.24 L6069.1 1384.24 L6069.1 1384.24  Z\n",
       "  \" fill=\"#009af9\" fill-rule=\"evenodd\" fill-opacity=\"1\"/>\n",
       "<polyline clip-path=\"url(#clip102)\" style=\"stroke:#000000; stroke-width:4; stroke-opacity:1; fill:none\" points=\"\n",
       "  6069.1,1384.24 6069.1,1384.24 6157.37,1384.24 6069.1,1384.24 \n",
       "  \"/>\n",
       "<path clip-path=\"url(#clip102)\" d=\"\n",
       "M6157.37 1384.24 L6157.37 1384.24 L6245.65 1384.24 L6245.65 1384.24 L6157.37 1384.24 L6157.37 1384.24  Z\n",
       "  \" fill=\"#009af9\" fill-rule=\"evenodd\" fill-opacity=\"1\"/>\n",
       "<polyline clip-path=\"url(#clip102)\" style=\"stroke:#000000; stroke-width:4; stroke-opacity:1; fill:none\" points=\"\n",
       "  6157.37,1384.24 6157.37,1384.24 6245.65,1384.24 6157.37,1384.24 \n",
       "  \"/>\n",
       "<path clip-path=\"url(#clip102)\" d=\"\n",
       "M6245.65 1384.24 L6245.65 1384.24 L6333.92 1384.24 L6333.92 1384.24 L6245.65 1384.24 L6245.65 1384.24  Z\n",
       "  \" fill=\"#009af9\" fill-rule=\"evenodd\" fill-opacity=\"1\"/>\n",
       "<polyline clip-path=\"url(#clip102)\" style=\"stroke:#000000; stroke-width:4; stroke-opacity:1; fill:none\" points=\"\n",
       "  6245.65,1384.24 6245.65,1384.24 6333.92,1384.24 6245.65,1384.24 \n",
       "  \"/>\n",
       "<path clip-path=\"url(#clip102)\" d=\"\n",
       "M6333.92 1384.24 L6333.92 1384.24 L6422.19 1384.24 L6422.19 1384.24 L6333.92 1384.24 L6333.92 1384.24  Z\n",
       "  \" fill=\"#009af9\" fill-rule=\"evenodd\" fill-opacity=\"1\"/>\n",
       "<polyline clip-path=\"url(#clip102)\" style=\"stroke:#000000; stroke-width:4; stroke-opacity:1; fill:none\" points=\"\n",
       "  6333.92,1384.24 6333.92,1384.24 6422.19,1384.24 6333.92,1384.24 \n",
       "  \"/>\n",
       "<path clip-path=\"url(#clip102)\" d=\"\n",
       "M6422.19 1384.24 L6422.19 1384.24 L6510.47 1384.24 L6510.47 1384.24 L6422.19 1384.24 L6422.19 1384.24  Z\n",
       "  \" fill=\"#009af9\" fill-rule=\"evenodd\" fill-opacity=\"1\"/>\n",
       "<polyline clip-path=\"url(#clip102)\" style=\"stroke:#000000; stroke-width:4; stroke-opacity:1; fill:none\" points=\"\n",
       "  6422.19,1384.24 6422.19,1384.24 6510.47,1384.24 6422.19,1384.24 \n",
       "  \"/>\n",
       "<path clip-path=\"url(#clip102)\" d=\"\n",
       "M6510.47 1384.24 L6510.47 1384.24 L6598.74 1384.24 L6598.74 1384.24 L6510.47 1384.24 L6510.47 1384.24  Z\n",
       "  \" fill=\"#009af9\" fill-rule=\"evenodd\" fill-opacity=\"1\"/>\n",
       "<polyline clip-path=\"url(#clip102)\" style=\"stroke:#000000; stroke-width:4; stroke-opacity:1; fill:none\" points=\"\n",
       "  6510.47,1384.24 6510.47,1384.24 6598.74,1384.24 6510.47,1384.24 \n",
       "  \"/>\n",
       "<path clip-path=\"url(#clip102)\" d=\"\n",
       "M6598.74 1384.24 L6598.74 1384.24 L6687.02 1384.24 L6687.02 1384.24 L6598.74 1384.24 L6598.74 1384.24  Z\n",
       "  \" fill=\"#009af9\" fill-rule=\"evenodd\" fill-opacity=\"1\"/>\n",
       "<polyline clip-path=\"url(#clip102)\" style=\"stroke:#000000; stroke-width:4; stroke-opacity:1; fill:none\" points=\"\n",
       "  6598.74,1384.24 6598.74,1384.24 6687.02,1384.24 6598.74,1384.24 \n",
       "  \"/>\n",
       "<path clip-path=\"url(#clip102)\" d=\"\n",
       "M6687.02 1384.24 L6687.02 1384.24 L6775.29 1384.24 L6775.29 1384.24 L6687.02 1384.24 L6687.02 1384.24  Z\n",
       "  \" fill=\"#009af9\" fill-rule=\"evenodd\" fill-opacity=\"1\"/>\n",
       "<polyline clip-path=\"url(#clip102)\" style=\"stroke:#000000; stroke-width:4; stroke-opacity:1; fill:none\" points=\"\n",
       "  6687.02,1384.24 6687.02,1384.24 6775.29,1384.24 6687.02,1384.24 \n",
       "  \"/>\n",
       "<path clip-path=\"url(#clip102)\" d=\"\n",
       "M6775.29 1384.24 L6775.29 1384.24 L6863.56 1384.24 L6863.56 1384.24 L6775.29 1384.24 L6775.29 1384.24  Z\n",
       "  \" fill=\"#009af9\" fill-rule=\"evenodd\" fill-opacity=\"1\"/>\n",
       "<polyline clip-path=\"url(#clip102)\" style=\"stroke:#000000; stroke-width:4; stroke-opacity:1; fill:none\" points=\"\n",
       "  6775.29,1384.24 6775.29,1384.24 6863.56,1384.24 6775.29,1384.24 \n",
       "  \"/>\n",
       "<path clip-path=\"url(#clip102)\" d=\"\n",
       "M6863.56 1384.24 L6863.56 1384.24 L6951.84 1384.24 L6951.84 1384.24 L6863.56 1384.24 L6863.56 1384.24  Z\n",
       "  \" fill=\"#009af9\" fill-rule=\"evenodd\" fill-opacity=\"1\"/>\n",
       "<polyline clip-path=\"url(#clip102)\" style=\"stroke:#000000; stroke-width:4; stroke-opacity:1; fill:none\" points=\"\n",
       "  6863.56,1384.24 6863.56,1384.24 6951.84,1384.24 6863.56,1384.24 \n",
       "  \"/>\n",
       "<path clip-path=\"url(#clip102)\" d=\"\n",
       "M6951.84 1384.24 L6951.84 1384.24 L7040.11 1384.24 L7040.11 1384.24 L6951.84 1384.24 L6951.84 1384.24  Z\n",
       "  \" fill=\"#009af9\" fill-rule=\"evenodd\" fill-opacity=\"1\"/>\n",
       "<polyline clip-path=\"url(#clip102)\" style=\"stroke:#000000; stroke-width:4; stroke-opacity:1; fill:none\" points=\"\n",
       "  6951.84,1384.24 6951.84,1384.24 7040.11,1384.24 6951.84,1384.24 \n",
       "  \"/>\n",
       "<path clip-path=\"url(#clip102)\" d=\"\n",
       "M7040.11 1384.24 L7040.11 1384.24 L7128.38 1384.24 L7128.38 1384.24 L7040.11 1384.24 L7040.11 1384.24  Z\n",
       "  \" fill=\"#009af9\" fill-rule=\"evenodd\" fill-opacity=\"1\"/>\n",
       "<polyline clip-path=\"url(#clip102)\" style=\"stroke:#000000; stroke-width:4; stroke-opacity:1; fill:none\" points=\"\n",
       "  7040.11,1384.24 7040.11,1384.24 7128.38,1384.24 7040.11,1384.24 \n",
       "  \"/>\n",
       "<path clip-path=\"url(#clip102)\" d=\"\n",
       "M7128.38 1384.24 L7128.38 1384.24 L7216.66 1384.24 L7216.66 1384.24 L7128.38 1384.24 L7128.38 1384.24  Z\n",
       "  \" fill=\"#009af9\" fill-rule=\"evenodd\" fill-opacity=\"1\"/>\n",
       "<polyline clip-path=\"url(#clip102)\" style=\"stroke:#000000; stroke-width:4; stroke-opacity:1; fill:none\" points=\"\n",
       "  7128.38,1384.24 7128.38,1384.24 7216.66,1384.24 7128.38,1384.24 \n",
       "  \"/>\n",
       "<path clip-path=\"url(#clip102)\" d=\"\n",
       "M7216.66 1384.24 L7216.66 1384.24 L7304.93 1384.24 L7304.93 1384.24 L7216.66 1384.24 L7216.66 1384.24  Z\n",
       "  \" fill=\"#009af9\" fill-rule=\"evenodd\" fill-opacity=\"1\"/>\n",
       "<polyline clip-path=\"url(#clip102)\" style=\"stroke:#000000; stroke-width:4; stroke-opacity:1; fill:none\" points=\"\n",
       "  7216.66,1384.24 7216.66,1384.24 7304.93,1384.24 7216.66,1384.24 \n",
       "  \"/>\n",
       "<path clip-path=\"url(#clip102)\" d=\"\n",
       "M7304.93 1384.24 L7304.93 1384.24 L7393.21 1384.24 L7393.21 1384.24 L7304.93 1384.24 L7304.93 1384.24  Z\n",
       "  \" fill=\"#009af9\" fill-rule=\"evenodd\" fill-opacity=\"1\"/>\n",
       "<polyline clip-path=\"url(#clip102)\" style=\"stroke:#000000; stroke-width:4; stroke-opacity:1; fill:none\" points=\"\n",
       "  7304.93,1384.24 7304.93,1384.24 7393.21,1384.24 7304.93,1384.24 \n",
       "  \"/>\n",
       "<path clip-path=\"url(#clip102)\" d=\"\n",
       "M7393.21 1384.24 L7393.21 1384.24 L7481.48 1384.24 L7481.48 1384.24 L7393.21 1384.24 L7393.21 1384.24  Z\n",
       "  \" fill=\"#009af9\" fill-rule=\"evenodd\" fill-opacity=\"1\"/>\n",
       "<polyline clip-path=\"url(#clip102)\" style=\"stroke:#000000; stroke-width:4; stroke-opacity:1; fill:none\" points=\"\n",
       "  7393.21,1384.24 7393.21,1384.24 7481.48,1384.24 7393.21,1384.24 \n",
       "  \"/>\n",
       "<path clip-path=\"url(#clip102)\" d=\"\n",
       "M7481.48 1384.24 L7481.48 1384.24 L7569.75 1384.24 L7569.75 1384.24 L7481.48 1384.24 L7481.48 1384.24  Z\n",
       "  \" fill=\"#009af9\" fill-rule=\"evenodd\" fill-opacity=\"1\"/>\n",
       "<polyline clip-path=\"url(#clip102)\" style=\"stroke:#000000; stroke-width:4; stroke-opacity:1; fill:none\" points=\"\n",
       "  7481.48,1384.24 7481.48,1384.24 7569.75,1384.24 7481.48,1384.24 \n",
       "  \"/>\n",
       "<path clip-path=\"url(#clip102)\" d=\"\n",
       "M7569.75 1384.24 L7569.75 1384.24 L7658.03 1384.24 L7658.03 1384.24 L7569.75 1384.24 L7569.75 1384.24  Z\n",
       "  \" fill=\"#009af9\" fill-rule=\"evenodd\" fill-opacity=\"1\"/>\n",
       "<polyline clip-path=\"url(#clip102)\" style=\"stroke:#000000; stroke-width:4; stroke-opacity:1; fill:none\" points=\"\n",
       "  7569.75,1384.24 7569.75,1384.24 7658.03,1384.24 7569.75,1384.24 \n",
       "  \"/>\n",
       "<path clip-path=\"url(#clip102)\" d=\"\n",
       "M7658.03 1384.24 L7658.03 1384.24 L7746.3 1384.24 L7746.3 1384.24 L7658.03 1384.24 L7658.03 1384.24  Z\n",
       "  \" fill=\"#009af9\" fill-rule=\"evenodd\" fill-opacity=\"1\"/>\n",
       "<polyline clip-path=\"url(#clip102)\" style=\"stroke:#000000; stroke-width:4; stroke-opacity:1; fill:none\" points=\"\n",
       "  7658.03,1384.24 7658.03,1384.24 7746.3,1384.24 7658.03,1384.24 \n",
       "  \"/>\n",
       "<path clip-path=\"url(#clip102)\" d=\"\n",
       "M7746.3 1384.24 L7746.3 1384.24 L7834.57 1384.24 L7834.57 1384.24 L7746.3 1384.24 L7746.3 1384.24  Z\n",
       "  \" fill=\"#009af9\" fill-rule=\"evenodd\" fill-opacity=\"1\"/>\n",
       "<polyline clip-path=\"url(#clip102)\" style=\"stroke:#000000; stroke-width:4; stroke-opacity:1; fill:none\" points=\"\n",
       "  7746.3,1384.24 7746.3,1384.24 7834.57,1384.24 7746.3,1384.24 \n",
       "  \"/>\n",
       "<path clip-path=\"url(#clip102)\" d=\"\n",
       "M7834.57 1384.24 L7834.57 1384.24 L7922.85 1384.24 L7922.85 1384.24 L7834.57 1384.24 L7834.57 1384.24  Z\n",
       "  \" fill=\"#009af9\" fill-rule=\"evenodd\" fill-opacity=\"1\"/>\n",
       "<polyline clip-path=\"url(#clip102)\" style=\"stroke:#000000; stroke-width:4; stroke-opacity:1; fill:none\" points=\"\n",
       "  7834.57,1384.24 7834.57,1384.24 7922.85,1384.24 7834.57,1384.24 \n",
       "  \"/>\n",
       "<path clip-path=\"url(#clip102)\" d=\"\n",
       "M7922.85 1384.24 L7922.85 1384.24 L8011.12 1384.24 L8011.12 1384.24 L7922.85 1384.24 L7922.85 1384.24  Z\n",
       "  \" fill=\"#009af9\" fill-rule=\"evenodd\" fill-opacity=\"1\"/>\n",
       "<polyline clip-path=\"url(#clip102)\" style=\"stroke:#000000; stroke-width:4; stroke-opacity:1; fill:none\" points=\"\n",
       "  7922.85,1384.24 7922.85,1384.24 8011.12,1384.24 7922.85,1384.24 \n",
       "  \"/>\n",
       "<path clip-path=\"url(#clip102)\" d=\"\n",
       "M8011.12 1384.24 L8011.12 1384.24 L8099.4 1384.24 L8099.4 1384.24 L8011.12 1384.24 L8011.12 1384.24  Z\n",
       "  \" fill=\"#009af9\" fill-rule=\"evenodd\" fill-opacity=\"1\"/>\n",
       "<polyline clip-path=\"url(#clip102)\" style=\"stroke:#000000; stroke-width:4; stroke-opacity:1; fill:none\" points=\"\n",
       "  8011.12,1384.24 8011.12,1384.24 8099.4,1384.24 8011.12,1384.24 \n",
       "  \"/>\n",
       "<path clip-path=\"url(#clip102)\" d=\"\n",
       "M8099.4 1384.24 L8099.4 1384.24 L8187.67 1384.24 L8187.67 1384.24 L8099.4 1384.24 L8099.4 1384.24  Z\n",
       "  \" fill=\"#009af9\" fill-rule=\"evenodd\" fill-opacity=\"1\"/>\n",
       "<polyline clip-path=\"url(#clip102)\" style=\"stroke:#000000; stroke-width:4; stroke-opacity:1; fill:none\" points=\"\n",
       "  8099.4,1384.24 8099.4,1384.24 8187.67,1384.24 8099.4,1384.24 \n",
       "  \"/>\n",
       "<path clip-path=\"url(#clip102)\" d=\"\n",
       "M8187.67 1384.24 L8187.67 1384.24 L8275.94 1384.24 L8275.94 1384.24 L8187.67 1384.24 L8187.67 1384.24  Z\n",
       "  \" fill=\"#009af9\" fill-rule=\"evenodd\" fill-opacity=\"1\"/>\n",
       "<polyline clip-path=\"url(#clip102)\" style=\"stroke:#000000; stroke-width:4; stroke-opacity:1; fill:none\" points=\"\n",
       "  8187.67,1384.24 8187.67,1384.24 8275.94,1384.24 8187.67,1384.24 \n",
       "  \"/>\n",
       "<path clip-path=\"url(#clip102)\" d=\"\n",
       "M8275.94 1384.24 L8275.94 1384.24 L8364.22 1384.24 L8364.22 1384.24 L8275.94 1384.24 L8275.94 1384.24  Z\n",
       "  \" fill=\"#009af9\" fill-rule=\"evenodd\" fill-opacity=\"1\"/>\n",
       "<polyline clip-path=\"url(#clip102)\" style=\"stroke:#000000; stroke-width:4; stroke-opacity:1; fill:none\" points=\"\n",
       "  8275.94,1384.24 8275.94,1384.24 8364.22,1384.24 8275.94,1384.24 \n",
       "  \"/>\n",
       "<path clip-path=\"url(#clip102)\" d=\"\n",
       "M8364.22 1384.24 L8364.22 1384.24 L8452.49 1384.24 L8452.49 1384.24 L8364.22 1384.24 L8364.22 1384.24  Z\n",
       "  \" fill=\"#009af9\" fill-rule=\"evenodd\" fill-opacity=\"1\"/>\n",
       "<polyline clip-path=\"url(#clip102)\" style=\"stroke:#000000; stroke-width:4; stroke-opacity:1; fill:none\" points=\"\n",
       "  8364.22,1384.24 8364.22,1384.24 8452.49,1384.24 8364.22,1384.24 \n",
       "  \"/>\n",
       "<path clip-path=\"url(#clip102)\" d=\"\n",
       "M8452.49 1384.24 L8452.49 1384.24 L8540.76 1384.24 L8540.76 1384.24 L8452.49 1384.24 L8452.49 1384.24  Z\n",
       "  \" fill=\"#009af9\" fill-rule=\"evenodd\" fill-opacity=\"1\"/>\n",
       "<polyline clip-path=\"url(#clip102)\" style=\"stroke:#000000; stroke-width:4; stroke-opacity:1; fill:none\" points=\"\n",
       "  8452.49,1384.24 8452.49,1384.24 8540.76,1384.24 8452.49,1384.24 \n",
       "  \"/>\n",
       "<path clip-path=\"url(#clip102)\" d=\"\n",
       "M8540.76 1384.24 L8540.76 1384.24 L8629.04 1384.24 L8629.04 1384.24 L8540.76 1384.24 L8540.76 1384.24  Z\n",
       "  \" fill=\"#009af9\" fill-rule=\"evenodd\" fill-opacity=\"1\"/>\n",
       "<polyline clip-path=\"url(#clip102)\" style=\"stroke:#000000; stroke-width:4; stroke-opacity:1; fill:none\" points=\"\n",
       "  8540.76,1384.24 8540.76,1384.24 8629.04,1384.24 8540.76,1384.24 \n",
       "  \"/>\n",
       "<path clip-path=\"url(#clip102)\" d=\"\n",
       "M8629.04 1384.24 L8629.04 1384.24 L8717.31 1384.24 L8717.31 1384.24 L8629.04 1384.24 L8629.04 1384.24  Z\n",
       "  \" fill=\"#009af9\" fill-rule=\"evenodd\" fill-opacity=\"1\"/>\n",
       "<polyline clip-path=\"url(#clip102)\" style=\"stroke:#000000; stroke-width:4; stroke-opacity:1; fill:none\" points=\"\n",
       "  8629.04,1384.24 8629.04,1384.24 8717.31,1384.24 8629.04,1384.24 \n",
       "  \"/>\n",
       "<path clip-path=\"url(#clip102)\" d=\"\n",
       "M8717.31 1384.24 L8717.31 1384.24 L8805.59 1384.24 L8805.59 1384.24 L8717.31 1384.24 L8717.31 1384.24  Z\n",
       "  \" fill=\"#009af9\" fill-rule=\"evenodd\" fill-opacity=\"1\"/>\n",
       "<polyline clip-path=\"url(#clip102)\" style=\"stroke:#000000; stroke-width:4; stroke-opacity:1; fill:none\" points=\"\n",
       "  8717.31,1384.24 8717.31,1384.24 8805.59,1384.24 8717.31,1384.24 \n",
       "  \"/>\n",
       "<path clip-path=\"url(#clip102)\" d=\"\n",
       "M8805.59 1384.24 L8805.59 1384.24 L8893.86 1384.24 L8893.86 1384.24 L8805.59 1384.24 L8805.59 1384.24  Z\n",
       "  \" fill=\"#009af9\" fill-rule=\"evenodd\" fill-opacity=\"1\"/>\n",
       "<polyline clip-path=\"url(#clip102)\" style=\"stroke:#000000; stroke-width:4; stroke-opacity:1; fill:none\" points=\"\n",
       "  8805.59,1384.24 8805.59,1384.24 8893.86,1384.24 8805.59,1384.24 \n",
       "  \"/>\n",
       "<path clip-path=\"url(#clip102)\" d=\"\n",
       "M8893.86 1384.24 L8893.86 1384.24 L8982.13 1384.24 L8982.13 1384.24 L8893.86 1384.24 L8893.86 1384.24  Z\n",
       "  \" fill=\"#009af9\" fill-rule=\"evenodd\" fill-opacity=\"1\"/>\n",
       "<polyline clip-path=\"url(#clip102)\" style=\"stroke:#000000; stroke-width:4; stroke-opacity:1; fill:none\" points=\"\n",
       "  8893.86,1384.24 8893.86,1384.24 8982.13,1384.24 8893.86,1384.24 \n",
       "  \"/>\n",
       "<path clip-path=\"url(#clip102)\" d=\"\n",
       "M8982.13 1384.24 L8982.13 1384.24 L9070.41 1384.24 L9070.41 1384.24 L8982.13 1384.24 L8982.13 1384.24  Z\n",
       "  \" fill=\"#009af9\" fill-rule=\"evenodd\" fill-opacity=\"1\"/>\n",
       "<polyline clip-path=\"url(#clip102)\" style=\"stroke:#000000; stroke-width:4; stroke-opacity:1; fill:none\" points=\"\n",
       "  8982.13,1384.24 8982.13,1384.24 9070.41,1384.24 8982.13,1384.24 \n",
       "  \"/>\n",
       "<path clip-path=\"url(#clip102)\" d=\"\n",
       "M9070.41 1384.24 L9070.41 1384.24 L9158.68 1384.24 L9158.68 1384.24 L9070.41 1384.24 L9070.41 1384.24  Z\n",
       "  \" fill=\"#009af9\" fill-rule=\"evenodd\" fill-opacity=\"1\"/>\n",
       "<polyline clip-path=\"url(#clip102)\" style=\"stroke:#000000; stroke-width:4; stroke-opacity:1; fill:none\" points=\"\n",
       "  9070.41,1384.24 9070.41,1384.24 9158.68,1384.24 9070.41,1384.24 \n",
       "  \"/>\n",
       "<path clip-path=\"url(#clip102)\" d=\"\n",
       "M9158.68 1384.24 L9158.68 1384.24 L9246.95 1384.24 L9246.95 1384.24 L9158.68 1384.24 L9158.68 1384.24  Z\n",
       "  \" fill=\"#009af9\" fill-rule=\"evenodd\" fill-opacity=\"1\"/>\n",
       "<polyline clip-path=\"url(#clip102)\" style=\"stroke:#000000; stroke-width:4; stroke-opacity:1; fill:none\" points=\"\n",
       "  9158.68,1384.24 9158.68,1384.24 9246.95,1384.24 9158.68,1384.24 \n",
       "  \"/>\n",
       "<path clip-path=\"url(#clip102)\" d=\"\n",
       "M9246.95 1384.24 L9246.95 1384.24 L9335.23 1384.24 L9335.23 1384.24 L9246.95 1384.24 L9246.95 1384.24  Z\n",
       "  \" fill=\"#009af9\" fill-rule=\"evenodd\" fill-opacity=\"1\"/>\n",
       "<polyline clip-path=\"url(#clip102)\" style=\"stroke:#000000; stroke-width:4; stroke-opacity:1; fill:none\" points=\"\n",
       "  9246.95,1384.24 9246.95,1384.24 9335.23,1384.24 9246.95,1384.24 \n",
       "  \"/>\n",
       "<path clip-path=\"url(#clip102)\" d=\"\n",
       "M9335.23 1384.24 L9335.23 1384.24 L9423.5 1384.24 L9423.5 1384.24 L9335.23 1384.24 L9335.23 1384.24  Z\n",
       "  \" fill=\"#009af9\" fill-rule=\"evenodd\" fill-opacity=\"1\"/>\n",
       "<polyline clip-path=\"url(#clip102)\" style=\"stroke:#000000; stroke-width:4; stroke-opacity:1; fill:none\" points=\"\n",
       "  9335.23,1384.24 9335.23,1384.24 9423.5,1384.24 9335.23,1384.24 \n",
       "  \"/>\n",
       "<path clip-path=\"url(#clip102)\" d=\"\n",
       "M9423.5 1384.24 L9423.5 1384.24 L9511.78 1384.24 L9511.78 1384.24 L9423.5 1384.24 L9423.5 1384.24  Z\n",
       "  \" fill=\"#009af9\" fill-rule=\"evenodd\" fill-opacity=\"1\"/>\n",
       "<polyline clip-path=\"url(#clip102)\" style=\"stroke:#000000; stroke-width:4; stroke-opacity:1; fill:none\" points=\"\n",
       "  9423.5,1384.24 9423.5,1384.24 9511.78,1384.24 9423.5,1384.24 \n",
       "  \"/>\n",
       "<path clip-path=\"url(#clip102)\" d=\"\n",
       "M9511.78 1384.24 L9511.78 1384.24 L9600.05 1384.24 L9600.05 1384.24 L9511.78 1384.24 L9511.78 1384.24  Z\n",
       "  \" fill=\"#009af9\" fill-rule=\"evenodd\" fill-opacity=\"1\"/>\n",
       "<polyline clip-path=\"url(#clip102)\" style=\"stroke:#000000; stroke-width:4; stroke-opacity:1; fill:none\" points=\"\n",
       "  9511.78,1384.24 9511.78,1384.24 9600.05,1384.24 9511.78,1384.24 \n",
       "  \"/>\n",
       "<path clip-path=\"url(#clip102)\" d=\"\n",
       "M9600.05 1384.24 L9600.05 1384.24 L9688.32 1384.24 L9688.32 1384.24 L9600.05 1384.24 L9600.05 1384.24  Z\n",
       "  \" fill=\"#009af9\" fill-rule=\"evenodd\" fill-opacity=\"1\"/>\n",
       "<polyline clip-path=\"url(#clip102)\" style=\"stroke:#000000; stroke-width:4; stroke-opacity:1; fill:none\" points=\"\n",
       "  9600.05,1384.24 9600.05,1384.24 9688.32,1384.24 9600.05,1384.24 \n",
       "  \"/>\n",
       "<path clip-path=\"url(#clip102)\" d=\"\n",
       "M9688.32 1384.24 L9688.32 1384.24 L9776.6 1384.24 L9776.6 1384.24 L9688.32 1384.24 L9688.32 1384.24  Z\n",
       "  \" fill=\"#009af9\" fill-rule=\"evenodd\" fill-opacity=\"1\"/>\n",
       "<polyline clip-path=\"url(#clip102)\" style=\"stroke:#000000; stroke-width:4; stroke-opacity:1; fill:none\" points=\"\n",
       "  9688.32,1384.24 9688.32,1384.24 9776.6,1384.24 9688.32,1384.24 \n",
       "  \"/>\n",
       "<path clip-path=\"url(#clip102)\" d=\"\n",
       "M9776.6 1384.24 L9776.6 1384.24 L9864.87 1384.24 L9864.87 1384.24 L9776.6 1384.24 L9776.6 1384.24  Z\n",
       "  \" fill=\"#009af9\" fill-rule=\"evenodd\" fill-opacity=\"1\"/>\n",
       "<polyline clip-path=\"url(#clip102)\" style=\"stroke:#000000; stroke-width:4; stroke-opacity:1; fill:none\" points=\"\n",
       "  9776.6,1384.24 9776.6,1384.24 9864.87,1384.24 9776.6,1384.24 \n",
       "  \"/>\n",
       "<path clip-path=\"url(#clip102)\" d=\"\n",
       "M9864.87 1384.24 L9864.87 1384.24 L9953.14 1384.24 L9953.14 1384.24 L9864.87 1384.24 L9864.87 1384.24  Z\n",
       "  \" fill=\"#009af9\" fill-rule=\"evenodd\" fill-opacity=\"1\"/>\n",
       "<polyline clip-path=\"url(#clip102)\" style=\"stroke:#000000; stroke-width:4; stroke-opacity:1; fill:none\" points=\"\n",
       "  9864.87,1384.24 9864.87,1384.24 9953.14,1384.24 9864.87,1384.24 \n",
       "  \"/>\n",
       "<path clip-path=\"url(#clip102)\" d=\"\n",
       "M9953.14 1384.24 L9953.14 1384.24 L10041.4 1384.24 L10041.4 1384.24 L9953.14 1384.24 L9953.14 1384.24  Z\n",
       "  \" fill=\"#009af9\" fill-rule=\"evenodd\" fill-opacity=\"1\"/>\n",
       "<polyline clip-path=\"url(#clip102)\" style=\"stroke:#000000; stroke-width:4; stroke-opacity:1; fill:none\" points=\"\n",
       "  9953.14,1384.24 9953.14,1384.24 10041.4,1384.24 9953.14,1384.24 \n",
       "  \"/>\n",
       "<path clip-path=\"url(#clip102)\" d=\"\n",
       "M10041.4 1384.24 L10041.4 1384.24 L10129.7 1384.24 L10129.7 1384.24 L10041.4 1384.24 L10041.4 1384.24  Z\n",
       "  \" fill=\"#009af9\" fill-rule=\"evenodd\" fill-opacity=\"1\"/>\n",
       "<polyline clip-path=\"url(#clip102)\" style=\"stroke:#000000; stroke-width:4; stroke-opacity:1; fill:none\" points=\"\n",
       "  10041.4,1384.24 10041.4,1384.24 10129.7,1384.24 10041.4,1384.24 \n",
       "  \"/>\n",
       "<path clip-path=\"url(#clip102)\" d=\"\n",
       "M10129.7 1384.24 L10129.7 1384.24 L10218 1384.24 L10218 1384.24 L10129.7 1384.24 L10129.7 1384.24  Z\n",
       "  \" fill=\"#009af9\" fill-rule=\"evenodd\" fill-opacity=\"1\"/>\n",
       "<polyline clip-path=\"url(#clip102)\" style=\"stroke:#000000; stroke-width:4; stroke-opacity:1; fill:none\" points=\"\n",
       "  10129.7,1384.24 10129.7,1384.24 10218,1384.24 10129.7,1384.24 \n",
       "  \"/>\n",
       "<path clip-path=\"url(#clip102)\" d=\"\n",
       "M10218 1384.24 L10218 1384.24 L10306.2 1384.24 L10306.2 1384.24 L10218 1384.24 L10218 1384.24  Z\n",
       "  \" fill=\"#009af9\" fill-rule=\"evenodd\" fill-opacity=\"1\"/>\n",
       "<polyline clip-path=\"url(#clip102)\" style=\"stroke:#000000; stroke-width:4; stroke-opacity:1; fill:none\" points=\"\n",
       "  10218,1384.24 10218,1384.24 10306.2,1384.24 10218,1384.24 \n",
       "  \"/>\n",
       "<path clip-path=\"url(#clip102)\" d=\"\n",
       "M10306.2 1384.24 L10306.2 1384.24 L10394.5 1384.24 L10394.5 1384.24 L10306.2 1384.24 L10306.2 1384.24  Z\n",
       "  \" fill=\"#009af9\" fill-rule=\"evenodd\" fill-opacity=\"1\"/>\n",
       "<polyline clip-path=\"url(#clip102)\" style=\"stroke:#000000; stroke-width:4; stroke-opacity:1; fill:none\" points=\"\n",
       "  10306.2,1384.24 10306.2,1384.24 10394.5,1384.24 10306.2,1384.24 \n",
       "  \"/>\n",
       "<path clip-path=\"url(#clip102)\" d=\"\n",
       "M10394.5 1384.24 L10394.5 1384.24 L10482.8 1384.24 L10482.8 1384.24 L10394.5 1384.24 L10394.5 1384.24  Z\n",
       "  \" fill=\"#009af9\" fill-rule=\"evenodd\" fill-opacity=\"1\"/>\n",
       "<polyline clip-path=\"url(#clip102)\" style=\"stroke:#000000; stroke-width:4; stroke-opacity:1; fill:none\" points=\"\n",
       "  10394.5,1384.24 10394.5,1384.24 10482.8,1384.24 10394.5,1384.24 \n",
       "  \"/>\n",
       "<path clip-path=\"url(#clip102)\" d=\"\n",
       "M10482.8 1384.24 L10482.8 1384.24 L10571.1 1384.24 L10571.1 1384.24 L10482.8 1384.24 L10482.8 1384.24  Z\n",
       "  \" fill=\"#009af9\" fill-rule=\"evenodd\" fill-opacity=\"1\"/>\n",
       "<polyline clip-path=\"url(#clip102)\" style=\"stroke:#000000; stroke-width:4; stroke-opacity:1; fill:none\" points=\"\n",
       "  10482.8,1384.24 10482.8,1384.24 10571.1,1384.24 10482.8,1384.24 \n",
       "  \"/>\n",
       "<path clip-path=\"url(#clip102)\" d=\"\n",
       "M10571.1 1384.24 L10571.1 1384.24 L10659.3 1384.24 L10659.3 1384.24 L10571.1 1384.24 L10571.1 1384.24  Z\n",
       "  \" fill=\"#009af9\" fill-rule=\"evenodd\" fill-opacity=\"1\"/>\n",
       "<polyline clip-path=\"url(#clip102)\" style=\"stroke:#000000; stroke-width:4; stroke-opacity:1; fill:none\" points=\"\n",
       "  10571.1,1384.24 10571.1,1384.24 10659.3,1384.24 10571.1,1384.24 \n",
       "  \"/>\n",
       "<path clip-path=\"url(#clip102)\" d=\"\n",
       "M10659.3 1384.24 L10659.3 1384.24 L10747.6 1384.24 L10747.6 1384.24 L10659.3 1384.24 L10659.3 1384.24  Z\n",
       "  \" fill=\"#009af9\" fill-rule=\"evenodd\" fill-opacity=\"1\"/>\n",
       "<polyline clip-path=\"url(#clip102)\" style=\"stroke:#000000; stroke-width:4; stroke-opacity:1; fill:none\" points=\"\n",
       "  10659.3,1384.24 10659.3,1384.24 10747.6,1384.24 10659.3,1384.24 \n",
       "  \"/>\n",
       "<path clip-path=\"url(#clip102)\" d=\"\n",
       "M10747.6 1384.24 L10747.6 1384.24 L10835.9 1384.24 L10835.9 1384.24 L10747.6 1384.24 L10747.6 1384.24  Z\n",
       "  \" fill=\"#009af9\" fill-rule=\"evenodd\" fill-opacity=\"1\"/>\n",
       "<polyline clip-path=\"url(#clip102)\" style=\"stroke:#000000; stroke-width:4; stroke-opacity:1; fill:none\" points=\"\n",
       "  10747.6,1384.24 10747.6,1384.24 10835.9,1384.24 10747.6,1384.24 \n",
       "  \"/>\n",
       "<path clip-path=\"url(#clip102)\" d=\"\n",
       "M10835.9 1384.24 L10835.9 1384.24 L10924.2 1384.24 L10924.2 1384.24 L10835.9 1384.24 L10835.9 1384.24  Z\n",
       "  \" fill=\"#009af9\" fill-rule=\"evenodd\" fill-opacity=\"1\"/>\n",
       "<polyline clip-path=\"url(#clip102)\" style=\"stroke:#000000; stroke-width:4; stroke-opacity:1; fill:none\" points=\"\n",
       "  10835.9,1384.24 10835.9,1384.24 10924.2,1384.24 10835.9,1384.24 \n",
       "  \"/>\n",
       "<path clip-path=\"url(#clip102)\" d=\"\n",
       "M10924.2 1384.24 L10924.2 1384.24 L11012.4 1384.24 L11012.4 1384.24 L10924.2 1384.24 L10924.2 1384.24  Z\n",
       "  \" fill=\"#009af9\" fill-rule=\"evenodd\" fill-opacity=\"1\"/>\n",
       "<polyline clip-path=\"url(#clip102)\" style=\"stroke:#000000; stroke-width:4; stroke-opacity:1; fill:none\" points=\"\n",
       "  10924.2,1384.24 10924.2,1384.24 11012.4,1384.24 10924.2,1384.24 \n",
       "  \"/>\n",
       "<path clip-path=\"url(#clip102)\" d=\"\n",
       "M11012.4 1384.24 L11012.4 1384.24 L11100.7 1384.24 L11100.7 1384.24 L11012.4 1384.24 L11012.4 1384.24  Z\n",
       "  \" fill=\"#009af9\" fill-rule=\"evenodd\" fill-opacity=\"1\"/>\n",
       "<polyline clip-path=\"url(#clip102)\" style=\"stroke:#000000; stroke-width:4; stroke-opacity:1; fill:none\" points=\"\n",
       "  11012.4,1384.24 11012.4,1384.24 11100.7,1384.24 11012.4,1384.24 \n",
       "  \"/>\n",
       "<path clip-path=\"url(#clip102)\" d=\"\n",
       "M11100.7 1384.24 L11100.7 1384.24 L11189 1384.24 L11189 1384.24 L11100.7 1384.24 L11100.7 1384.24  Z\n",
       "  \" fill=\"#009af9\" fill-rule=\"evenodd\" fill-opacity=\"1\"/>\n",
       "<polyline clip-path=\"url(#clip102)\" style=\"stroke:#000000; stroke-width:4; stroke-opacity:1; fill:none\" points=\"\n",
       "  11100.7,1384.24 11100.7,1384.24 11189,1384.24 11100.7,1384.24 \n",
       "  \"/>\n",
       "<path clip-path=\"url(#clip102)\" d=\"\n",
       "M11189 1384.24 L11189 1384.24 L11277.3 1384.24 L11277.3 1384.24 L11189 1384.24 L11189 1384.24  Z\n",
       "  \" fill=\"#009af9\" fill-rule=\"evenodd\" fill-opacity=\"1\"/>\n",
       "<polyline clip-path=\"url(#clip102)\" style=\"stroke:#000000; stroke-width:4; stroke-opacity:1; fill:none\" points=\"\n",
       "  11189,1384.24 11189,1384.24 11277.3,1384.24 11189,1384.24 \n",
       "  \"/>\n",
       "<path clip-path=\"url(#clip102)\" d=\"\n",
       "M11277.3 1384.24 L11277.3 1384.24 L11365.5 1384.24 L11365.5 1384.24 L11277.3 1384.24 L11277.3 1384.24  Z\n",
       "  \" fill=\"#009af9\" fill-rule=\"evenodd\" fill-opacity=\"1\"/>\n",
       "<polyline clip-path=\"url(#clip102)\" style=\"stroke:#000000; stroke-width:4; stroke-opacity:1; fill:none\" points=\"\n",
       "  11277.3,1384.24 11277.3,1384.24 11365.5,1384.24 11277.3,1384.24 \n",
       "  \"/>\n",
       "<path clip-path=\"url(#clip102)\" d=\"\n",
       "M11365.5 1384.24 L11365.5 1384.24 L11453.8 1384.24 L11453.8 1384.24 L11365.5 1384.24 L11365.5 1384.24  Z\n",
       "  \" fill=\"#009af9\" fill-rule=\"evenodd\" fill-opacity=\"1\"/>\n",
       "<polyline clip-path=\"url(#clip102)\" style=\"stroke:#000000; stroke-width:4; stroke-opacity:1; fill:none\" points=\"\n",
       "  11365.5,1384.24 11365.5,1384.24 11453.8,1384.24 11365.5,1384.24 \n",
       "  \"/>\n",
       "<path clip-path=\"url(#clip102)\" d=\"\n",
       "M11453.8 1384.24 L11453.8 1384.24 L11542.1 1384.24 L11542.1 1384.24 L11453.8 1384.24 L11453.8 1384.24  Z\n",
       "  \" fill=\"#009af9\" fill-rule=\"evenodd\" fill-opacity=\"1\"/>\n",
       "<polyline clip-path=\"url(#clip102)\" style=\"stroke:#000000; stroke-width:4; stroke-opacity:1; fill:none\" points=\"\n",
       "  11453.8,1384.24 11453.8,1384.24 11542.1,1384.24 11453.8,1384.24 \n",
       "  \"/>\n",
       "<path clip-path=\"url(#clip102)\" d=\"\n",
       "M11542.1 1384.24 L11542.1 1384.24 L11630.3 1384.24 L11630.3 1384.24 L11542.1 1384.24 L11542.1 1384.24  Z\n",
       "  \" fill=\"#009af9\" fill-rule=\"evenodd\" fill-opacity=\"1\"/>\n",
       "<polyline clip-path=\"url(#clip102)\" style=\"stroke:#000000; stroke-width:4; stroke-opacity:1; fill:none\" points=\"\n",
       "  11542.1,1384.24 11542.1,1384.24 11630.3,1384.24 11542.1,1384.24 \n",
       "  \"/>\n",
       "<path clip-path=\"url(#clip102)\" d=\"\n",
       "M11630.3 1384.24 L11630.3 1384.24 L11718.6 1384.24 L11718.6 1384.24 L11630.3 1384.24 L11630.3 1384.24  Z\n",
       "  \" fill=\"#009af9\" fill-rule=\"evenodd\" fill-opacity=\"1\"/>\n",
       "<polyline clip-path=\"url(#clip102)\" style=\"stroke:#000000; stroke-width:4; stroke-opacity:1; fill:none\" points=\"\n",
       "  11630.3,1384.24 11630.3,1384.24 11718.6,1384.24 11630.3,1384.24 \n",
       "  \"/>\n",
       "<path clip-path=\"url(#clip102)\" d=\"\n",
       "M11718.6 1384.24 L11718.6 1384.24 L11806.9 1384.24 L11806.9 1384.24 L11718.6 1384.24 L11718.6 1384.24  Z\n",
       "  \" fill=\"#009af9\" fill-rule=\"evenodd\" fill-opacity=\"1\"/>\n",
       "<polyline clip-path=\"url(#clip102)\" style=\"stroke:#000000; stroke-width:4; stroke-opacity:1; fill:none\" points=\"\n",
       "  11718.6,1384.24 11718.6,1384.24 11806.9,1384.24 11718.6,1384.24 \n",
       "  \"/>\n",
       "<path clip-path=\"url(#clip102)\" d=\"\n",
       "M11806.9 1384.24 L11806.9 1384.24 L11895.2 1384.24 L11895.2 1384.24 L11806.9 1384.24 L11806.9 1384.24  Z\n",
       "  \" fill=\"#009af9\" fill-rule=\"evenodd\" fill-opacity=\"1\"/>\n",
       "<polyline clip-path=\"url(#clip102)\" style=\"stroke:#000000; stroke-width:4; stroke-opacity:1; fill:none\" points=\"\n",
       "  11806.9,1384.24 11806.9,1384.24 11895.2,1384.24 11806.9,1384.24 \n",
       "  \"/>\n",
       "<path clip-path=\"url(#clip102)\" d=\"\n",
       "M11895.2 1384.24 L11895.2 1384.24 L11983.4 1384.24 L11983.4 1384.24 L11895.2 1384.24 L11895.2 1384.24  Z\n",
       "  \" fill=\"#009af9\" fill-rule=\"evenodd\" fill-opacity=\"1\"/>\n",
       "<polyline clip-path=\"url(#clip102)\" style=\"stroke:#000000; stroke-width:4; stroke-opacity:1; fill:none\" points=\"\n",
       "  11895.2,1384.24 11895.2,1384.24 11983.4,1384.24 11895.2,1384.24 \n",
       "  \"/>\n",
       "<path clip-path=\"url(#clip102)\" d=\"\n",
       "M11983.4 1384.24 L11983.4 1384.24 L12071.7 1384.24 L12071.7 1384.24 L11983.4 1384.24 L11983.4 1384.24  Z\n",
       "  \" fill=\"#009af9\" fill-rule=\"evenodd\" fill-opacity=\"1\"/>\n",
       "<polyline clip-path=\"url(#clip102)\" style=\"stroke:#000000; stroke-width:4; stroke-opacity:1; fill:none\" points=\"\n",
       "  11983.4,1384.24 11983.4,1384.24 12071.7,1384.24 11983.4,1384.24 \n",
       "  \"/>\n",
       "<path clip-path=\"url(#clip102)\" d=\"\n",
       "M12071.7 1384.24 L12071.7 1384.24 L12160 1384.24 L12160 1384.24 L12071.7 1384.24 L12071.7 1384.24  Z\n",
       "  \" fill=\"#009af9\" fill-rule=\"evenodd\" fill-opacity=\"1\"/>\n",
       "<polyline clip-path=\"url(#clip102)\" style=\"stroke:#000000; stroke-width:4; stroke-opacity:1; fill:none\" points=\"\n",
       "  12071.7,1384.24 12071.7,1384.24 12160,1384.24 12071.7,1384.24 \n",
       "  \"/>\n",
       "<path clip-path=\"url(#clip102)\" d=\"\n",
       "M12160 1384.24 L12160 1384.24 L12248.3 1384.24 L12248.3 1384.24 L12160 1384.24 L12160 1384.24  Z\n",
       "  \" fill=\"#009af9\" fill-rule=\"evenodd\" fill-opacity=\"1\"/>\n",
       "<polyline clip-path=\"url(#clip102)\" style=\"stroke:#000000; stroke-width:4; stroke-opacity:1; fill:none\" points=\"\n",
       "  12160,1384.24 12160,1384.24 12248.3,1384.24 12160,1384.24 \n",
       "  \"/>\n",
       "<path clip-path=\"url(#clip102)\" d=\"\n",
       "M12248.3 1384.24 L12248.3 1384.24 L12336.5 1384.24 L12336.5 1384.24 L12248.3 1384.24 L12248.3 1384.24  Z\n",
       "  \" fill=\"#009af9\" fill-rule=\"evenodd\" fill-opacity=\"1\"/>\n",
       "<polyline clip-path=\"url(#clip102)\" style=\"stroke:#000000; stroke-width:4; stroke-opacity:1; fill:none\" points=\"\n",
       "  12248.3,1384.24 12248.3,1384.24 12336.5,1384.24 12248.3,1384.24 \n",
       "  \"/>\n",
       "<path clip-path=\"url(#clip102)\" d=\"\n",
       "M12336.5 1384.24 L12336.5 1384.24 L12424.8 1384.24 L12424.8 1384.24 L12336.5 1384.24 L12336.5 1384.24  Z\n",
       "  \" fill=\"#009af9\" fill-rule=\"evenodd\" fill-opacity=\"1\"/>\n",
       "<polyline clip-path=\"url(#clip102)\" style=\"stroke:#000000; stroke-width:4; stroke-opacity:1; fill:none\" points=\"\n",
       "  12336.5,1384.24 12336.5,1384.24 12424.8,1384.24 12336.5,1384.24 \n",
       "  \"/>\n",
       "<path clip-path=\"url(#clip102)\" d=\"\n",
       "M12424.8 1384.24 L12424.8 1384.24 L12513.1 1384.24 L12513.1 1384.24 L12424.8 1384.24 L12424.8 1384.24  Z\n",
       "  \" fill=\"#009af9\" fill-rule=\"evenodd\" fill-opacity=\"1\"/>\n",
       "<polyline clip-path=\"url(#clip102)\" style=\"stroke:#000000; stroke-width:4; stroke-opacity:1; fill:none\" points=\"\n",
       "  12424.8,1384.24 12424.8,1384.24 12513.1,1384.24 12424.8,1384.24 \n",
       "  \"/>\n",
       "<path clip-path=\"url(#clip102)\" d=\"\n",
       "M12513.1 1384.24 L12513.1 1384.24 L12601.4 1384.24 L12601.4 1384.24 L12513.1 1384.24 L12513.1 1384.24  Z\n",
       "  \" fill=\"#009af9\" fill-rule=\"evenodd\" fill-opacity=\"1\"/>\n",
       "<polyline clip-path=\"url(#clip102)\" style=\"stroke:#000000; stroke-width:4; stroke-opacity:1; fill:none\" points=\"\n",
       "  12513.1,1384.24 12513.1,1384.24 12601.4,1384.24 12513.1,1384.24 \n",
       "  \"/>\n",
       "<path clip-path=\"url(#clip102)\" d=\"\n",
       "M12601.4 1384.24 L12601.4 1384.24 L12689.6 1384.24 L12689.6 1384.24 L12601.4 1384.24 L12601.4 1384.24  Z\n",
       "  \" fill=\"#009af9\" fill-rule=\"evenodd\" fill-opacity=\"1\"/>\n",
       "<polyline clip-path=\"url(#clip102)\" style=\"stroke:#000000; stroke-width:4; stroke-opacity:1; fill:none\" points=\"\n",
       "  12601.4,1384.24 12601.4,1384.24 12689.6,1384.24 12601.4,1384.24 \n",
       "  \"/>\n",
       "<path clip-path=\"url(#clip102)\" d=\"\n",
       "M12689.6 1384.24 L12689.6 1384.24 L12777.9 1384.24 L12777.9 1384.24 L12689.6 1384.24 L12689.6 1384.24  Z\n",
       "  \" fill=\"#009af9\" fill-rule=\"evenodd\" fill-opacity=\"1\"/>\n",
       "<polyline clip-path=\"url(#clip102)\" style=\"stroke:#000000; stroke-width:4; stroke-opacity:1; fill:none\" points=\"\n",
       "  12689.6,1384.24 12689.6,1384.24 12777.9,1384.24 12689.6,1384.24 \n",
       "  \"/>\n",
       "<path clip-path=\"url(#clip102)\" d=\"\n",
       "M12777.9 1384.24 L12777.9 1384.24 L12866.2 1384.24 L12866.2 1384.24 L12777.9 1384.24 L12777.9 1384.24  Z\n",
       "  \" fill=\"#009af9\" fill-rule=\"evenodd\" fill-opacity=\"1\"/>\n",
       "<polyline clip-path=\"url(#clip102)\" style=\"stroke:#000000; stroke-width:4; stroke-opacity:1; fill:none\" points=\"\n",
       "  12777.9,1384.24 12777.9,1384.24 12866.2,1384.24 12777.9,1384.24 \n",
       "  \"/>\n",
       "<path clip-path=\"url(#clip102)\" d=\"\n",
       "M12866.2 1384.24 L12866.2 1384.24 L12954.5 1384.24 L12954.5 1384.24 L12866.2 1384.24 L12866.2 1384.24  Z\n",
       "  \" fill=\"#009af9\" fill-rule=\"evenodd\" fill-opacity=\"1\"/>\n",
       "<polyline clip-path=\"url(#clip102)\" style=\"stroke:#000000; stroke-width:4; stroke-opacity:1; fill:none\" points=\"\n",
       "  12866.2,1384.24 12866.2,1384.24 12954.5,1384.24 12866.2,1384.24 \n",
       "  \"/>\n",
       "<path clip-path=\"url(#clip102)\" d=\"\n",
       "M12954.5 1384.24 L12954.5 1384.24 L13042.7 1384.24 L13042.7 1384.24 L12954.5 1384.24 L12954.5 1384.24  Z\n",
       "  \" fill=\"#009af9\" fill-rule=\"evenodd\" fill-opacity=\"1\"/>\n",
       "<polyline clip-path=\"url(#clip102)\" style=\"stroke:#000000; stroke-width:4; stroke-opacity:1; fill:none\" points=\"\n",
       "  12954.5,1384.24 12954.5,1384.24 13042.7,1384.24 12954.5,1384.24 \n",
       "  \"/>\n",
       "<path clip-path=\"url(#clip102)\" d=\"\n",
       "M13042.7 1384.24 L13042.7 1384.24 L13131 1384.24 L13131 1384.24 L13042.7 1384.24 L13042.7 1384.24  Z\n",
       "  \" fill=\"#009af9\" fill-rule=\"evenodd\" fill-opacity=\"1\"/>\n",
       "<polyline clip-path=\"url(#clip102)\" style=\"stroke:#000000; stroke-width:4; stroke-opacity:1; fill:none\" points=\"\n",
       "  13042.7,1384.24 13042.7,1384.24 13131,1384.24 13042.7,1384.24 \n",
       "  \"/>\n",
       "<path clip-path=\"url(#clip102)\" d=\"\n",
       "M13131 1384.24 L13131 1384.24 L13219.3 1384.24 L13219.3 1384.24 L13131 1384.24 L13131 1384.24  Z\n",
       "  \" fill=\"#009af9\" fill-rule=\"evenodd\" fill-opacity=\"1\"/>\n",
       "<polyline clip-path=\"url(#clip102)\" style=\"stroke:#000000; stroke-width:4; stroke-opacity:1; fill:none\" points=\"\n",
       "  13131,1384.24 13131,1384.24 13219.3,1384.24 13131,1384.24 \n",
       "  \"/>\n",
       "<path clip-path=\"url(#clip102)\" d=\"\n",
       "M13219.3 1384.24 L13219.3 1384.24 L13307.5 1384.24 L13307.5 1384.24 L13219.3 1384.24 L13219.3 1384.24  Z\n",
       "  \" fill=\"#009af9\" fill-rule=\"evenodd\" fill-opacity=\"1\"/>\n",
       "<polyline clip-path=\"url(#clip102)\" style=\"stroke:#000000; stroke-width:4; stroke-opacity:1; fill:none\" points=\"\n",
       "  13219.3,1384.24 13219.3,1384.24 13307.5,1384.24 13219.3,1384.24 \n",
       "  \"/>\n",
       "<path clip-path=\"url(#clip102)\" d=\"\n",
       "M13307.5 1384.24 L13307.5 1384.24 L13395.8 1384.24 L13395.8 1384.24 L13307.5 1384.24 L13307.5 1384.24  Z\n",
       "  \" fill=\"#009af9\" fill-rule=\"evenodd\" fill-opacity=\"1\"/>\n",
       "<polyline clip-path=\"url(#clip102)\" style=\"stroke:#000000; stroke-width:4; stroke-opacity:1; fill:none\" points=\"\n",
       "  13307.5,1384.24 13307.5,1384.24 13395.8,1384.24 13307.5,1384.24 \n",
       "  \"/>\n",
       "<path clip-path=\"url(#clip102)\" d=\"\n",
       "M13395.8 1384.24 L13395.8 1384.24 L13484.1 1384.24 L13484.1 1384.24 L13395.8 1384.24 L13395.8 1384.24  Z\n",
       "  \" fill=\"#009af9\" fill-rule=\"evenodd\" fill-opacity=\"1\"/>\n",
       "<polyline clip-path=\"url(#clip102)\" style=\"stroke:#000000; stroke-width:4; stroke-opacity:1; fill:none\" points=\"\n",
       "  13395.8,1384.24 13395.8,1384.24 13484.1,1384.24 13395.8,1384.24 \n",
       "  \"/>\n",
       "<path clip-path=\"url(#clip102)\" d=\"\n",
       "M13484.1 1384.24 L13484.1 1384.24 L13572.4 1384.24 L13572.4 1384.24 L13484.1 1384.24 L13484.1 1384.24  Z\n",
       "  \" fill=\"#009af9\" fill-rule=\"evenodd\" fill-opacity=\"1\"/>\n",
       "<polyline clip-path=\"url(#clip102)\" style=\"stroke:#000000; stroke-width:4; stroke-opacity:1; fill:none\" points=\"\n",
       "  13484.1,1384.24 13484.1,1384.24 13572.4,1384.24 13484.1,1384.24 \n",
       "  \"/>\n",
       "<path clip-path=\"url(#clip102)\" d=\"\n",
       "M13572.4 1384.24 L13572.4 1384.24 L13660.6 1384.24 L13660.6 1384.24 L13572.4 1384.24 L13572.4 1384.24  Z\n",
       "  \" fill=\"#009af9\" fill-rule=\"evenodd\" fill-opacity=\"1\"/>\n",
       "<polyline clip-path=\"url(#clip102)\" style=\"stroke:#000000; stroke-width:4; stroke-opacity:1; fill:none\" points=\"\n",
       "  13572.4,1384.24 13572.4,1384.24 13660.6,1384.24 13572.4,1384.24 \n",
       "  \"/>\n",
       "<path clip-path=\"url(#clip102)\" d=\"\n",
       "M13660.6 1384.24 L13660.6 1384.24 L13748.9 1384.24 L13748.9 1384.24 L13660.6 1384.24 L13660.6 1384.24  Z\n",
       "  \" fill=\"#009af9\" fill-rule=\"evenodd\" fill-opacity=\"1\"/>\n",
       "<polyline clip-path=\"url(#clip102)\" style=\"stroke:#000000; stroke-width:4; stroke-opacity:1; fill:none\" points=\"\n",
       "  13660.6,1384.24 13660.6,1384.24 13748.9,1384.24 13660.6,1384.24 \n",
       "  \"/>\n",
       "<path clip-path=\"url(#clip102)\" d=\"\n",
       "M13748.9 1375.29 L13748.9 1384.24 L13837.2 1384.24 L13837.2 1375.29 L13748.9 1375.29 L13748.9 1375.29  Z\n",
       "  \" fill=\"#009af9\" fill-rule=\"evenodd\" fill-opacity=\"1\"/>\n",
       "<polyline clip-path=\"url(#clip102)\" style=\"stroke:#000000; stroke-width:4; stroke-opacity:1; fill:none\" points=\"\n",
       "  13748.9,1375.29 13748.9,1384.24 13837.2,1384.24 13837.2,1375.29 13748.9,1375.29 \n",
       "  \"/>\n",
       "<path clip-path=\"url(#clip102)\" d=\"\n",
       "M13837.2 1384.24 L13837.2 1384.24 L13925.5 1384.24 L13925.5 1384.24 L13837.2 1384.24 L13837.2 1384.24  Z\n",
       "  \" fill=\"#009af9\" fill-rule=\"evenodd\" fill-opacity=\"1\"/>\n",
       "<polyline clip-path=\"url(#clip102)\" style=\"stroke:#000000; stroke-width:4; stroke-opacity:1; fill:none\" points=\"\n",
       "  13837.2,1384.24 13837.2,1384.24 13925.5,1384.24 13837.2,1384.24 \n",
       "  \"/>\n",
       "<path clip-path=\"url(#clip102)\" d=\"\n",
       "M13925.5 1384.24 L13925.5 1384.24 L14013.7 1384.24 L14013.7 1384.24 L13925.5 1384.24 L13925.5 1384.24  Z\n",
       "  \" fill=\"#009af9\" fill-rule=\"evenodd\" fill-opacity=\"1\"/>\n",
       "<polyline clip-path=\"url(#clip102)\" style=\"stroke:#000000; stroke-width:4; stroke-opacity:1; fill:none\" points=\"\n",
       "  13925.5,1384.24 13925.5,1384.24 14013.7,1384.24 13925.5,1384.24 \n",
       "  \"/>\n",
       "<path clip-path=\"url(#clip102)\" d=\"\n",
       "M14013.7 1384.24 L14013.7 1384.24 L14102 1384.24 L14102 1384.24 L14013.7 1384.24 L14013.7 1384.24  Z\n",
       "  \" fill=\"#009af9\" fill-rule=\"evenodd\" fill-opacity=\"1\"/>\n",
       "<polyline clip-path=\"url(#clip102)\" style=\"stroke:#000000; stroke-width:4; stroke-opacity:1; fill:none\" points=\"\n",
       "  14013.7,1384.24 14013.7,1384.24 14102,1384.24 14013.7,1384.24 \n",
       "  \"/>\n",
       "<path clip-path=\"url(#clip102)\" d=\"\n",
       "M14102 1384.24 L14102 1384.24 L14190.3 1384.24 L14190.3 1384.24 L14102 1384.24 L14102 1384.24  Z\n",
       "  \" fill=\"#009af9\" fill-rule=\"evenodd\" fill-opacity=\"1\"/>\n",
       "<polyline clip-path=\"url(#clip102)\" style=\"stroke:#000000; stroke-width:4; stroke-opacity:1; fill:none\" points=\"\n",
       "  14102,1384.24 14102,1384.24 14190.3,1384.24 14102,1384.24 \n",
       "  \"/>\n",
       "<path clip-path=\"url(#clip102)\" d=\"\n",
       "M14190.3 1384.24 L14190.3 1384.24 L14278.6 1384.24 L14278.6 1384.24 L14190.3 1384.24 L14190.3 1384.24  Z\n",
       "  \" fill=\"#009af9\" fill-rule=\"evenodd\" fill-opacity=\"1\"/>\n",
       "<polyline clip-path=\"url(#clip102)\" style=\"stroke:#000000; stroke-width:4; stroke-opacity:1; fill:none\" points=\"\n",
       "  14190.3,1384.24 14190.3,1384.24 14278.6,1384.24 14190.3,1384.24 \n",
       "  \"/>\n",
       "<path clip-path=\"url(#clip102)\" d=\"\n",
       "M14278.6 1384.24 L14278.6 1384.24 L14366.8 1384.24 L14366.8 1384.24 L14278.6 1384.24 L14278.6 1384.24  Z\n",
       "  \" fill=\"#009af9\" fill-rule=\"evenodd\" fill-opacity=\"1\"/>\n",
       "<polyline clip-path=\"url(#clip102)\" style=\"stroke:#000000; stroke-width:4; stroke-opacity:1; fill:none\" points=\"\n",
       "  14278.6,1384.24 14278.6,1384.24 14366.8,1384.24 14278.6,1384.24 \n",
       "  \"/>\n",
       "<path clip-path=\"url(#clip102)\" d=\"\n",
       "M14366.8 1384.24 L14366.8 1384.24 L14455.1 1384.24 L14455.1 1384.24 L14366.8 1384.24 L14366.8 1384.24  Z\n",
       "  \" fill=\"#009af9\" fill-rule=\"evenodd\" fill-opacity=\"1\"/>\n",
       "<polyline clip-path=\"url(#clip102)\" style=\"stroke:#000000; stroke-width:4; stroke-opacity:1; fill:none\" points=\"\n",
       "  14366.8,1384.24 14366.8,1384.24 14455.1,1384.24 14366.8,1384.24 \n",
       "  \"/>\n",
       "<path clip-path=\"url(#clip102)\" d=\"\n",
       "M14455.1 1384.24 L14455.1 1384.24 L14543.4 1384.24 L14543.4 1384.24 L14455.1 1384.24 L14455.1 1384.24  Z\n",
       "  \" fill=\"#009af9\" fill-rule=\"evenodd\" fill-opacity=\"1\"/>\n",
       "<polyline clip-path=\"url(#clip102)\" style=\"stroke:#000000; stroke-width:4; stroke-opacity:1; fill:none\" points=\"\n",
       "  14455.1,1384.24 14455.1,1384.24 14543.4,1384.24 14455.1,1384.24 \n",
       "  \"/>\n",
       "<path clip-path=\"url(#clip102)\" d=\"\n",
       "M14543.4 1384.24 L14543.4 1384.24 L14631.7 1384.24 L14631.7 1384.24 L14543.4 1384.24 L14543.4 1384.24  Z\n",
       "  \" fill=\"#009af9\" fill-rule=\"evenodd\" fill-opacity=\"1\"/>\n",
       "<polyline clip-path=\"url(#clip102)\" style=\"stroke:#000000; stroke-width:4; stroke-opacity:1; fill:none\" points=\"\n",
       "  14543.4,1384.24 14543.4,1384.24 14631.7,1384.24 14543.4,1384.24 \n",
       "  \"/>\n",
       "<path clip-path=\"url(#clip102)\" d=\"\n",
       "M14631.7 1384.24 L14631.7 1384.24 L14719.9 1384.24 L14719.9 1384.24 L14631.7 1384.24 L14631.7 1384.24  Z\n",
       "  \" fill=\"#009af9\" fill-rule=\"evenodd\" fill-opacity=\"1\"/>\n",
       "<polyline clip-path=\"url(#clip102)\" style=\"stroke:#000000; stroke-width:4; stroke-opacity:1; fill:none\" points=\"\n",
       "  14631.7,1384.24 14631.7,1384.24 14719.9,1384.24 14631.7,1384.24 \n",
       "  \"/>\n",
       "<path clip-path=\"url(#clip102)\" d=\"\n",
       "M14719.9 1384.24 L14719.9 1384.24 L14808.2 1384.24 L14808.2 1384.24 L14719.9 1384.24 L14719.9 1384.24  Z\n",
       "  \" fill=\"#009af9\" fill-rule=\"evenodd\" fill-opacity=\"1\"/>\n",
       "<polyline clip-path=\"url(#clip102)\" style=\"stroke:#000000; stroke-width:4; stroke-opacity:1; fill:none\" points=\"\n",
       "  14719.9,1384.24 14719.9,1384.24 14808.2,1384.24 14719.9,1384.24 \n",
       "  \"/>\n",
       "<path clip-path=\"url(#clip102)\" d=\"\n",
       "M14808.2 1384.24 L14808.2 1384.24 L14896.5 1384.24 L14896.5 1384.24 L14808.2 1384.24 L14808.2 1384.24  Z\n",
       "  \" fill=\"#009af9\" fill-rule=\"evenodd\" fill-opacity=\"1\"/>\n",
       "<polyline clip-path=\"url(#clip102)\" style=\"stroke:#000000; stroke-width:4; stroke-opacity:1; fill:none\" points=\"\n",
       "  14808.2,1384.24 14808.2,1384.24 14896.5,1384.24 14808.2,1384.24 \n",
       "  \"/>\n",
       "<path clip-path=\"url(#clip102)\" d=\"\n",
       "M14896.5 1384.24 L14896.5 1384.24 L14984.7 1384.24 L14984.7 1384.24 L14896.5 1384.24 L14896.5 1384.24  Z\n",
       "  \" fill=\"#009af9\" fill-rule=\"evenodd\" fill-opacity=\"1\"/>\n",
       "<polyline clip-path=\"url(#clip102)\" style=\"stroke:#000000; stroke-width:4; stroke-opacity:1; fill:none\" points=\"\n",
       "  14896.5,1384.24 14896.5,1384.24 14984.7,1384.24 14896.5,1384.24 \n",
       "  \"/>\n",
       "<path clip-path=\"url(#clip102)\" d=\"\n",
       "M14984.7 1384.24 L14984.7 1384.24 L15073 1384.24 L15073 1384.24 L14984.7 1384.24 L14984.7 1384.24  Z\n",
       "  \" fill=\"#009af9\" fill-rule=\"evenodd\" fill-opacity=\"1\"/>\n",
       "<polyline clip-path=\"url(#clip102)\" style=\"stroke:#000000; stroke-width:4; stroke-opacity:1; fill:none\" points=\"\n",
       "  14984.7,1384.24 14984.7,1384.24 15073,1384.24 14984.7,1384.24 \n",
       "  \"/>\n",
       "<path clip-path=\"url(#clip102)\" d=\"\n",
       "M15073 1384.24 L15073 1384.24 L15161.3 1384.24 L15161.3 1384.24 L15073 1384.24 L15073 1384.24  Z\n",
       "  \" fill=\"#009af9\" fill-rule=\"evenodd\" fill-opacity=\"1\"/>\n",
       "<polyline clip-path=\"url(#clip102)\" style=\"stroke:#000000; stroke-width:4; stroke-opacity:1; fill:none\" points=\"\n",
       "  15073,1384.24 15073,1384.24 15161.3,1384.24 15073,1384.24 \n",
       "  \"/>\n",
       "<path clip-path=\"url(#clip102)\" d=\"\n",
       "M15161.3 1384.24 L15161.3 1384.24 L15249.6 1384.24 L15249.6 1384.24 L15161.3 1384.24 L15161.3 1384.24  Z\n",
       "  \" fill=\"#009af9\" fill-rule=\"evenodd\" fill-opacity=\"1\"/>\n",
       "<polyline clip-path=\"url(#clip102)\" style=\"stroke:#000000; stroke-width:4; stroke-opacity:1; fill:none\" points=\"\n",
       "  15161.3,1384.24 15161.3,1384.24 15249.6,1384.24 15161.3,1384.24 \n",
       "  \"/>\n",
       "<path clip-path=\"url(#clip102)\" d=\"\n",
       "M15249.6 1384.24 L15249.6 1384.24 L15337.8 1384.24 L15337.8 1384.24 L15249.6 1384.24 L15249.6 1384.24  Z\n",
       "  \" fill=\"#009af9\" fill-rule=\"evenodd\" fill-opacity=\"1\"/>\n",
       "<polyline clip-path=\"url(#clip102)\" style=\"stroke:#000000; stroke-width:4; stroke-opacity:1; fill:none\" points=\"\n",
       "  15249.6,1384.24 15249.6,1384.24 15337.8,1384.24 15249.6,1384.24 \n",
       "  \"/>\n",
       "<path clip-path=\"url(#clip102)\" d=\"\n",
       "M15337.8 1384.24 L15337.8 1384.24 L15426.1 1384.24 L15426.1 1384.24 L15337.8 1384.24 L15337.8 1384.24  Z\n",
       "  \" fill=\"#009af9\" fill-rule=\"evenodd\" fill-opacity=\"1\"/>\n",
       "<polyline clip-path=\"url(#clip102)\" style=\"stroke:#000000; stroke-width:4; stroke-opacity:1; fill:none\" points=\"\n",
       "  15337.8,1384.24 15337.8,1384.24 15426.1,1384.24 15337.8,1384.24 \n",
       "  \"/>\n",
       "<path clip-path=\"url(#clip102)\" d=\"\n",
       "M15426.1 1384.24 L15426.1 1384.24 L15514.4 1384.24 L15514.4 1384.24 L15426.1 1384.24 L15426.1 1384.24  Z\n",
       "  \" fill=\"#009af9\" fill-rule=\"evenodd\" fill-opacity=\"1\"/>\n",
       "<polyline clip-path=\"url(#clip102)\" style=\"stroke:#000000; stroke-width:4; stroke-opacity:1; fill:none\" points=\"\n",
       "  15426.1,1384.24 15426.1,1384.24 15514.4,1384.24 15426.1,1384.24 \n",
       "  \"/>\n",
       "<path clip-path=\"url(#clip102)\" d=\"\n",
       "M15514.4 1384.24 L15514.4 1384.24 L15602.7 1384.24 L15602.7 1384.24 L15514.4 1384.24 L15514.4 1384.24  Z\n",
       "  \" fill=\"#009af9\" fill-rule=\"evenodd\" fill-opacity=\"1\"/>\n",
       "<polyline clip-path=\"url(#clip102)\" style=\"stroke:#000000; stroke-width:4; stroke-opacity:1; fill:none\" points=\"\n",
       "  15514.4,1384.24 15514.4,1384.24 15602.7,1384.24 15514.4,1384.24 \n",
       "  \"/>\n",
       "<path clip-path=\"url(#clip102)\" d=\"\n",
       "M15602.7 1384.24 L15602.7 1384.24 L15690.9 1384.24 L15690.9 1384.24 L15602.7 1384.24 L15602.7 1384.24  Z\n",
       "  \" fill=\"#009af9\" fill-rule=\"evenodd\" fill-opacity=\"1\"/>\n",
       "<polyline clip-path=\"url(#clip102)\" style=\"stroke:#000000; stroke-width:4; stroke-opacity:1; fill:none\" points=\"\n",
       "  15602.7,1384.24 15602.7,1384.24 15690.9,1384.24 15602.7,1384.24 \n",
       "  \"/>\n",
       "<path clip-path=\"url(#clip102)\" d=\"\n",
       "M15690.9 1384.24 L15690.9 1384.24 L15779.2 1384.24 L15779.2 1384.24 L15690.9 1384.24 L15690.9 1384.24  Z\n",
       "  \" fill=\"#009af9\" fill-rule=\"evenodd\" fill-opacity=\"1\"/>\n",
       "<polyline clip-path=\"url(#clip102)\" style=\"stroke:#000000; stroke-width:4; stroke-opacity:1; fill:none\" points=\"\n",
       "  15690.9,1384.24 15690.9,1384.24 15779.2,1384.24 15690.9,1384.24 \n",
       "  \"/>\n",
       "<path clip-path=\"url(#clip102)\" d=\"\n",
       "M15779.2 1384.24 L15779.2 1384.24 L15867.5 1384.24 L15867.5 1384.24 L15779.2 1384.24 L15779.2 1384.24  Z\n",
       "  \" fill=\"#009af9\" fill-rule=\"evenodd\" fill-opacity=\"1\"/>\n",
       "<polyline clip-path=\"url(#clip102)\" style=\"stroke:#000000; stroke-width:4; stroke-opacity:1; fill:none\" points=\"\n",
       "  15779.2,1384.24 15779.2,1384.24 15867.5,1384.24 15779.2,1384.24 \n",
       "  \"/>\n",
       "<path clip-path=\"url(#clip102)\" d=\"\n",
       "M15867.5 1384.24 L15867.5 1384.24 L15955.8 1384.24 L15955.8 1384.24 L15867.5 1384.24 L15867.5 1384.24  Z\n",
       "  \" fill=\"#009af9\" fill-rule=\"evenodd\" fill-opacity=\"1\"/>\n",
       "<polyline clip-path=\"url(#clip102)\" style=\"stroke:#000000; stroke-width:4; stroke-opacity:1; fill:none\" points=\"\n",
       "  15867.5,1384.24 15867.5,1384.24 15955.8,1384.24 15867.5,1384.24 \n",
       "  \"/>\n",
       "<path clip-path=\"url(#clip102)\" d=\"\n",
       "M15955.8 1384.24 L15955.8 1384.24 L16044 1384.24 L16044 1384.24 L15955.8 1384.24 L15955.8 1384.24  Z\n",
       "  \" fill=\"#009af9\" fill-rule=\"evenodd\" fill-opacity=\"1\"/>\n",
       "<polyline clip-path=\"url(#clip102)\" style=\"stroke:#000000; stroke-width:4; stroke-opacity:1; fill:none\" points=\"\n",
       "  15955.8,1384.24 15955.8,1384.24 16044,1384.24 15955.8,1384.24 \n",
       "  \"/>\n",
       "<path clip-path=\"url(#clip102)\" d=\"\n",
       "M16044 1384.24 L16044 1384.24 L16132.3 1384.24 L16132.3 1384.24 L16044 1384.24 L16044 1384.24  Z\n",
       "  \" fill=\"#009af9\" fill-rule=\"evenodd\" fill-opacity=\"1\"/>\n",
       "<polyline clip-path=\"url(#clip102)\" style=\"stroke:#000000; stroke-width:4; stroke-opacity:1; fill:none\" points=\"\n",
       "  16044,1384.24 16044,1384.24 16132.3,1384.24 16044,1384.24 \n",
       "  \"/>\n",
       "<path clip-path=\"url(#clip102)\" d=\"\n",
       "M16132.3 1384.24 L16132.3 1384.24 L16220.6 1384.24 L16220.6 1384.24 L16132.3 1384.24 L16132.3 1384.24  Z\n",
       "  \" fill=\"#009af9\" fill-rule=\"evenodd\" fill-opacity=\"1\"/>\n",
       "<polyline clip-path=\"url(#clip102)\" style=\"stroke:#000000; stroke-width:4; stroke-opacity:1; fill:none\" points=\"\n",
       "  16132.3,1384.24 16132.3,1384.24 16220.6,1384.24 16132.3,1384.24 \n",
       "  \"/>\n",
       "<path clip-path=\"url(#clip102)\" d=\"\n",
       "M16220.6 1384.24 L16220.6 1384.24 L16308.9 1384.24 L16308.9 1384.24 L16220.6 1384.24 L16220.6 1384.24  Z\n",
       "  \" fill=\"#009af9\" fill-rule=\"evenodd\" fill-opacity=\"1\"/>\n",
       "<polyline clip-path=\"url(#clip102)\" style=\"stroke:#000000; stroke-width:4; stroke-opacity:1; fill:none\" points=\"\n",
       "  16220.6,1384.24 16220.6,1384.24 16308.9,1384.24 16220.6,1384.24 \n",
       "  \"/>\n",
       "<path clip-path=\"url(#clip102)\" d=\"\n",
       "M16308.9 1384.24 L16308.9 1384.24 L16397.1 1384.24 L16397.1 1384.24 L16308.9 1384.24 L16308.9 1384.24  Z\n",
       "  \" fill=\"#009af9\" fill-rule=\"evenodd\" fill-opacity=\"1\"/>\n",
       "<polyline clip-path=\"url(#clip102)\" style=\"stroke:#000000; stroke-width:4; stroke-opacity:1; fill:none\" points=\"\n",
       "  16308.9,1384.24 16308.9,1384.24 16397.1,1384.24 16308.9,1384.24 \n",
       "  \"/>\n",
       "<path clip-path=\"url(#clip102)\" d=\"\n",
       "M16397.1 1384.24 L16397.1 1384.24 L16485.4 1384.24 L16485.4 1384.24 L16397.1 1384.24 L16397.1 1384.24  Z\n",
       "  \" fill=\"#009af9\" fill-rule=\"evenodd\" fill-opacity=\"1\"/>\n",
       "<polyline clip-path=\"url(#clip102)\" style=\"stroke:#000000; stroke-width:4; stroke-opacity:1; fill:none\" points=\"\n",
       "  16397.1,1384.24 16397.1,1384.24 16485.4,1384.24 16397.1,1384.24 \n",
       "  \"/>\n",
       "<path clip-path=\"url(#clip102)\" d=\"\n",
       "M16485.4 1384.24 L16485.4 1384.24 L16573.7 1384.24 L16573.7 1384.24 L16485.4 1384.24 L16485.4 1384.24  Z\n",
       "  \" fill=\"#009af9\" fill-rule=\"evenodd\" fill-opacity=\"1\"/>\n",
       "<polyline clip-path=\"url(#clip102)\" style=\"stroke:#000000; stroke-width:4; stroke-opacity:1; fill:none\" points=\"\n",
       "  16485.4,1384.24 16485.4,1384.24 16573.7,1384.24 16485.4,1384.24 \n",
       "  \"/>\n",
       "<path clip-path=\"url(#clip102)\" d=\"\n",
       "M16573.7 1384.24 L16573.7 1384.24 L16661.9 1384.24 L16661.9 1384.24 L16573.7 1384.24 L16573.7 1384.24  Z\n",
       "  \" fill=\"#009af9\" fill-rule=\"evenodd\" fill-opacity=\"1\"/>\n",
       "<polyline clip-path=\"url(#clip102)\" style=\"stroke:#000000; stroke-width:4; stroke-opacity:1; fill:none\" points=\"\n",
       "  16573.7,1384.24 16573.7,1384.24 16661.9,1384.24 16573.7,1384.24 \n",
       "  \"/>\n",
       "<path clip-path=\"url(#clip102)\" d=\"\n",
       "M16661.9 1384.24 L16661.9 1384.24 L16750.2 1384.24 L16750.2 1384.24 L16661.9 1384.24 L16661.9 1384.24  Z\n",
       "  \" fill=\"#009af9\" fill-rule=\"evenodd\" fill-opacity=\"1\"/>\n",
       "<polyline clip-path=\"url(#clip102)\" style=\"stroke:#000000; stroke-width:4; stroke-opacity:1; fill:none\" points=\"\n",
       "  16661.9,1384.24 16661.9,1384.24 16750.2,1384.24 16661.9,1384.24 \n",
       "  \"/>\n",
       "<path clip-path=\"url(#clip102)\" d=\"\n",
       "M16750.2 1384.24 L16750.2 1384.24 L16838.5 1384.24 L16838.5 1384.24 L16750.2 1384.24 L16750.2 1384.24  Z\n",
       "  \" fill=\"#009af9\" fill-rule=\"evenodd\" fill-opacity=\"1\"/>\n",
       "<polyline clip-path=\"url(#clip102)\" style=\"stroke:#000000; stroke-width:4; stroke-opacity:1; fill:none\" points=\"\n",
       "  16750.2,1384.24 16750.2,1384.24 16838.5,1384.24 16750.2,1384.24 \n",
       "  \"/>\n",
       "<path clip-path=\"url(#clip102)\" d=\"\n",
       "M16838.5 1384.24 L16838.5 1384.24 L16926.8 1384.24 L16926.8 1384.24 L16838.5 1384.24 L16838.5 1384.24  Z\n",
       "  \" fill=\"#009af9\" fill-rule=\"evenodd\" fill-opacity=\"1\"/>\n",
       "<polyline clip-path=\"url(#clip102)\" style=\"stroke:#000000; stroke-width:4; stroke-opacity:1; fill:none\" points=\"\n",
       "  16838.5,1384.24 16838.5,1384.24 16926.8,1384.24 16838.5,1384.24 \n",
       "  \"/>\n",
       "<path clip-path=\"url(#clip102)\" d=\"\n",
       "M16926.8 1384.24 L16926.8 1384.24 L17015 1384.24 L17015 1384.24 L16926.8 1384.24 L16926.8 1384.24  Z\n",
       "  \" fill=\"#009af9\" fill-rule=\"evenodd\" fill-opacity=\"1\"/>\n",
       "<polyline clip-path=\"url(#clip102)\" style=\"stroke:#000000; stroke-width:4; stroke-opacity:1; fill:none\" points=\"\n",
       "  16926.8,1384.24 16926.8,1384.24 17015,1384.24 16926.8,1384.24 \n",
       "  \"/>\n",
       "<path clip-path=\"url(#clip102)\" d=\"\n",
       "M17015 1384.24 L17015 1384.24 L17103.3 1384.24 L17103.3 1384.24 L17015 1384.24 L17015 1384.24  Z\n",
       "  \" fill=\"#009af9\" fill-rule=\"evenodd\" fill-opacity=\"1\"/>\n",
       "<polyline clip-path=\"url(#clip102)\" style=\"stroke:#000000; stroke-width:4; stroke-opacity:1; fill:none\" points=\"\n",
       "  17015,1384.24 17015,1384.24 17103.3,1384.24 17015,1384.24 \n",
       "  \"/>\n",
       "<path clip-path=\"url(#clip102)\" d=\"\n",
       "M17103.3 1384.24 L17103.3 1384.24 L17191.6 1384.24 L17191.6 1384.24 L17103.3 1384.24 L17103.3 1384.24  Z\n",
       "  \" fill=\"#009af9\" fill-rule=\"evenodd\" fill-opacity=\"1\"/>\n",
       "<polyline clip-path=\"url(#clip102)\" style=\"stroke:#000000; stroke-width:4; stroke-opacity:1; fill:none\" points=\"\n",
       "  17103.3,1384.24 17103.3,1384.24 17191.6,1384.24 17103.3,1384.24 \n",
       "  \"/>\n",
       "<path clip-path=\"url(#clip102)\" d=\"\n",
       "M17191.6 1384.24 L17191.6 1384.24 L17279.9 1384.24 L17279.9 1384.24 L17191.6 1384.24 L17191.6 1384.24  Z\n",
       "  \" fill=\"#009af9\" fill-rule=\"evenodd\" fill-opacity=\"1\"/>\n",
       "<polyline clip-path=\"url(#clip102)\" style=\"stroke:#000000; stroke-width:4; stroke-opacity:1; fill:none\" points=\"\n",
       "  17191.6,1384.24 17191.6,1384.24 17279.9,1384.24 17191.6,1384.24 \n",
       "  \"/>\n",
       "<path clip-path=\"url(#clip102)\" d=\"\n",
       "M17279.9 1384.24 L17279.9 1384.24 L17368.1 1384.24 L17368.1 1384.24 L17279.9 1384.24 L17279.9 1384.24  Z\n",
       "  \" fill=\"#009af9\" fill-rule=\"evenodd\" fill-opacity=\"1\"/>\n",
       "<polyline clip-path=\"url(#clip102)\" style=\"stroke:#000000; stroke-width:4; stroke-opacity:1; fill:none\" points=\"\n",
       "  17279.9,1384.24 17279.9,1384.24 17368.1,1384.24 17279.9,1384.24 \n",
       "  \"/>\n",
       "<path clip-path=\"url(#clip102)\" d=\"\n",
       "M17368.1 1384.24 L17368.1 1384.24 L17456.4 1384.24 L17456.4 1384.24 L17368.1 1384.24 L17368.1 1384.24  Z\n",
       "  \" fill=\"#009af9\" fill-rule=\"evenodd\" fill-opacity=\"1\"/>\n",
       "<polyline clip-path=\"url(#clip102)\" style=\"stroke:#000000; stroke-width:4; stroke-opacity:1; fill:none\" points=\"\n",
       "  17368.1,1384.24 17368.1,1384.24 17456.4,1384.24 17368.1,1384.24 \n",
       "  \"/>\n",
       "<path clip-path=\"url(#clip102)\" d=\"\n",
       "M17456.4 1384.24 L17456.4 1384.24 L17544.7 1384.24 L17544.7 1384.24 L17456.4 1384.24 L17456.4 1384.24  Z\n",
       "  \" fill=\"#009af9\" fill-rule=\"evenodd\" fill-opacity=\"1\"/>\n",
       "<polyline clip-path=\"url(#clip102)\" style=\"stroke:#000000; stroke-width:4; stroke-opacity:1; fill:none\" points=\"\n",
       "  17456.4,1384.24 17456.4,1384.24 17544.7,1384.24 17456.4,1384.24 \n",
       "  \"/>\n",
       "<path clip-path=\"url(#clip102)\" d=\"\n",
       "M17544.7 1384.24 L17544.7 1384.24 L17633 1384.24 L17633 1384.24 L17544.7 1384.24 L17544.7 1384.24  Z\n",
       "  \" fill=\"#009af9\" fill-rule=\"evenodd\" fill-opacity=\"1\"/>\n",
       "<polyline clip-path=\"url(#clip102)\" style=\"stroke:#000000; stroke-width:4; stroke-opacity:1; fill:none\" points=\"\n",
       "  17544.7,1384.24 17544.7,1384.24 17633,1384.24 17544.7,1384.24 \n",
       "  \"/>\n",
       "<path clip-path=\"url(#clip102)\" d=\"\n",
       "M17633 1384.24 L17633 1384.24 L17721.2 1384.24 L17721.2 1384.24 L17633 1384.24 L17633 1384.24  Z\n",
       "  \" fill=\"#009af9\" fill-rule=\"evenodd\" fill-opacity=\"1\"/>\n",
       "<polyline clip-path=\"url(#clip102)\" style=\"stroke:#000000; stroke-width:4; stroke-opacity:1; fill:none\" points=\"\n",
       "  17633,1384.24 17633,1384.24 17721.2,1384.24 17633,1384.24 \n",
       "  \"/>\n",
       "<path clip-path=\"url(#clip102)\" d=\"\n",
       "M17721.2 1384.24 L17721.2 1384.24 L17809.5 1384.24 L17809.5 1384.24 L17721.2 1384.24 L17721.2 1384.24  Z\n",
       "  \" fill=\"#009af9\" fill-rule=\"evenodd\" fill-opacity=\"1\"/>\n",
       "<polyline clip-path=\"url(#clip102)\" style=\"stroke:#000000; stroke-width:4; stroke-opacity:1; fill:none\" points=\"\n",
       "  17721.2,1384.24 17721.2,1384.24 17809.5,1384.24 17721.2,1384.24 \n",
       "  \"/>\n",
       "<path clip-path=\"url(#clip102)\" d=\"\n",
       "M17809.5 1384.24 L17809.5 1384.24 L17897.8 1384.24 L17897.8 1384.24 L17809.5 1384.24 L17809.5 1384.24  Z\n",
       "  \" fill=\"#009af9\" fill-rule=\"evenodd\" fill-opacity=\"1\"/>\n",
       "<polyline clip-path=\"url(#clip102)\" style=\"stroke:#000000; stroke-width:4; stroke-opacity:1; fill:none\" points=\"\n",
       "  17809.5,1384.24 17809.5,1384.24 17897.8,1384.24 17809.5,1384.24 \n",
       "  \"/>\n",
       "<path clip-path=\"url(#clip102)\" d=\"\n",
       "M17897.8 1384.24 L17897.8 1384.24 L17986.1 1384.24 L17986.1 1384.24 L17897.8 1384.24 L17897.8 1384.24  Z\n",
       "  \" fill=\"#009af9\" fill-rule=\"evenodd\" fill-opacity=\"1\"/>\n",
       "<polyline clip-path=\"url(#clip102)\" style=\"stroke:#000000; stroke-width:4; stroke-opacity:1; fill:none\" points=\"\n",
       "  17897.8,1384.24 17897.8,1384.24 17986.1,1384.24 17897.8,1384.24 \n",
       "  \"/>\n",
       "<path clip-path=\"url(#clip102)\" d=\"\n",
       "M17986.1 1384.24 L17986.1 1384.24 L18074.3 1384.24 L18074.3 1384.24 L17986.1 1384.24 L17986.1 1384.24  Z\n",
       "  \" fill=\"#009af9\" fill-rule=\"evenodd\" fill-opacity=\"1\"/>\n",
       "<polyline clip-path=\"url(#clip102)\" style=\"stroke:#000000; stroke-width:4; stroke-opacity:1; fill:none\" points=\"\n",
       "  17986.1,1384.24 17986.1,1384.24 18074.3,1384.24 17986.1,1384.24 \n",
       "  \"/>\n",
       "<path clip-path=\"url(#clip102)\" d=\"\n",
       "M18074.3 1384.24 L18074.3 1384.24 L18162.6 1384.24 L18162.6 1384.24 L18074.3 1384.24 L18074.3 1384.24  Z\n",
       "  \" fill=\"#009af9\" fill-rule=\"evenodd\" fill-opacity=\"1\"/>\n",
       "<polyline clip-path=\"url(#clip102)\" style=\"stroke:#000000; stroke-width:4; stroke-opacity:1; fill:none\" points=\"\n",
       "  18074.3,1384.24 18074.3,1384.24 18162.6,1384.24 18074.3,1384.24 \n",
       "  \"/>\n",
       "<path clip-path=\"url(#clip102)\" d=\"\n",
       "M18162.6 1384.24 L18162.6 1384.24 L18250.9 1384.24 L18250.9 1384.24 L18162.6 1384.24 L18162.6 1384.24  Z\n",
       "  \" fill=\"#009af9\" fill-rule=\"evenodd\" fill-opacity=\"1\"/>\n",
       "<polyline clip-path=\"url(#clip102)\" style=\"stroke:#000000; stroke-width:4; stroke-opacity:1; fill:none\" points=\"\n",
       "  18162.6,1384.24 18162.6,1384.24 18250.9,1384.24 18162.6,1384.24 \n",
       "  \"/>\n",
       "<path clip-path=\"url(#clip102)\" d=\"\n",
       "M18250.9 1384.24 L18250.9 1384.24 L18339.1 1384.24 L18339.1 1384.24 L18250.9 1384.24 L18250.9 1384.24  Z\n",
       "  \" fill=\"#009af9\" fill-rule=\"evenodd\" fill-opacity=\"1\"/>\n",
       "<polyline clip-path=\"url(#clip102)\" style=\"stroke:#000000; stroke-width:4; stroke-opacity:1; fill:none\" points=\"\n",
       "  18250.9,1384.24 18250.9,1384.24 18339.1,1384.24 18250.9,1384.24 \n",
       "  \"/>\n",
       "<path clip-path=\"url(#clip102)\" d=\"\n",
       "M18339.1 1384.24 L18339.1 1384.24 L18427.4 1384.24 L18427.4 1384.24 L18339.1 1384.24 L18339.1 1384.24  Z\n",
       "  \" fill=\"#009af9\" fill-rule=\"evenodd\" fill-opacity=\"1\"/>\n",
       "<polyline clip-path=\"url(#clip102)\" style=\"stroke:#000000; stroke-width:4; stroke-opacity:1; fill:none\" points=\"\n",
       "  18339.1,1384.24 18339.1,1384.24 18427.4,1384.24 18339.1,1384.24 \n",
       "  \"/>\n",
       "<path clip-path=\"url(#clip102)\" d=\"\n",
       "M18427.4 1384.24 L18427.4 1384.24 L18515.7 1384.24 L18515.7 1384.24 L18427.4 1384.24 L18427.4 1384.24  Z\n",
       "  \" fill=\"#009af9\" fill-rule=\"evenodd\" fill-opacity=\"1\"/>\n",
       "<polyline clip-path=\"url(#clip102)\" style=\"stroke:#000000; stroke-width:4; stroke-opacity:1; fill:none\" points=\"\n",
       "  18427.4,1384.24 18427.4,1384.24 18515.7,1384.24 18427.4,1384.24 \n",
       "  \"/>\n",
       "<path clip-path=\"url(#clip102)\" d=\"\n",
       "M18515.7 1384.24 L18515.7 1384.24 L18604 1384.24 L18604 1384.24 L18515.7 1384.24 L18515.7 1384.24  Z\n",
       "  \" fill=\"#009af9\" fill-rule=\"evenodd\" fill-opacity=\"1\"/>\n",
       "<polyline clip-path=\"url(#clip102)\" style=\"stroke:#000000; stroke-width:4; stroke-opacity:1; fill:none\" points=\"\n",
       "  18515.7,1384.24 18515.7,1384.24 18604,1384.24 18515.7,1384.24 \n",
       "  \"/>\n",
       "<path clip-path=\"url(#clip102)\" d=\"\n",
       "M18604 1384.24 L18604 1384.24 L18692.2 1384.24 L18692.2 1384.24 L18604 1384.24 L18604 1384.24  Z\n",
       "  \" fill=\"#009af9\" fill-rule=\"evenodd\" fill-opacity=\"1\"/>\n",
       "<polyline clip-path=\"url(#clip102)\" style=\"stroke:#000000; stroke-width:4; stroke-opacity:1; fill:none\" points=\"\n",
       "  18604,1384.24 18604,1384.24 18692.2,1384.24 18604,1384.24 \n",
       "  \"/>\n",
       "<path clip-path=\"url(#clip102)\" d=\"\n",
       "M18692.2 1384.24 L18692.2 1384.24 L18780.5 1384.24 L18780.5 1384.24 L18692.2 1384.24 L18692.2 1384.24  Z\n",
       "  \" fill=\"#009af9\" fill-rule=\"evenodd\" fill-opacity=\"1\"/>\n",
       "<polyline clip-path=\"url(#clip102)\" style=\"stroke:#000000; stroke-width:4; stroke-opacity:1; fill:none\" points=\"\n",
       "  18692.2,1384.24 18692.2,1384.24 18780.5,1384.24 18692.2,1384.24 \n",
       "  \"/>\n",
       "<path clip-path=\"url(#clip102)\" d=\"\n",
       "M18780.5 1375.29 L18780.5 1384.24 L18868.8 1384.24 L18868.8 1375.29 L18780.5 1375.29 L18780.5 1375.29  Z\n",
       "  \" fill=\"#009af9\" fill-rule=\"evenodd\" fill-opacity=\"1\"/>\n",
       "<polyline clip-path=\"url(#clip102)\" style=\"stroke:#000000; stroke-width:4; stroke-opacity:1; fill:none\" points=\"\n",
       "  18780.5,1375.29 18780.5,1384.24 18868.8,1384.24 18868.8,1375.29 18780.5,1375.29 \n",
       "  \"/>\n",
       "<path clip-path=\"url(#clip102)\" d=\"\n",
       "M18868.8 1384.24 L18868.8 1384.24 L18957.1 1384.24 L18957.1 1384.24 L18868.8 1384.24 L18868.8 1384.24  Z\n",
       "  \" fill=\"#009af9\" fill-rule=\"evenodd\" fill-opacity=\"1\"/>\n",
       "<polyline clip-path=\"url(#clip102)\" style=\"stroke:#000000; stroke-width:4; stroke-opacity:1; fill:none\" points=\"\n",
       "  18868.8,1384.24 18868.8,1384.24 18957.1,1384.24 18868.8,1384.24 \n",
       "  \"/>\n",
       "<path clip-path=\"url(#clip102)\" d=\"\n",
       "M18957.1 1384.24 L18957.1 1384.24 L19045.3 1384.24 L19045.3 1384.24 L18957.1 1384.24 L18957.1 1384.24  Z\n",
       "  \" fill=\"#009af9\" fill-rule=\"evenodd\" fill-opacity=\"1\"/>\n",
       "<polyline clip-path=\"url(#clip102)\" style=\"stroke:#000000; stroke-width:4; stroke-opacity:1; fill:none\" points=\"\n",
       "  18957.1,1384.24 18957.1,1384.24 19045.3,1384.24 18957.1,1384.24 \n",
       "  \"/>\n",
       "<path clip-path=\"url(#clip102)\" d=\"\n",
       "M19045.3 1384.24 L19045.3 1384.24 L19133.6 1384.24 L19133.6 1384.24 L19045.3 1384.24 L19045.3 1384.24  Z\n",
       "  \" fill=\"#009af9\" fill-rule=\"evenodd\" fill-opacity=\"1\"/>\n",
       "<polyline clip-path=\"url(#clip102)\" style=\"stroke:#000000; stroke-width:4; stroke-opacity:1; fill:none\" points=\"\n",
       "  19045.3,1384.24 19045.3,1384.24 19133.6,1384.24 19045.3,1384.24 \n",
       "  \"/>\n",
       "<path clip-path=\"url(#clip102)\" d=\"\n",
       "M19133.6 1384.24 L19133.6 1384.24 L19221.9 1384.24 L19221.9 1384.24 L19133.6 1384.24 L19133.6 1384.24  Z\n",
       "  \" fill=\"#009af9\" fill-rule=\"evenodd\" fill-opacity=\"1\"/>\n",
       "<polyline clip-path=\"url(#clip102)\" style=\"stroke:#000000; stroke-width:4; stroke-opacity:1; fill:none\" points=\"\n",
       "  19133.6,1384.24 19133.6,1384.24 19221.9,1384.24 19133.6,1384.24 \n",
       "  \"/>\n",
       "<path clip-path=\"url(#clip102)\" d=\"\n",
       "M19221.9 1384.24 L19221.9 1384.24 L19310.2 1384.24 L19310.2 1384.24 L19221.9 1384.24 L19221.9 1384.24  Z\n",
       "  \" fill=\"#009af9\" fill-rule=\"evenodd\" fill-opacity=\"1\"/>\n",
       "<polyline clip-path=\"url(#clip102)\" style=\"stroke:#000000; stroke-width:4; stroke-opacity:1; fill:none\" points=\"\n",
       "  19221.9,1384.24 19221.9,1384.24 19310.2,1384.24 19221.9,1384.24 \n",
       "  \"/>\n",
       "<path clip-path=\"url(#clip102)\" d=\"\n",
       "M19310.2 1384.24 L19310.2 1384.24 L19398.4 1384.24 L19398.4 1384.24 L19310.2 1384.24 L19310.2 1384.24  Z\n",
       "  \" fill=\"#009af9\" fill-rule=\"evenodd\" fill-opacity=\"1\"/>\n",
       "<polyline clip-path=\"url(#clip102)\" style=\"stroke:#000000; stroke-width:4; stroke-opacity:1; fill:none\" points=\"\n",
       "  19310.2,1384.24 19310.2,1384.24 19398.4,1384.24 19310.2,1384.24 \n",
       "  \"/>\n",
       "<path clip-path=\"url(#clip102)\" d=\"\n",
       "M19398.4 1384.24 L19398.4 1384.24 L19486.7 1384.24 L19486.7 1384.24 L19398.4 1384.24 L19398.4 1384.24  Z\n",
       "  \" fill=\"#009af9\" fill-rule=\"evenodd\" fill-opacity=\"1\"/>\n",
       "<polyline clip-path=\"url(#clip102)\" style=\"stroke:#000000; stroke-width:4; stroke-opacity:1; fill:none\" points=\"\n",
       "  19398.4,1384.24 19398.4,1384.24 19486.7,1384.24 19398.4,1384.24 \n",
       "  \"/>\n",
       "<path clip-path=\"url(#clip102)\" d=\"\n",
       "M19486.7 1384.24 L19486.7 1384.24 L19575 1384.24 L19575 1384.24 L19486.7 1384.24 L19486.7 1384.24  Z\n",
       "  \" fill=\"#009af9\" fill-rule=\"evenodd\" fill-opacity=\"1\"/>\n",
       "<polyline clip-path=\"url(#clip102)\" style=\"stroke:#000000; stroke-width:4; stroke-opacity:1; fill:none\" points=\"\n",
       "  19486.7,1384.24 19486.7,1384.24 19575,1384.24 19486.7,1384.24 \n",
       "  \"/>\n",
       "<path clip-path=\"url(#clip102)\" d=\"\n",
       "M19575 1384.24 L19575 1384.24 L19663.3 1384.24 L19663.3 1384.24 L19575 1384.24 L19575 1384.24  Z\n",
       "  \" fill=\"#009af9\" fill-rule=\"evenodd\" fill-opacity=\"1\"/>\n",
       "<polyline clip-path=\"url(#clip102)\" style=\"stroke:#000000; stroke-width:4; stroke-opacity:1; fill:none\" points=\"\n",
       "  19575,1384.24 19575,1384.24 19663.3,1384.24 19575,1384.24 \n",
       "  \"/>\n",
       "<path clip-path=\"url(#clip102)\" d=\"\n",
       "M19663.3 1384.24 L19663.3 1384.24 L19751.5 1384.24 L19751.5 1384.24 L19663.3 1384.24 L19663.3 1384.24  Z\n",
       "  \" fill=\"#009af9\" fill-rule=\"evenodd\" fill-opacity=\"1\"/>\n",
       "<polyline clip-path=\"url(#clip102)\" style=\"stroke:#000000; stroke-width:4; stroke-opacity:1; fill:none\" points=\"\n",
       "  19663.3,1384.24 19663.3,1384.24 19751.5,1384.24 19663.3,1384.24 \n",
       "  \"/>\n",
       "<path clip-path=\"url(#clip102)\" d=\"\n",
       "M19751.5 1384.24 L19751.5 1384.24 L19839.8 1384.24 L19839.8 1384.24 L19751.5 1384.24 L19751.5 1384.24  Z\n",
       "  \" fill=\"#009af9\" fill-rule=\"evenodd\" fill-opacity=\"1\"/>\n",
       "<polyline clip-path=\"url(#clip102)\" style=\"stroke:#000000; stroke-width:4; stroke-opacity:1; fill:none\" points=\"\n",
       "  19751.5,1384.24 19751.5,1384.24 19839.8,1384.24 19751.5,1384.24 \n",
       "  \"/>\n",
       "<path clip-path=\"url(#clip102)\" d=\"\n",
       "M19839.8 1384.24 L19839.8 1384.24 L19928.1 1384.24 L19928.1 1384.24 L19839.8 1384.24 L19839.8 1384.24  Z\n",
       "  \" fill=\"#009af9\" fill-rule=\"evenodd\" fill-opacity=\"1\"/>\n",
       "<polyline clip-path=\"url(#clip102)\" style=\"stroke:#000000; stroke-width:4; stroke-opacity:1; fill:none\" points=\"\n",
       "  19839.8,1384.24 19839.8,1384.24 19928.1,1384.24 19839.8,1384.24 \n",
       "  \"/>\n",
       "<path clip-path=\"url(#clip102)\" d=\"\n",
       "M19928.1 1384.24 L19928.1 1384.24 L20016.3 1384.24 L20016.3 1384.24 L19928.1 1384.24 L19928.1 1384.24  Z\n",
       "  \" fill=\"#009af9\" fill-rule=\"evenodd\" fill-opacity=\"1\"/>\n",
       "<polyline clip-path=\"url(#clip102)\" style=\"stroke:#000000; stroke-width:4; stroke-opacity:1; fill:none\" points=\"\n",
       "  19928.1,1384.24 19928.1,1384.24 20016.3,1384.24 19928.1,1384.24 \n",
       "  \"/>\n",
       "<path clip-path=\"url(#clip102)\" d=\"\n",
       "M20016.3 1384.24 L20016.3 1384.24 L20104.6 1384.24 L20104.6 1384.24 L20016.3 1384.24 L20016.3 1384.24  Z\n",
       "  \" fill=\"#009af9\" fill-rule=\"evenodd\" fill-opacity=\"1\"/>\n",
       "<polyline clip-path=\"url(#clip102)\" style=\"stroke:#000000; stroke-width:4; stroke-opacity:1; fill:none\" points=\"\n",
       "  20016.3,1384.24 20016.3,1384.24 20104.6,1384.24 20016.3,1384.24 \n",
       "  \"/>\n",
       "<path clip-path=\"url(#clip102)\" d=\"\n",
       "M20104.6 1384.24 L20104.6 1384.24 L20192.9 1384.24 L20192.9 1384.24 L20104.6 1384.24 L20104.6 1384.24  Z\n",
       "  \" fill=\"#009af9\" fill-rule=\"evenodd\" fill-opacity=\"1\"/>\n",
       "<polyline clip-path=\"url(#clip102)\" style=\"stroke:#000000; stroke-width:4; stroke-opacity:1; fill:none\" points=\"\n",
       "  20104.6,1384.24 20104.6,1384.24 20192.9,1384.24 20104.6,1384.24 \n",
       "  \"/>\n",
       "<path clip-path=\"url(#clip102)\" d=\"\n",
       "M20192.9 1384.24 L20192.9 1384.24 L20281.2 1384.24 L20281.2 1384.24 L20192.9 1384.24 L20192.9 1384.24  Z\n",
       "  \" fill=\"#009af9\" fill-rule=\"evenodd\" fill-opacity=\"1\"/>\n",
       "<polyline clip-path=\"url(#clip102)\" style=\"stroke:#000000; stroke-width:4; stroke-opacity:1; fill:none\" points=\"\n",
       "  20192.9,1384.24 20192.9,1384.24 20281.2,1384.24 20192.9,1384.24 \n",
       "  \"/>\n",
       "<path clip-path=\"url(#clip102)\" d=\"\n",
       "M20281.2 1384.24 L20281.2 1384.24 L20369.4 1384.24 L20369.4 1384.24 L20281.2 1384.24 L20281.2 1384.24  Z\n",
       "  \" fill=\"#009af9\" fill-rule=\"evenodd\" fill-opacity=\"1\"/>\n",
       "<polyline clip-path=\"url(#clip102)\" style=\"stroke:#000000; stroke-width:4; stroke-opacity:1; fill:none\" points=\"\n",
       "  20281.2,1384.24 20281.2,1384.24 20369.4,1384.24 20281.2,1384.24 \n",
       "  \"/>\n",
       "<path clip-path=\"url(#clip102)\" d=\"\n",
       "M20369.4 1384.24 L20369.4 1384.24 L20457.7 1384.24 L20457.7 1384.24 L20369.4 1384.24 L20369.4 1384.24  Z\n",
       "  \" fill=\"#009af9\" fill-rule=\"evenodd\" fill-opacity=\"1\"/>\n",
       "<polyline clip-path=\"url(#clip102)\" style=\"stroke:#000000; stroke-width:4; stroke-opacity:1; fill:none\" points=\"\n",
       "  20369.4,1384.24 20369.4,1384.24 20457.7,1384.24 20369.4,1384.24 \n",
       "  \"/>\n",
       "<path clip-path=\"url(#clip102)\" d=\"\n",
       "M20457.7 1384.24 L20457.7 1384.24 L20546 1384.24 L20546 1384.24 L20457.7 1384.24 L20457.7 1384.24  Z\n",
       "  \" fill=\"#009af9\" fill-rule=\"evenodd\" fill-opacity=\"1\"/>\n",
       "<polyline clip-path=\"url(#clip102)\" style=\"stroke:#000000; stroke-width:4; stroke-opacity:1; fill:none\" points=\"\n",
       "  20457.7,1384.24 20457.7,1384.24 20546,1384.24 20457.7,1384.24 \n",
       "  \"/>\n",
       "<path clip-path=\"url(#clip102)\" d=\"\n",
       "M20546 1384.24 L20546 1384.24 L20634.3 1384.24 L20634.3 1384.24 L20546 1384.24 L20546 1384.24  Z\n",
       "  \" fill=\"#009af9\" fill-rule=\"evenodd\" fill-opacity=\"1\"/>\n",
       "<polyline clip-path=\"url(#clip102)\" style=\"stroke:#000000; stroke-width:4; stroke-opacity:1; fill:none\" points=\"\n",
       "  20546,1384.24 20546,1384.24 20634.3,1384.24 20546,1384.24 \n",
       "  \"/>\n",
       "<path clip-path=\"url(#clip102)\" d=\"\n",
       "M20634.3 1384.24 L20634.3 1384.24 L20722.5 1384.24 L20722.5 1384.24 L20634.3 1384.24 L20634.3 1384.24  Z\n",
       "  \" fill=\"#009af9\" fill-rule=\"evenodd\" fill-opacity=\"1\"/>\n",
       "<polyline clip-path=\"url(#clip102)\" style=\"stroke:#000000; stroke-width:4; stroke-opacity:1; fill:none\" points=\"\n",
       "  20634.3,1384.24 20634.3,1384.24 20722.5,1384.24 20634.3,1384.24 \n",
       "  \"/>\n",
       "<path clip-path=\"url(#clip102)\" d=\"\n",
       "M20722.5 1384.24 L20722.5 1384.24 L20810.8 1384.24 L20810.8 1384.24 L20722.5 1384.24 L20722.5 1384.24  Z\n",
       "  \" fill=\"#009af9\" fill-rule=\"evenodd\" fill-opacity=\"1\"/>\n",
       "<polyline clip-path=\"url(#clip102)\" style=\"stroke:#000000; stroke-width:4; stroke-opacity:1; fill:none\" points=\"\n",
       "  20722.5,1384.24 20722.5,1384.24 20810.8,1384.24 20722.5,1384.24 \n",
       "  \"/>\n",
       "<path clip-path=\"url(#clip102)\" d=\"\n",
       "M20810.8 1384.24 L20810.8 1384.24 L20899.1 1384.24 L20899.1 1384.24 L20810.8 1384.24 L20810.8 1384.24  Z\n",
       "  \" fill=\"#009af9\" fill-rule=\"evenodd\" fill-opacity=\"1\"/>\n",
       "<polyline clip-path=\"url(#clip102)\" style=\"stroke:#000000; stroke-width:4; stroke-opacity:1; fill:none\" points=\"\n",
       "  20810.8,1384.24 20810.8,1384.24 20899.1,1384.24 20810.8,1384.24 \n",
       "  \"/>\n",
       "<path clip-path=\"url(#clip102)\" d=\"\n",
       "M20899.1 1384.24 L20899.1 1384.24 L20987.4 1384.24 L20987.4 1384.24 L20899.1 1384.24 L20899.1 1384.24  Z\n",
       "  \" fill=\"#009af9\" fill-rule=\"evenodd\" fill-opacity=\"1\"/>\n",
       "<polyline clip-path=\"url(#clip102)\" style=\"stroke:#000000; stroke-width:4; stroke-opacity:1; fill:none\" points=\"\n",
       "  20899.1,1384.24 20899.1,1384.24 20987.4,1384.24 20899.1,1384.24 \n",
       "  \"/>\n",
       "<path clip-path=\"url(#clip102)\" d=\"\n",
       "M20987.4 1384.24 L20987.4 1384.24 L21075.6 1384.24 L21075.6 1384.24 L20987.4 1384.24 L20987.4 1384.24  Z\n",
       "  \" fill=\"#009af9\" fill-rule=\"evenodd\" fill-opacity=\"1\"/>\n",
       "<polyline clip-path=\"url(#clip102)\" style=\"stroke:#000000; stroke-width:4; stroke-opacity:1; fill:none\" points=\"\n",
       "  20987.4,1384.24 20987.4,1384.24 21075.6,1384.24 20987.4,1384.24 \n",
       "  \"/>\n",
       "<path clip-path=\"url(#clip102)\" d=\"\n",
       "M21075.6 1384.24 L21075.6 1384.24 L21163.9 1384.24 L21163.9 1384.24 L21075.6 1384.24 L21075.6 1384.24  Z\n",
       "  \" fill=\"#009af9\" fill-rule=\"evenodd\" fill-opacity=\"1\"/>\n",
       "<polyline clip-path=\"url(#clip102)\" style=\"stroke:#000000; stroke-width:4; stroke-opacity:1; fill:none\" points=\"\n",
       "  21075.6,1384.24 21075.6,1384.24 21163.9,1384.24 21075.6,1384.24 \n",
       "  \"/>\n",
       "<path clip-path=\"url(#clip102)\" d=\"\n",
       "M21163.9 1384.24 L21163.9 1384.24 L21252.2 1384.24 L21252.2 1384.24 L21163.9 1384.24 L21163.9 1384.24  Z\n",
       "  \" fill=\"#009af9\" fill-rule=\"evenodd\" fill-opacity=\"1\"/>\n",
       "<polyline clip-path=\"url(#clip102)\" style=\"stroke:#000000; stroke-width:4; stroke-opacity:1; fill:none\" points=\"\n",
       "  21163.9,1384.24 21163.9,1384.24 21252.2,1384.24 21163.9,1384.24 \n",
       "  \"/>\n",
       "<path clip-path=\"url(#clip102)\" d=\"\n",
       "M21252.2 1384.24 L21252.2 1384.24 L21340.5 1384.24 L21340.5 1384.24 L21252.2 1384.24 L21252.2 1384.24  Z\n",
       "  \" fill=\"#009af9\" fill-rule=\"evenodd\" fill-opacity=\"1\"/>\n",
       "<polyline clip-path=\"url(#clip102)\" style=\"stroke:#000000; stroke-width:4; stroke-opacity:1; fill:none\" points=\"\n",
       "  21252.2,1384.24 21252.2,1384.24 21340.5,1384.24 21252.2,1384.24 \n",
       "  \"/>\n",
       "<path clip-path=\"url(#clip102)\" d=\"\n",
       "M21340.5 1384.24 L21340.5 1384.24 L21428.7 1384.24 L21428.7 1384.24 L21340.5 1384.24 L21340.5 1384.24  Z\n",
       "  \" fill=\"#009af9\" fill-rule=\"evenodd\" fill-opacity=\"1\"/>\n",
       "<polyline clip-path=\"url(#clip102)\" style=\"stroke:#000000; stroke-width:4; stroke-opacity:1; fill:none\" points=\"\n",
       "  21340.5,1384.24 21340.5,1384.24 21428.7,1384.24 21340.5,1384.24 \n",
       "  \"/>\n",
       "<path clip-path=\"url(#clip102)\" d=\"\n",
       "M21428.7 1384.24 L21428.7 1384.24 L21517 1384.24 L21517 1384.24 L21428.7 1384.24 L21428.7 1384.24  Z\n",
       "  \" fill=\"#009af9\" fill-rule=\"evenodd\" fill-opacity=\"1\"/>\n",
       "<polyline clip-path=\"url(#clip102)\" style=\"stroke:#000000; stroke-width:4; stroke-opacity:1; fill:none\" points=\"\n",
       "  21428.7,1384.24 21428.7,1384.24 21517,1384.24 21428.7,1384.24 \n",
       "  \"/>\n",
       "<path clip-path=\"url(#clip102)\" d=\"\n",
       "M21517 1384.24 L21517 1384.24 L21605.3 1384.24 L21605.3 1384.24 L21517 1384.24 L21517 1384.24  Z\n",
       "  \" fill=\"#009af9\" fill-rule=\"evenodd\" fill-opacity=\"1\"/>\n",
       "<polyline clip-path=\"url(#clip102)\" style=\"stroke:#000000; stroke-width:4; stroke-opacity:1; fill:none\" points=\"\n",
       "  21517,1384.24 21517,1384.24 21605.3,1384.24 21517,1384.24 \n",
       "  \"/>\n",
       "<path clip-path=\"url(#clip102)\" d=\"\n",
       "M21605.3 1384.24 L21605.3 1384.24 L21693.6 1384.24 L21693.6 1384.24 L21605.3 1384.24 L21605.3 1384.24  Z\n",
       "  \" fill=\"#009af9\" fill-rule=\"evenodd\" fill-opacity=\"1\"/>\n",
       "<polyline clip-path=\"url(#clip102)\" style=\"stroke:#000000; stroke-width:4; stroke-opacity:1; fill:none\" points=\"\n",
       "  21605.3,1384.24 21605.3,1384.24 21693.6,1384.24 21605.3,1384.24 \n",
       "  \"/>\n",
       "<path clip-path=\"url(#clip102)\" d=\"\n",
       "M21693.6 1384.24 L21693.6 1384.24 L21781.8 1384.24 L21781.8 1384.24 L21693.6 1384.24 L21693.6 1384.24  Z\n",
       "  \" fill=\"#009af9\" fill-rule=\"evenodd\" fill-opacity=\"1\"/>\n",
       "<polyline clip-path=\"url(#clip102)\" style=\"stroke:#000000; stroke-width:4; stroke-opacity:1; fill:none\" points=\"\n",
       "  21693.6,1384.24 21693.6,1384.24 21781.8,1384.24 21693.6,1384.24 \n",
       "  \"/>\n",
       "<path clip-path=\"url(#clip102)\" d=\"\n",
       "M21781.8 1384.24 L21781.8 1384.24 L21870.1 1384.24 L21870.1 1384.24 L21781.8 1384.24 L21781.8 1384.24  Z\n",
       "  \" fill=\"#009af9\" fill-rule=\"evenodd\" fill-opacity=\"1\"/>\n",
       "<polyline clip-path=\"url(#clip102)\" style=\"stroke:#000000; stroke-width:4; stroke-opacity:1; fill:none\" points=\"\n",
       "  21781.8,1384.24 21781.8,1384.24 21870.1,1384.24 21781.8,1384.24 \n",
       "  \"/>\n",
       "<path clip-path=\"url(#clip102)\" d=\"\n",
       "M21870.1 1384.24 L21870.1 1384.24 L21958.4 1384.24 L21958.4 1384.24 L21870.1 1384.24 L21870.1 1384.24  Z\n",
       "  \" fill=\"#009af9\" fill-rule=\"evenodd\" fill-opacity=\"1\"/>\n",
       "<polyline clip-path=\"url(#clip102)\" style=\"stroke:#000000; stroke-width:4; stroke-opacity:1; fill:none\" points=\"\n",
       "  21870.1,1384.24 21870.1,1384.24 21958.4,1384.24 21870.1,1384.24 \n",
       "  \"/>\n",
       "<path clip-path=\"url(#clip102)\" d=\"\n",
       "M21958.4 1384.24 L21958.4 1384.24 L22046.6 1384.24 L22046.6 1384.24 L21958.4 1384.24 L21958.4 1384.24  Z\n",
       "  \" fill=\"#009af9\" fill-rule=\"evenodd\" fill-opacity=\"1\"/>\n",
       "<polyline clip-path=\"url(#clip102)\" style=\"stroke:#000000; stroke-width:4; stroke-opacity:1; fill:none\" points=\"\n",
       "  21958.4,1384.24 21958.4,1384.24 22046.6,1384.24 21958.4,1384.24 \n",
       "  \"/>\n",
       "<path clip-path=\"url(#clip102)\" d=\"\n",
       "M22046.6 1384.24 L22046.6 1384.24 L22134.9 1384.24 L22134.9 1384.24 L22046.6 1384.24 L22046.6 1384.24  Z\n",
       "  \" fill=\"#009af9\" fill-rule=\"evenodd\" fill-opacity=\"1\"/>\n",
       "<polyline clip-path=\"url(#clip102)\" style=\"stroke:#000000; stroke-width:4; stroke-opacity:1; fill:none\" points=\"\n",
       "  22046.6,1384.24 22046.6,1384.24 22134.9,1384.24 22046.6,1384.24 \n",
       "  \"/>\n",
       "<path clip-path=\"url(#clip102)\" d=\"\n",
       "M22134.9 1384.24 L22134.9 1384.24 L22223.2 1384.24 L22223.2 1384.24 L22134.9 1384.24 L22134.9 1384.24  Z\n",
       "  \" fill=\"#009af9\" fill-rule=\"evenodd\" fill-opacity=\"1\"/>\n",
       "<polyline clip-path=\"url(#clip102)\" style=\"stroke:#000000; stroke-width:4; stroke-opacity:1; fill:none\" points=\"\n",
       "  22134.9,1384.24 22134.9,1384.24 22223.2,1384.24 22134.9,1384.24 \n",
       "  \"/>\n",
       "<path clip-path=\"url(#clip102)\" d=\"\n",
       "M22223.2 1384.24 L22223.2 1384.24 L22311.5 1384.24 L22311.5 1384.24 L22223.2 1384.24 L22223.2 1384.24  Z\n",
       "  \" fill=\"#009af9\" fill-rule=\"evenodd\" fill-opacity=\"1\"/>\n",
       "<polyline clip-path=\"url(#clip102)\" style=\"stroke:#000000; stroke-width:4; stroke-opacity:1; fill:none\" points=\"\n",
       "  22223.2,1384.24 22223.2,1384.24 22311.5,1384.24 22223.2,1384.24 \n",
       "  \"/>\n",
       "<path clip-path=\"url(#clip102)\" d=\"\n",
       "M22311.5 1384.24 L22311.5 1384.24 L22399.7 1384.24 L22399.7 1384.24 L22311.5 1384.24 L22311.5 1384.24  Z\n",
       "  \" fill=\"#009af9\" fill-rule=\"evenodd\" fill-opacity=\"1\"/>\n",
       "<polyline clip-path=\"url(#clip102)\" style=\"stroke:#000000; stroke-width:4; stroke-opacity:1; fill:none\" points=\"\n",
       "  22311.5,1384.24 22311.5,1384.24 22399.7,1384.24 22311.5,1384.24 \n",
       "  \"/>\n",
       "<path clip-path=\"url(#clip102)\" d=\"\n",
       "M22399.7 1384.24 L22399.7 1384.24 L22488 1384.24 L22488 1384.24 L22399.7 1384.24 L22399.7 1384.24  Z\n",
       "  \" fill=\"#009af9\" fill-rule=\"evenodd\" fill-opacity=\"1\"/>\n",
       "<polyline clip-path=\"url(#clip102)\" style=\"stroke:#000000; stroke-width:4; stroke-opacity:1; fill:none\" points=\"\n",
       "  22399.7,1384.24 22399.7,1384.24 22488,1384.24 22399.7,1384.24 \n",
       "  \"/>\n",
       "<path clip-path=\"url(#clip102)\" d=\"\n",
       "M22488 1384.24 L22488 1384.24 L22576.3 1384.24 L22576.3 1384.24 L22488 1384.24 L22488 1384.24  Z\n",
       "  \" fill=\"#009af9\" fill-rule=\"evenodd\" fill-opacity=\"1\"/>\n",
       "<polyline clip-path=\"url(#clip102)\" style=\"stroke:#000000; stroke-width:4; stroke-opacity:1; fill:none\" points=\"\n",
       "  22488,1384.24 22488,1384.24 22576.3,1384.24 22488,1384.24 \n",
       "  \"/>\n",
       "<path clip-path=\"url(#clip102)\" d=\"\n",
       "M22576.3 1384.24 L22576.3 1384.24 L22664.6 1384.24 L22664.6 1384.24 L22576.3 1384.24 L22576.3 1384.24  Z\n",
       "  \" fill=\"#009af9\" fill-rule=\"evenodd\" fill-opacity=\"1\"/>\n",
       "<polyline clip-path=\"url(#clip102)\" style=\"stroke:#000000; stroke-width:4; stroke-opacity:1; fill:none\" points=\"\n",
       "  22576.3,1384.24 22576.3,1384.24 22664.6,1384.24 22576.3,1384.24 \n",
       "  \"/>\n",
       "<path clip-path=\"url(#clip102)\" d=\"\n",
       "M22664.6 1384.24 L22664.6 1384.24 L22752.8 1384.24 L22752.8 1384.24 L22664.6 1384.24 L22664.6 1384.24  Z\n",
       "  \" fill=\"#009af9\" fill-rule=\"evenodd\" fill-opacity=\"1\"/>\n",
       "<polyline clip-path=\"url(#clip102)\" style=\"stroke:#000000; stroke-width:4; stroke-opacity:1; fill:none\" points=\"\n",
       "  22664.6,1384.24 22664.6,1384.24 22752.8,1384.24 22664.6,1384.24 \n",
       "  \"/>\n",
       "<path clip-path=\"url(#clip102)\" d=\"\n",
       "M22752.8 1384.24 L22752.8 1384.24 L22841.1 1384.24 L22841.1 1384.24 L22752.8 1384.24 L22752.8 1384.24  Z\n",
       "  \" fill=\"#009af9\" fill-rule=\"evenodd\" fill-opacity=\"1\"/>\n",
       "<polyline clip-path=\"url(#clip102)\" style=\"stroke:#000000; stroke-width:4; stroke-opacity:1; fill:none\" points=\"\n",
       "  22752.8,1384.24 22752.8,1384.24 22841.1,1384.24 22752.8,1384.24 \n",
       "  \"/>\n",
       "<path clip-path=\"url(#clip102)\" d=\"\n",
       "M22841.1 1384.24 L22841.1 1384.24 L22929.4 1384.24 L22929.4 1384.24 L22841.1 1384.24 L22841.1 1384.24  Z\n",
       "  \" fill=\"#009af9\" fill-rule=\"evenodd\" fill-opacity=\"1\"/>\n",
       "<polyline clip-path=\"url(#clip102)\" style=\"stroke:#000000; stroke-width:4; stroke-opacity:1; fill:none\" points=\"\n",
       "  22841.1,1384.24 22841.1,1384.24 22929.4,1384.24 22841.1,1384.24 \n",
       "  \"/>\n",
       "<path clip-path=\"url(#clip102)\" d=\"\n",
       "M22929.4 1384.24 L22929.4 1384.24 L23017.7 1384.24 L23017.7 1384.24 L22929.4 1384.24 L22929.4 1384.24  Z\n",
       "  \" fill=\"#009af9\" fill-rule=\"evenodd\" fill-opacity=\"1\"/>\n",
       "<polyline clip-path=\"url(#clip102)\" style=\"stroke:#000000; stroke-width:4; stroke-opacity:1; fill:none\" points=\"\n",
       "  22929.4,1384.24 22929.4,1384.24 23017.7,1384.24 22929.4,1384.24 \n",
       "  \"/>\n",
       "<path clip-path=\"url(#clip102)\" d=\"\n",
       "M23017.7 1384.24 L23017.7 1384.24 L23105.9 1384.24 L23105.9 1384.24 L23017.7 1384.24 L23017.7 1384.24  Z\n",
       "  \" fill=\"#009af9\" fill-rule=\"evenodd\" fill-opacity=\"1\"/>\n",
       "<polyline clip-path=\"url(#clip102)\" style=\"stroke:#000000; stroke-width:4; stroke-opacity:1; fill:none\" points=\"\n",
       "  23017.7,1384.24 23017.7,1384.24 23105.9,1384.24 23017.7,1384.24 \n",
       "  \"/>\n",
       "<path clip-path=\"url(#clip102)\" d=\"\n",
       "M23105.9 1384.24 L23105.9 1384.24 L23194.2 1384.24 L23194.2 1384.24 L23105.9 1384.24 L23105.9 1384.24  Z\n",
       "  \" fill=\"#009af9\" fill-rule=\"evenodd\" fill-opacity=\"1\"/>\n",
       "<polyline clip-path=\"url(#clip102)\" style=\"stroke:#000000; stroke-width:4; stroke-opacity:1; fill:none\" points=\"\n",
       "  23105.9,1384.24 23105.9,1384.24 23194.2,1384.24 23105.9,1384.24 \n",
       "  \"/>\n",
       "<path clip-path=\"url(#clip102)\" d=\"\n",
       "M23194.2 1384.24 L23194.2 1384.24 L23282.5 1384.24 L23282.5 1384.24 L23194.2 1384.24 L23194.2 1384.24  Z\n",
       "  \" fill=\"#009af9\" fill-rule=\"evenodd\" fill-opacity=\"1\"/>\n",
       "<polyline clip-path=\"url(#clip102)\" style=\"stroke:#000000; stroke-width:4; stroke-opacity:1; fill:none\" points=\"\n",
       "  23194.2,1384.24 23194.2,1384.24 23282.5,1384.24 23194.2,1384.24 \n",
       "  \"/>\n",
       "<path clip-path=\"url(#clip102)\" d=\"\n",
       "M23282.5 1384.24 L23282.5 1384.24 L23370.8 1384.24 L23370.8 1384.24 L23282.5 1384.24 L23282.5 1384.24  Z\n",
       "  \" fill=\"#009af9\" fill-rule=\"evenodd\" fill-opacity=\"1\"/>\n",
       "<polyline clip-path=\"url(#clip102)\" style=\"stroke:#000000; stroke-width:4; stroke-opacity:1; fill:none\" points=\"\n",
       "  23282.5,1384.24 23282.5,1384.24 23370.8,1384.24 23282.5,1384.24 \n",
       "  \"/>\n",
       "<path clip-path=\"url(#clip102)\" d=\"\n",
       "M23370.8 1384.24 L23370.8 1384.24 L23459 1384.24 L23459 1384.24 L23370.8 1384.24 L23370.8 1384.24  Z\n",
       "  \" fill=\"#009af9\" fill-rule=\"evenodd\" fill-opacity=\"1\"/>\n",
       "<polyline clip-path=\"url(#clip102)\" style=\"stroke:#000000; stroke-width:4; stroke-opacity:1; fill:none\" points=\"\n",
       "  23370.8,1384.24 23370.8,1384.24 23459,1384.24 23370.8,1384.24 \n",
       "  \"/>\n",
       "<path clip-path=\"url(#clip102)\" d=\"\n",
       "M23459 1384.24 L23459 1384.24 L23547.3 1384.24 L23547.3 1384.24 L23459 1384.24 L23459 1384.24  Z\n",
       "  \" fill=\"#009af9\" fill-rule=\"evenodd\" fill-opacity=\"1\"/>\n",
       "<polyline clip-path=\"url(#clip102)\" style=\"stroke:#000000; stroke-width:4; stroke-opacity:1; fill:none\" points=\"\n",
       "  23459,1384.24 23459,1384.24 23547.3,1384.24 23459,1384.24 \n",
       "  \"/>\n",
       "<path clip-path=\"url(#clip102)\" d=\"\n",
       "M23547.3 1384.24 L23547.3 1384.24 L23635.6 1384.24 L23635.6 1384.24 L23547.3 1384.24 L23547.3 1384.24  Z\n",
       "  \" fill=\"#009af9\" fill-rule=\"evenodd\" fill-opacity=\"1\"/>\n",
       "<polyline clip-path=\"url(#clip102)\" style=\"stroke:#000000; stroke-width:4; stroke-opacity:1; fill:none\" points=\"\n",
       "  23547.3,1384.24 23547.3,1384.24 23635.6,1384.24 23547.3,1384.24 \n",
       "  \"/>\n",
       "<path clip-path=\"url(#clip102)\" d=\"\n",
       "M23635.6 1384.24 L23635.6 1384.24 L23723.8 1384.24 L23723.8 1384.24 L23635.6 1384.24 L23635.6 1384.24  Z\n",
       "  \" fill=\"#009af9\" fill-rule=\"evenodd\" fill-opacity=\"1\"/>\n",
       "<polyline clip-path=\"url(#clip102)\" style=\"stroke:#000000; stroke-width:4; stroke-opacity:1; fill:none\" points=\"\n",
       "  23635.6,1384.24 23635.6,1384.24 23723.8,1384.24 23635.6,1384.24 \n",
       "  \"/>\n",
       "<path clip-path=\"url(#clip102)\" d=\"\n",
       "M23723.8 1384.24 L23723.8 1384.24 L23812.1 1384.24 L23812.1 1384.24 L23723.8 1384.24 L23723.8 1384.24  Z\n",
       "  \" fill=\"#009af9\" fill-rule=\"evenodd\" fill-opacity=\"1\"/>\n",
       "<polyline clip-path=\"url(#clip102)\" style=\"stroke:#000000; stroke-width:4; stroke-opacity:1; fill:none\" points=\"\n",
       "  23723.8,1384.24 23723.8,1384.24 23812.1,1384.24 23723.8,1384.24 \n",
       "  \"/>\n",
       "<path clip-path=\"url(#clip102)\" d=\"\n",
       "M23812.1 1384.24 L23812.1 1384.24 L23900.4 1384.24 L23900.4 1384.24 L23812.1 1384.24 L23812.1 1384.24  Z\n",
       "  \" fill=\"#009af9\" fill-rule=\"evenodd\" fill-opacity=\"1\"/>\n",
       "<polyline clip-path=\"url(#clip102)\" style=\"stroke:#000000; stroke-width:4; stroke-opacity:1; fill:none\" points=\"\n",
       "  23812.1,1384.24 23812.1,1384.24 23900.4,1384.24 23812.1,1384.24 \n",
       "  \"/>\n",
       "<path clip-path=\"url(#clip102)\" d=\"\n",
       "M23900.4 1384.24 L23900.4 1384.24 L23988.7 1384.24 L23988.7 1384.24 L23900.4 1384.24 L23900.4 1384.24  Z\n",
       "  \" fill=\"#009af9\" fill-rule=\"evenodd\" fill-opacity=\"1\"/>\n",
       "<polyline clip-path=\"url(#clip102)\" style=\"stroke:#000000; stroke-width:4; stroke-opacity:1; fill:none\" points=\"\n",
       "  23900.4,1384.24 23900.4,1384.24 23988.7,1384.24 23900.4,1384.24 \n",
       "  \"/>\n",
       "<path clip-path=\"url(#clip102)\" d=\"\n",
       "M23988.7 1384.24 L23988.7 1384.24 L24076.9 1384.24 L24076.9 1384.24 L23988.7 1384.24 L23988.7 1384.24  Z\n",
       "  \" fill=\"#009af9\" fill-rule=\"evenodd\" fill-opacity=\"1\"/>\n",
       "<polyline clip-path=\"url(#clip102)\" style=\"stroke:#000000; stroke-width:4; stroke-opacity:1; fill:none\" points=\"\n",
       "  23988.7,1384.24 23988.7,1384.24 24076.9,1384.24 23988.7,1384.24 \n",
       "  \"/>\n",
       "<path clip-path=\"url(#clip102)\" d=\"\n",
       "M24076.9 1384.24 L24076.9 1384.24 L24165.2 1384.24 L24165.2 1384.24 L24076.9 1384.24 L24076.9 1384.24  Z\n",
       "  \" fill=\"#009af9\" fill-rule=\"evenodd\" fill-opacity=\"1\"/>\n",
       "<polyline clip-path=\"url(#clip102)\" style=\"stroke:#000000; stroke-width:4; stroke-opacity:1; fill:none\" points=\"\n",
       "  24076.9,1384.24 24076.9,1384.24 24165.2,1384.24 24076.9,1384.24 \n",
       "  \"/>\n",
       "<path clip-path=\"url(#clip102)\" d=\"\n",
       "M24165.2 1384.24 L24165.2 1384.24 L24253.5 1384.24 L24253.5 1384.24 L24165.2 1384.24 L24165.2 1384.24  Z\n",
       "  \" fill=\"#009af9\" fill-rule=\"evenodd\" fill-opacity=\"1\"/>\n",
       "<polyline clip-path=\"url(#clip102)\" style=\"stroke:#000000; stroke-width:4; stroke-opacity:1; fill:none\" points=\"\n",
       "  24165.2,1384.24 24165.2,1384.24 24253.5,1384.24 24165.2,1384.24 \n",
       "  \"/>\n",
       "<path clip-path=\"url(#clip102)\" d=\"\n",
       "M24253.5 1375.29 L24253.5 1384.24 L24341.8 1384.24 L24341.8 1375.29 L24253.5 1375.29 L24253.5 1375.29  Z\n",
       "  \" fill=\"#009af9\" fill-rule=\"evenodd\" fill-opacity=\"1\"/>\n",
       "<polyline clip-path=\"url(#clip102)\" style=\"stroke:#000000; stroke-width:4; stroke-opacity:1; fill:none\" points=\"\n",
       "  24253.5,1375.29 24253.5,1384.24 24341.8,1384.24 24341.8,1375.29 24253.5,1375.29 \n",
       "  \"/>\n",
       "<path clip-path=\"url(#clip102)\" d=\"\n",
       "M24341.8 1384.24 L24341.8 1384.24 L24430 1384.24 L24430 1384.24 L24341.8 1384.24 L24341.8 1384.24  Z\n",
       "  \" fill=\"#009af9\" fill-rule=\"evenodd\" fill-opacity=\"1\"/>\n",
       "<polyline clip-path=\"url(#clip102)\" style=\"stroke:#000000; stroke-width:4; stroke-opacity:1; fill:none\" points=\"\n",
       "  24341.8,1384.24 24341.8,1384.24 24430,1384.24 24341.8,1384.24 \n",
       "  \"/>\n",
       "<path clip-path=\"url(#clip102)\" d=\"\n",
       "M24430 1384.24 L24430 1384.24 L24518.3 1384.24 L24518.3 1384.24 L24430 1384.24 L24430 1384.24  Z\n",
       "  \" fill=\"#009af9\" fill-rule=\"evenodd\" fill-opacity=\"1\"/>\n",
       "<polyline clip-path=\"url(#clip102)\" style=\"stroke:#000000; stroke-width:4; stroke-opacity:1; fill:none\" points=\"\n",
       "  24430,1384.24 24430,1384.24 24518.3,1384.24 24430,1384.24 \n",
       "  \"/>\n",
       "<path clip-path=\"url(#clip102)\" d=\"\n",
       "M24518.3 1384.24 L24518.3 1384.24 L24606.6 1384.24 L24606.6 1384.24 L24518.3 1384.24 L24518.3 1384.24  Z\n",
       "  \" fill=\"#009af9\" fill-rule=\"evenodd\" fill-opacity=\"1\"/>\n",
       "<polyline clip-path=\"url(#clip102)\" style=\"stroke:#000000; stroke-width:4; stroke-opacity:1; fill:none\" points=\"\n",
       "  24518.3,1384.24 24518.3,1384.24 24606.6,1384.24 24518.3,1384.24 \n",
       "  \"/>\n",
       "<path clip-path=\"url(#clip102)\" d=\"\n",
       "M24606.6 1384.24 L24606.6 1384.24 L24694.9 1384.24 L24694.9 1384.24 L24606.6 1384.24 L24606.6 1384.24  Z\n",
       "  \" fill=\"#009af9\" fill-rule=\"evenodd\" fill-opacity=\"1\"/>\n",
       "<polyline clip-path=\"url(#clip102)\" style=\"stroke:#000000; stroke-width:4; stroke-opacity:1; fill:none\" points=\"\n",
       "  24606.6,1384.24 24606.6,1384.24 24694.9,1384.24 24606.6,1384.24 \n",
       "  \"/>\n",
       "<path clip-path=\"url(#clip102)\" d=\"\n",
       "M24694.9 1375.29 L24694.9 1384.24 L24783.1 1384.24 L24783.1 1375.29 L24694.9 1375.29 L24694.9 1375.29  Z\n",
       "  \" fill=\"#009af9\" fill-rule=\"evenodd\" fill-opacity=\"1\"/>\n",
       "<polyline clip-path=\"url(#clip102)\" style=\"stroke:#000000; stroke-width:4; stroke-opacity:1; fill:none\" points=\"\n",
       "  24694.9,1375.29 24694.9,1384.24 24783.1,1384.24 24783.1,1375.29 24694.9,1375.29 \n",
       "  \"/>\n",
       "</svg>\n"
      ]
     },
     "execution_count": 18,
     "metadata": {},
     "output_type": "execute_result"
    }
   ],
   "source": [
    "using Statistics # bring in statistical support for standard deviations\n",
    "t = c_bench.times / 1e6 # times in milliseconds\n",
    "m, σ = minimum(t), std(t)\n",
    "\n",
    "histogram(t, bins=500,\n",
    "    xlim=(m - 0.01, m + σ),\n",
    "    xlabel=\"milliseconds\", ylabel=\"count\", label=\"\")\n",
    "# # 2. C with -ffast-math"
   ]
  },
  {
   "cell_type": "code",
   "execution_count": 19,
   "metadata": {},
   "outputs": [
    {
     "data": {
      "text/plain": [
       "c_sum_fastmath (generic function with 1 method)"
      ]
     },
     "execution_count": 19,
     "metadata": {},
     "output_type": "execute_result"
    }
   ],
   "source": [
    "# If we allow C to re-arrange the floating point operations, then it'll vectorize with SIMD (single instruction, multiple data) instructions.\n",
    "const Clib_fastmath = tempname()   # make a temporary file\n",
    "\n",
    "# The same as above but with a -ffast-math flag added\n",
    "open(`gcc -fPIC -O3 -msse3 -xc -shared -ffast-math -o $(Clib_fastmath * \".\" * Libdl.dlext) -`, \"w\") do f\n",
    "    print(f, C_code)\n",
    "end\n",
    "\n",
    "# define a Julia function that calls the C function:\n",
    "c_sum_fastmath(X::Array{Float64}) = ccall((\"c_sum\", Clib_fastmath), Float64, (Csize_t, Ptr{Float64}), length(X), X)"
   ]
  },
  {
   "cell_type": "code",
   "execution_count": 20,
   "metadata": {},
   "outputs": [
    {
     "data": {
      "text/plain": [
       "BenchmarkTools.Trial: \n",
       "  memory estimate:  0 bytes\n",
       "  allocs estimate:  0\n",
       "  --------------\n",
       "  minimum time:     4.427 ms (0.00% GC)\n",
       "  median time:      4.596 ms (0.00% GC)\n",
       "  mean time:        4.619 ms (0.00% GC)\n",
       "  maximum time:     5.570 ms (0.00% GC)\n",
       "  --------------\n",
       "  samples:          1081\n",
       "  evals/sample:     1"
      ]
     },
     "execution_count": 20,
     "metadata": {},
     "output_type": "execute_result"
    }
   ],
   "source": [
    "c_fastmath_bench = @benchmark $c_sum_fastmath($a)"
   ]
  },
  {
   "cell_type": "code",
   "execution_count": 21,
   "metadata": {},
   "outputs": [
    {
     "data": {
      "text/plain": [
       "4.42678"
      ]
     },
     "execution_count": 21,
     "metadata": {},
     "output_type": "execute_result"
    }
   ],
   "source": [
    "d[\"C -ffast-math\"] = minimum(c_fastmath_bench.times) / 1e6  # in milliseconds"
   ]
  },
  {
   "cell_type": "markdown",
   "metadata": {},
   "source": [
    "# 3. Python's built in `sum`"
   ]
  },
  {
   "cell_type": "markdown",
   "metadata": {},
   "source": [
    "The `PyCall` package provides a Julia interface to Python:"
   ]
  },
  {
   "cell_type": "code",
   "execution_count": 22,
   "metadata": {},
   "outputs": [],
   "source": [
    "# using Pkg; Pkg.add(\"PyCall\")\n",
    "using PyCall"
   ]
  },
  {
   "cell_type": "code",
   "execution_count": 23,
   "metadata": {},
   "outputs": [
    {
     "data": {
      "text/plain": [
       "PyObject <built-in function sum>"
      ]
     },
     "execution_count": 23,
     "metadata": {},
     "output_type": "execute_result"
    }
   ],
   "source": [
    "# get the Python built-in \"sum\" function:\n",
    "pysum = pybuiltin(\"sum\")"
   ]
  },
  {
   "cell_type": "code",
   "execution_count": 24,
   "metadata": {},
   "outputs": [
    {
     "data": {
      "text/plain": [
       "5.001516419839441e6"
      ]
     },
     "execution_count": 24,
     "metadata": {},
     "output_type": "execute_result"
    }
   ],
   "source": [
    "pysum(a)"
   ]
  },
  {
   "cell_type": "code",
   "execution_count": 25,
   "metadata": {},
   "outputs": [
    {
     "data": {
      "text/plain": [
       "true"
      ]
     },
     "execution_count": 25,
     "metadata": {},
     "output_type": "execute_result"
    }
   ],
   "source": [
    "pysum(a) ≈ sum(a)"
   ]
  },
  {
   "cell_type": "code",
   "execution_count": 26,
   "metadata": {},
   "outputs": [
    {
     "data": {
      "text/plain": [
       "BenchmarkTools.Trial: \n",
       "  memory estimate:  352 bytes\n",
       "  allocs estimate:  7\n",
       "  --------------\n",
       "  minimum time:     1.170 s (0.00% GC)\n",
       "  median time:      1.177 s (0.00% GC)\n",
       "  mean time:        1.198 s (0.00% GC)\n",
       "  maximum time:     1.293 s (0.00% GC)\n",
       "  --------------\n",
       "  samples:          5\n",
       "  evals/sample:     1"
      ]
     },
     "execution_count": 26,
     "metadata": {},
     "output_type": "execute_result"
    }
   ],
   "source": [
    "py_list_bench = @benchmark $pysum($a)"
   ]
  },
  {
   "cell_type": "code",
   "execution_count": 27,
   "metadata": {},
   "outputs": [
    {
     "data": {
      "text/plain": [
       "Dict{Any,Any} with 3 entries:\n",
       "  \"C\"               => 11.2178\n",
       "  \"Python built-in\" => 1170.38\n",
       "  \"C -ffast-math\"   => 4.42678"
      ]
     },
     "execution_count": 27,
     "metadata": {},
     "output_type": "execute_result"
    }
   ],
   "source": [
    "d[\"Python built-in\"] = minimum(py_list_bench.times) / 1e6\n",
    "d"
   ]
  },
  {
   "cell_type": "markdown",
   "metadata": {},
   "source": [
    "# 4. Python: `numpy`\n",
    "\n",
    "## Takes advantage of hardware \"SIMD\", but only works when it works.\n",
    "\n",
    "`numpy` is an optimized C library, callable from Python.\n",
    "It may be installed within Julia as follows:"
   ]
  },
  {
   "cell_type": "code",
   "execution_count": 28,
   "metadata": {},
   "outputs": [],
   "source": [
    "# using Pkg; Pkg.add(\"Conda\")\n",
    "using Conda"
   ]
  },
  {
   "cell_type": "code",
   "execution_count": 29,
   "metadata": {},
   "outputs": [
    {
     "name": "stderr",
     "output_type": "stream",
     "text": [
      "┌ Info: Running `conda install -y numpy` in root environment\n",
      "└ @ Conda /Users/liuyumo/.julia/packages/Conda/3rPhK/src/Conda.jl:113\n"
     ]
    },
    {
     "name": "stdout",
     "output_type": "stream",
     "text": [
      "Collecting package metadata (current_repodata.json): ...working... done\n",
      "Solving environment: ...working... done\n",
      "\n",
      "# All requested packages already installed.\n",
      "\n"
     ]
    }
   ],
   "source": [
    "Conda.add(\"numpy\")"
   ]
  },
  {
   "cell_type": "code",
   "execution_count": 50,
   "metadata": {},
   "outputs": [
    {
     "name": "stderr",
     "output_type": "stream",
     "text": [
      "┌ Warning: `getindex(o::PyObject, s::AbstractString)` is deprecated in favor of dot overloading (`getproperty`) so elements should now be accessed as e.g. `o.\"s\"` instead of `o[\"s\"]`.\n",
      "│   caller = top-level scope at In[50]:1\n",
      "└ @ Core In[50]:1\n"
     ]
    },
    {
     "data": {
      "text/plain": [
       "BenchmarkTools.Trial: \n",
       "  memory estimate:  352 bytes\n",
       "  allocs estimate:  7\n",
       "  --------------\n",
       "  minimum time:     3.522 ms (0.00% GC)\n",
       "  median time:      3.659 ms (0.00% GC)\n",
       "  mean time:        3.691 ms (0.00% GC)\n",
       "  maximum time:     5.357 ms (0.00% GC)\n",
       "  --------------\n",
       "  samples:          1352\n",
       "  evals/sample:     1"
      ]
     },
     "execution_count": 50,
     "metadata": {},
     "output_type": "execute_result"
    }
   ],
   "source": [
    "\n",
    "numpy_sum = pyimport(\"numpy\")[\"sum\"]\n",
    "\n",
    "py_numpy_bench = @benchmark $numpy_sum($a)"
   ]
  },
  {
   "cell_type": "code",
   "execution_count": 31,
   "metadata": {},
   "outputs": [
    {
     "data": {
      "text/plain": [
       "5.001516419838382e6"
      ]
     },
     "execution_count": 31,
     "metadata": {},
     "output_type": "execute_result"
    }
   ],
   "source": [
    "numpy_sum(a)"
   ]
  },
  {
   "cell_type": "code",
   "execution_count": 32,
   "metadata": {},
   "outputs": [
    {
     "data": {
      "text/plain": [
       "true"
      ]
     },
     "execution_count": 32,
     "metadata": {},
     "output_type": "execute_result"
    }
   ],
   "source": [
    "numpy_sum(a) ≈ sum(a)"
   ]
  },
  {
   "cell_type": "code",
   "execution_count": 51,
   "metadata": {},
   "outputs": [
    {
     "data": {
      "text/plain": [
       "Dict{Any,Any} with 8 entries:\n",
       "  \"Julia hand-written simd\" => 4.68674\n",
       "  \"C\"                       => 11.2178\n",
       "  \"Python numpy\"            => 3.52184\n",
       "  \"Julia hand-written\"      => 11.569\n",
       "  \"Python hand-written\"     => 1511.94\n",
       "  \"Python built-in\"         => 1170.38\n",
       "  \"Julia built-in\"          => 4.41006\n",
       "  \"C -ffast-math\"           => 4.42678"
      ]
     },
     "execution_count": 51,
     "metadata": {},
     "output_type": "execute_result"
    }
   ],
   "source": [
    "d[\"Python numpy\"] = minimum(py_numpy_bench.times) / 1e6\n",
    "d"
   ]
  },
  {
   "cell_type": "markdown",
   "metadata": {},
   "source": [
    "# 5. Python, hand-written"
   ]
  },
  {
   "cell_type": "code",
   "execution_count": 34,
   "metadata": {},
   "outputs": [
    {
     "data": {
      "text/plain": [
       "PyObject <function py_sum at 0x7fb028281710>"
      ]
     },
     "execution_count": 34,
     "metadata": {},
     "output_type": "execute_result"
    }
   ],
   "source": [
    "py\"\"\"\n",
    "def py_sum(A):\n",
    "    s = 0.0\n",
    "    for a in A:\n",
    "        s += a\n",
    "    return s\n",
    "\"\"\"\n",
    "\n",
    "sum_py = py\"py_sum\""
   ]
  },
  {
   "cell_type": "code",
   "execution_count": 35,
   "metadata": {},
   "outputs": [
    {
     "data": {
      "text/plain": [
       "BenchmarkTools.Trial: \n",
       "  memory estimate:  352 bytes\n",
       "  allocs estimate:  7\n",
       "  --------------\n",
       "  minimum time:     1.512 s (0.00% GC)\n",
       "  median time:      1.515 s (0.00% GC)\n",
       "  mean time:        1.516 s (0.00% GC)\n",
       "  maximum time:     1.521 s (0.00% GC)\n",
       "  --------------\n",
       "  samples:          4\n",
       "  evals/sample:     1"
      ]
     },
     "execution_count": 35,
     "metadata": {},
     "output_type": "execute_result"
    }
   ],
   "source": [
    "py_hand = @benchmark $sum_py($a)"
   ]
  },
  {
   "cell_type": "code",
   "execution_count": 36,
   "metadata": {},
   "outputs": [
    {
     "data": {
      "text/plain": [
       "5.001516419839441e6"
      ]
     },
     "execution_count": 36,
     "metadata": {},
     "output_type": "execute_result"
    }
   ],
   "source": [
    "sum_py(a)"
   ]
  },
  {
   "cell_type": "code",
   "execution_count": 37,
   "metadata": {},
   "outputs": [
    {
     "data": {
      "text/plain": [
       "true"
      ]
     },
     "execution_count": 37,
     "metadata": {},
     "output_type": "execute_result"
    }
   ],
   "source": [
    "sum_py(a) ≈ sum(a)"
   ]
  },
  {
   "cell_type": "code",
   "execution_count": 38,
   "metadata": {},
   "outputs": [
    {
     "data": {
      "text/plain": [
       "Dict{Any,Any} with 5 entries:\n",
       "  \"C\"                   => 11.2178\n",
       "  \"Python numpy\"        => 3.52318\n",
       "  \"Python hand-written\" => 1511.94\n",
       "  \"Python built-in\"     => 1170.38\n",
       "  \"C -ffast-math\"       => 4.42678"
      ]
     },
     "execution_count": 38,
     "metadata": {},
     "output_type": "execute_result"
    }
   ],
   "source": [
    "d[\"Python hand-written\"] = minimum(py_hand.times) / 1e6\n",
    "d"
   ]
  },
  {
   "cell_type": "markdown",
   "metadata": {},
   "source": [
    "# 6. Julia (built-in)\n",
    "\n",
    "## Written directly in Julia, not in C!"
   ]
  },
  {
   "cell_type": "code",
   "execution_count": 52,
   "metadata": {},
   "outputs": [
    {
     "data": {
      "text/html": [
       "sum(a::<b>AbstractArray</b>; <i>dims</i>) in Base at <a href=\"https://github.com/JuliaLang/julia/tree/44fa15b1502a45eac76c9017af94332d4557b251/base/reducedim.jl#L652\" target=\"_blank\">reducedim.jl:652</a>"
      ],
      "text/plain": [
       "sum(a::AbstractArray; dims) in Base at reducedim.jl:652"
      ]
     },
     "execution_count": 52,
     "metadata": {},
     "output_type": "execute_result"
    }
   ],
   "source": [
    "@which sum(a)"
   ]
  },
  {
   "cell_type": "code",
   "execution_count": 53,
   "metadata": {},
   "outputs": [
    {
     "data": {
      "text/plain": [
       "BenchmarkTools.Trial: \n",
       "  memory estimate:  0 bytes\n",
       "  allocs estimate:  0\n",
       "  --------------\n",
       "  minimum time:     4.900 ms (0.00% GC)\n",
       "  median time:      5.093 ms (0.00% GC)\n",
       "  mean time:        5.091 ms (0.00% GC)\n",
       "  maximum time:     5.923 ms (0.00% GC)\n",
       "  --------------\n",
       "  samples:          981\n",
       "  evals/sample:     1"
      ]
     },
     "execution_count": 53,
     "metadata": {},
     "output_type": "execute_result"
    }
   ],
   "source": [
    "j_bench = @benchmark sum($a)"
   ]
  },
  {
   "cell_type": "code",
   "execution_count": 54,
   "metadata": {},
   "outputs": [
    {
     "data": {
      "text/plain": [
       "Dict{Any,Any} with 8 entries:\n",
       "  \"Julia hand-written simd\" => 4.68674\n",
       "  \"C\"                       => 11.2178\n",
       "  \"Python numpy\"            => 3.52184\n",
       "  \"Julia hand-written\"      => 11.569\n",
       "  \"Python hand-written\"     => 1511.94\n",
       "  \"Python built-in\"         => 1170.38\n",
       "  \"Julia built-in\"          => 4.89963\n",
       "  \"C -ffast-math\"           => 4.42678"
      ]
     },
     "execution_count": 54,
     "metadata": {},
     "output_type": "execute_result"
    }
   ],
   "source": [
    "d[\"Julia built-in\"] = minimum(j_bench.times) / 1e6\n",
    "d"
   ]
  },
  {
   "cell_type": "markdown",
   "metadata": {},
   "source": [
    "# 7. Julia (hand-written)"
   ]
  },
  {
   "cell_type": "code",
   "execution_count": 42,
   "metadata": {},
   "outputs": [
    {
     "data": {
      "text/plain": [
       "mysum (generic function with 1 method)"
      ]
     },
     "execution_count": 42,
     "metadata": {},
     "output_type": "execute_result"
    }
   ],
   "source": [
    "function mysum(A)\n",
    "    s = 0.0 # s = zero(eltype(a))\n",
    "    for a in A\n",
    "        s += a\n",
    "    end\n",
    "    s\n",
    "end"
   ]
  },
  {
   "cell_type": "code",
   "execution_count": 43,
   "metadata": {},
   "outputs": [
    {
     "data": {
      "text/plain": [
       "BenchmarkTools.Trial: \n",
       "  memory estimate:  0 bytes\n",
       "  allocs estimate:  0\n",
       "  --------------\n",
       "  minimum time:     11.569 ms (0.00% GC)\n",
       "  median time:      11.655 ms (0.00% GC)\n",
       "  mean time:        11.672 ms (0.00% GC)\n",
       "  maximum time:     14.291 ms (0.00% GC)\n",
       "  --------------\n",
       "  samples:          429\n",
       "  evals/sample:     1"
      ]
     },
     "execution_count": 43,
     "metadata": {},
     "output_type": "execute_result"
    }
   ],
   "source": [
    "j_bench_hand = @benchmark mysum($a)"
   ]
  },
  {
   "cell_type": "code",
   "execution_count": 44,
   "metadata": {},
   "outputs": [
    {
     "data": {
      "text/plain": [
       "Dict{Any,Any} with 7 entries:\n",
       "  \"C\"                   => 11.2178\n",
       "  \"Python numpy\"        => 3.52318\n",
       "  \"Julia hand-written\"  => 11.569\n",
       "  \"Python hand-written\" => 1511.94\n",
       "  \"Python built-in\"     => 1170.38\n",
       "  \"Julia built-in\"      => 4.41006\n",
       "  \"C -ffast-math\"       => 4.42678"
      ]
     },
     "execution_count": 44,
     "metadata": {},
     "output_type": "execute_result"
    }
   ],
   "source": [
    "d[\"Julia hand-written\"] = minimum(j_bench_hand.times) / 1e6\n",
    "d"
   ]
  },
  {
   "cell_type": "markdown",
   "metadata": {},
   "source": [
    "# 8. Julia (hand-written w. simd)"
   ]
  },
  {
   "cell_type": "code",
   "execution_count": 45,
   "metadata": {},
   "outputs": [
    {
     "data": {
      "text/plain": [
       "mysum_simd (generic function with 1 method)"
      ]
     },
     "execution_count": 45,
     "metadata": {},
     "output_type": "execute_result"
    }
   ],
   "source": [
    "function mysum_simd(A)\n",
    "    s = 0.0 # s = zero(eltype(A))\n",
    "    @simd for a in A\n",
    "        s += a\n",
    "    end\n",
    "    s\n",
    "end"
   ]
  },
  {
   "cell_type": "code",
   "execution_count": 46,
   "metadata": {},
   "outputs": [
    {
     "data": {
      "text/plain": [
       "BenchmarkTools.Trial: \n",
       "  memory estimate:  0 bytes\n",
       "  allocs estimate:  0\n",
       "  --------------\n",
       "  minimum time:     4.687 ms (0.00% GC)\n",
       "  median time:      5.223 ms (0.00% GC)\n",
       "  mean time:        5.223 ms (0.00% GC)\n",
       "  maximum time:     6.014 ms (0.00% GC)\n",
       "  --------------\n",
       "  samples:          956\n",
       "  evals/sample:     1"
      ]
     },
     "execution_count": 46,
     "metadata": {},
     "output_type": "execute_result"
    }
   ],
   "source": [
    "j_bench_hand_simd = @benchmark mysum_simd($a)"
   ]
  },
  {
   "cell_type": "code",
   "execution_count": 47,
   "metadata": {},
   "outputs": [
    {
     "data": {
      "text/plain": [
       "5.001516419838409e6"
      ]
     },
     "execution_count": 47,
     "metadata": {},
     "output_type": "execute_result"
    }
   ],
   "source": [
    "mysum_simd(a)"
   ]
  },
  {
   "cell_type": "code",
   "execution_count": 48,
   "metadata": {},
   "outputs": [
    {
     "data": {
      "text/plain": [
       "Dict{Any,Any} with 8 entries:\n",
       "  \"Julia hand-written simd\" => 4.68674\n",
       "  \"C\"                       => 11.2178\n",
       "  \"Python numpy\"            => 3.52318\n",
       "  \"Julia hand-written\"      => 11.569\n",
       "  \"Python hand-written\"     => 1511.94\n",
       "  \"Python built-in\"         => 1170.38\n",
       "  \"Julia built-in\"          => 4.41006\n",
       "  \"C -ffast-math\"           => 4.42678"
      ]
     },
     "execution_count": 48,
     "metadata": {},
     "output_type": "execute_result"
    }
   ],
   "source": [
    "d[\"Julia hand-written simd\"] = minimum(j_bench_hand_simd.times) / 1e6\n",
    "d"
   ]
  },
  {
   "cell_type": "markdown",
   "metadata": {},
   "source": [
    "# Summary"
   ]
  },
  {
   "cell_type": "code",
   "execution_count": 55,
   "metadata": {},
   "outputs": [
    {
     "name": "stdout",
     "output_type": "stream",
     "text": [
      "Python numpy................3.5\n",
      "C -ffast-math...............4.4\n",
      "Julia hand-written simd.....4.7\n",
      "Julia built-in..............4.9\n",
      "C..........................11.2\n",
      "Julia hand-written.........11.6\n",
      "Python built-in..........1170.4\n",
      "Python hand-written......1511.9\n"
     ]
    }
   ],
   "source": [
    "for (key, value) in sort(collect(d), by=last)\n",
    "    println(rpad(key, 25, \".\"), lpad(round(value; digits=1), 6, \".\"))\n",
    "end"
   ]
  }
 ],
 "metadata": {
  "kernelspec": {
   "display_name": "Julia 1.4.2",
   "language": "julia",
   "name": "julia-1.4"
  },
  "language_info": {
   "file_extension": ".jl",
   "mimetype": "application/julia",
   "name": "julia",
   "version": "1.4.2"
  }
 },
 "nbformat": 4,
 "nbformat_minor": 3
}
