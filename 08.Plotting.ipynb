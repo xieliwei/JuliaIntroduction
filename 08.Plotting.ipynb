{
 "cells": [
  {
   "cell_type": "markdown",
   "metadata": {},
   "source": [
    "# Plotting\n",
    "\n",
    "## Basics\n",
    "There are a few different ways to plot in Julia (including calling PyPlot). <br>\n",
    "\n",
    "Here we'll show you how to use `Plots.jl`.  If it's not installed yet, you need to use the package manager to install it, and Julia will precompile it for you the first time you use it:"
   ]
  },
  {
   "cell_type": "code",
   "execution_count": 1,
   "metadata": {},
   "outputs": [
    {
     "name": "stderr",
     "output_type": "stream",
     "text": [
      "\u001b[32m\u001b[1m   Updating\u001b[22m\u001b[39m registry at `~/.julia/registries/General`\n"
     ]
    },
    {
     "name": "stdout",
     "output_type": "stream",
     "text": [
      "\u001b[?25l\u001b[2K"
     ]
    },
    {
     "name": "stderr",
     "output_type": "stream",
     "text": [
      "\u001b[32m\u001b[1m   Updating\u001b[22m\u001b[39m git-repo `https://github.com/JuliaRegistries/General.git`\n"
     ]
    },
    {
     "name": "stdout",
     "output_type": "stream",
     "text": [
      "\u001b[?25h"
     ]
    },
    {
     "name": "stderr",
     "output_type": "stream",
     "text": [
      "\u001b[32m\u001b[1m  Resolving\u001b[22m\u001b[39m package versions...\n",
      "\u001b[32m\u001b[1m   Updating\u001b[22m\u001b[39m `~/.julia/environments/v1.4/Project.toml`\n",
      "\u001b[90m [no changes]\u001b[39m\n",
      "\u001b[32m\u001b[1m   Updating\u001b[22m\u001b[39m `~/.julia/environments/v1.4/Manifest.toml`\n",
      "\u001b[90m [no changes]\u001b[39m\n"
     ]
    }
   ],
   "source": [
    "using Pkg\n",
    "Pkg.add(\"Plots\")\n",
    "using Plots"
   ]
  },
  {
   "cell_type": "markdown",
   "metadata": {},
   "source": [
    "One of the advantages to `Plots.jl` is that it allows you to seamlessly change backends. In this notebook, we'll try out the `gr()` and `plotlyjs()` backends.<br>\n",
    "\n",
    "In the name of scientific inquiry, let's use this notebook to examine the relationship between the global temperature and the number of pirates between roughly 1860 and 2000."
   ]
  },
  {
   "cell_type": "code",
   "execution_count": 2,
   "metadata": {},
   "outputs": [],
   "source": [
    "globaltemperatures = [14.4, 14.5, 14.8, 15.2, 15.5, 15.8]\n",
    "numpirates = [45000, 20000, 15000, 5000, 400, 17];"
   ]
  },
  {
   "cell_type": "markdown",
   "metadata": {},
   "source": [
    "Plots supports multiple backends — that is, libraries that actually do the drawing — all with the same API. To start out, let's try the GR backend.  You choose it with a call to `gr()`:"
   ]
  },
  {
   "cell_type": "code",
   "execution_count": 3,
   "metadata": {},
   "outputs": [
    {
     "data": {
      "text/plain": [
       "Plots.GRBackend()"
      ]
     },
     "execution_count": 3,
     "metadata": {},
     "output_type": "execute_result"
    }
   ],
   "source": [
    "gr()"
   ]
  },
  {
   "cell_type": "markdown",
   "metadata": {},
   "source": [
    "and now we can use commands like `plot` and `scatter` to generate plots."
   ]
  },
  {
   "cell_type": "code",
   "execution_count": 10,
   "metadata": {},
   "outputs": [
    {
     "data": {
      "text/plain": [
       "          +------------------------------------------------------------+       \n",
       "   15.842 | |                                                          | line  \n",
       "          | |                                                          | points\n",
       "          | |                                                          |       \n",
       "          | ||                                                         |       \n",
       "          | ||                                                         |       \n",
       "          | |\".                                                        |       \n",
       "          | |  \\.                                                      |       \n",
       "          | |   '.                                                     |       \n",
       "          | |     `.                                                   |       \n",
       "          | |      \"\\.                                                 |       \n",
       "          | |         \"..                                              |       \n",
       "          | |           '`.                                            |       \n",
       "          | |             \"\\.                                          |       \n",
       "          | |                \"..                                       |       \n",
       "          | |                  '.                                      |       \n",
       "          | |                    \\.                                    |       \n",
       "          | |                     \".                                   |       \n",
       "          | |                       \\.                                 |       \n",
       "          | |                        \"\"\"\"\"\"`-------._______            |       \n",
       "   14.358 | |                                              \"\"\"\"\"\"\"\\--/ |       \n",
       "          +------------------------------------------------------------+       \n",
       "          -1332.49                                              46349.49"
      ]
     },
     "execution_count": 10,
     "metadata": {},
     "output_type": "execute_result"
    }
   ],
   "source": [
    "plot(numpirates, globaltemperatures, label=\"line\")\n",
    "scatter!(numpirates, globaltemperatures, label=\"points\")"
   ]
  },
  {
   "cell_type": "markdown",
   "metadata": {},
   "source": [
    "The `!` at the end of the `scatter!` function name makes `scatter!` a mutating function, indicating that the scattered points will be added onto the pre-existing plot.\n",
    "\n",
    "In contrast, see what happens when you replace `scatter!` in the above with the non-mutating function `scatter`.\n",
    "\n",
    "Next, let's update this plot with the `xlabel!`, `ylabel!`, and `title!` commands to add more information to our plot."
   ]
  },
  {
   "cell_type": "code",
   "execution_count": 11,
   "metadata": {},
   "outputs": [
    {
     "data": {
      "text/plain": [
       "                                       Influence of pirate population on global warming\n",
       "                                 +------------------------------------------------------------+       \n",
       "                          15.842 | |                                                          | line  \n",
       "                                 | |                                                          | points\n",
       "                                 | |                                                          |       \n",
       "                                 | ||                                                         |       \n",
       "                                 | ||                                                         |       \n",
       "                                 | |\".                                                        |       \n",
       "                                 | |  \\.                                                      |       \n",
       "                                 | |   '.                                                     |       \n",
       "                                 | |     `.                                                   |       \n",
       "   Global Temperature (C)        | |      \"\\.                                                 |       \n",
       "                                 | |         \"..                                              |       \n",
       "                                 | |           '`.                                            |       \n",
       "                                 | |             \"\\.                                          |       \n",
       "                                 | |                \"..                                       |       \n",
       "                                 | |                  '.                                      |       \n",
       "                                 | |                    \\.                                    |       \n",
       "                                 | |                     \".                                   |       \n",
       "                                 | |                       \\.                                 |       \n",
       "                                 | |                        \"\"\"\"\"\"`-------._______            |       \n",
       "                          14.358 | |                                              \"\"\"\"\"\"\"\\--/ |       \n",
       "                                 +------------------------------------------------------------+       \n",
       "                                 -1332.49                                              46349.49\n",
       "                                                Number of Pirates [Approximate]"
      ]
     },
     "execution_count": 11,
     "metadata": {},
     "output_type": "execute_result"
    }
   ],
   "source": [
    "xlabel!(\"Number of Pirates [Approximate]\")\n",
    "ylabel!(\"Global Temperature (C)\")\n",
    "title!(\"Influence of pirate population on global warming\")"
   ]
  },
  {
   "cell_type": "markdown",
   "metadata": {},
   "source": [
    "This still doesn't look quite right. The number of pirates has decreased since 1860, so reading the plot from left to right is like looking backwards in time rather than forwards. Let's flip the x axis to better see how pirate populations have caused global temperatures to change over time!"
   ]
  },
  {
   "cell_type": "code",
   "execution_count": 12,
   "metadata": {},
   "outputs": [
    {
     "data": {
      "text/plain": [
       "                                       Influence of pirate population on global warming\n",
       "                                 +------------------------------------------------------------+       \n",
       "                          15.842 | |                                                          | line  \n",
       "                                 | |                                                          | points\n",
       "                                 | |                                                          |       \n",
       "                                 | ||                                                         |       \n",
       "                                 | ||                                                         |       \n",
       "                                 | |\".                                                        |       \n",
       "                                 | |  \\.                                                      |       \n",
       "                                 | |   '.                                                     |       \n",
       "                                 | |     `.                                                   |       \n",
       "   Global Temperature (C)        | |      \"\\.                                                 |       \n",
       "                                 | |         \"..                                              |       \n",
       "                                 | |           '`.                                            |       \n",
       "                                 | |             \"\\.                                          |       \n",
       "                                 | |                \"..                                       |       \n",
       "                                 | |                  '.                                      |       \n",
       "                                 | |                    \\.                                    |       \n",
       "                                 | |                     \".                                   |       \n",
       "                                 | |                       \\.                                 |       \n",
       "                                 | |                        \"\"\"\"\"\"`-------._______            |       \n",
       "                          14.358 | |                                              \"\"\"\"\"\"\"\\--/ |       \n",
       "                                 +------------------------------------------------------------+       \n",
       "                                 -1332.49                                              46349.49\n",
       "                                                Number of Pirates [Approximate]"
      ]
     },
     "execution_count": 12,
     "metadata": {},
     "output_type": "execute_result"
    }
   ],
   "source": [
    "xflip!()"
   ]
  },
  {
   "cell_type": "markdown",
   "metadata": {},
   "source": [
    "And there we have it!\n",
    "\n",
    "Note: We've had some confusion about this exercise. :) This is a joke about how people often conflate correlation and causation.\n",
    "\n",
    "**Without changing syntax, we can create this plot with the UnicodePlots backend**"
   ]
  },
  {
   "cell_type": "code",
   "execution_count": 7,
   "metadata": {},
   "outputs": [
    {
     "name": "stderr",
     "output_type": "stream",
     "text": [
      "\u001b[32m\u001b[1m  Resolving\u001b[22m\u001b[39m package versions...\n",
      "\u001b[32m\u001b[1m   Updating\u001b[22m\u001b[39m `~/.julia/environments/v1.4/Project.toml`\n",
      "\u001b[90m [no changes]\u001b[39m\n",
      "\u001b[32m\u001b[1m   Updating\u001b[22m\u001b[39m `~/.julia/environments/v1.4/Manifest.toml`\n",
      "\u001b[90m [no changes]\u001b[39m\n",
      "┌ Info: Precompiling UnicodePlots [b8865327-cd53-5732-bb35-84acbb429228]\n",
      "└ @ Base loading.jl:1260\n"
     ]
    },
    {
     "data": {
      "text/plain": [
       "Plots.UnicodePlotsBackend()"
      ]
     },
     "execution_count": 7,
     "metadata": {},
     "output_type": "execute_result"
    }
   ],
   "source": [
    "Pkg.add(\"UnicodePlots\")\n",
    "unicodeplots()"
   ]
  },
  {
   "cell_type": "code",
   "execution_count": 13,
   "metadata": {},
   "outputs": [
    {
     "data": {
      "text/plain": [
       "                                       Influence of pirate population on global warming\n",
       "                                 +------------------------------------------------------------+       \n",
       "                          15.842 | |                                                          | line  \n",
       "                                 | |                                                          | points\n",
       "                                 | |                                                          |       \n",
       "                                 | ||                                                         |       \n",
       "                                 | ||                                                         |       \n",
       "                                 | |\".                                                        |       \n",
       "                                 | |  \\.                                                      |       \n",
       "                                 | |   '.                                                     |       \n",
       "                                 | |     `.                                                   |       \n",
       "   Global Temperature (C)        | |      \"\\.                                                 |       \n",
       "                                 | |         \"..                                              |       \n",
       "                                 | |           '`.                                            |       \n",
       "                                 | |             \"\\.                                          |       \n",
       "                                 | |                \"..                                       |       \n",
       "                                 | |                  '.                                      |       \n",
       "                                 | |                    \\.                                    |       \n",
       "                                 | |                     \".                                   |       \n",
       "                                 | |                       \\.                                 |       \n",
       "                                 | |                        \"\"\"\"\"\"`-------._______            |       \n",
       "                          14.358 | |                                              \"\"\"\"\"\"\"\\--/ |       \n",
       "                                 +------------------------------------------------------------+       \n",
       "                                 -1332.49                                              46349.49\n",
       "                                                Number of Pirates [Approximate]"
      ]
     },
     "execution_count": 13,
     "metadata": {},
     "output_type": "execute_result"
    }
   ],
   "source": [
    "plot(numpirates, globaltemperatures, label=\"line\")\n",
    "scatter!(numpirates, globaltemperatures, label=\"points\")\n",
    "xlabel!(\"Number of Pirates [Approximate]\")\n",
    "ylabel!(\"Global Temperature (C)\")\n",
    "title!(\"Influence of pirate population on global warming\")"
   ]
  },
  {
   "cell_type": "markdown",
   "metadata": {},
   "source": [
    "And notice how this second plot differs from the first!  Using text like this is a little silly in a Jupyter notebook where we have fancy drawing capabilities, but it can be very useful for quick and dirty visualization in a terminal."
   ]
  },
  {
   "cell_type": "markdown",
   "metadata": {},
   "source": [
    "### Exercises\n",
    "\n",
    "#### 8.1\n",
    "Given\n",
    "```julia\n",
    "x = -10:10\n",
    "```\n",
    "plot y vs. x for $y = x^2$.  You may want to change backends back again."
   ]
  },
  {
   "cell_type": "markdown",
   "metadata": {},
   "source": [
    "#### 8.2\n",
    "Execute the following code"
   ]
  },
  {
   "cell_type": "code",
   "execution_count": 9,
   "metadata": {},
   "outputs": [
    {
     "data": {
      "text/plain": [
       "         +------------------------------------------------------------+ \n",
       "    10.6 |                              |                          _/ | \n",
       "         |                              |                       _-\"   | \n",
       "         |                              |                    _-\"      | \n",
       "         |                              |                 _-\"         | \n",
       "         |                              |              _-\"            | \n",
       "         |                              |           _-\"               | \n",
       "         |                              |        _-\"                  | \n",
       "         |                              |     _-\"                     | \n",
       "         |                              |  _-\"                        | \n",
       "         |                              Lr/                           | \n",
       "         |\"\"\"\"\"\"\"\"\"\"\"\"\"\"\"\"\"\"\"\"\"\"\"\"\"\"\"=T\"|\"\"\"\"\"\"\"\"\"\"\"\"\"\"\"\"\"\"\"\"\"\"\"\"\"\"\"\"\"| \n",
       "         |                        _-\"   |                             | \n",
       "         |                     _-\"      |                             | \n",
       "         |                  _-\"         |                             | \n",
       "         |               _-\"            |                             | \n",
       "         |            _-\"               |                             | \n",
       "         |         _-\"                  |                             | \n",
       "         |      _-\"                     |                             | \n",
       "         |   _-\"                        |                             | \n",
       "   -10.6 | \\\"                           |                             | \n",
       "         +------------------------------------------------------------+ \n",
       "         -10.6                                                     10.6       +------------------------------------------------------------+ \n",
       "   103 | ,                            |                           . | \n",
       "       |  \\                           |                          /  | \n",
       "       |   .                          |                         .`  | \n",
       "       |   \",                         |                        ,`   | \n",
       "       |    \\.                        |                       ./    | \n",
       "       |     \\                        |                       /     | \n",
       "       |      \\                       |                      /      | \n",
       "       |       \\                      |                     /       | \n",
       "       |        \\                     |                    /        | \n",
       "       |         \\                    |                   /         | \n",
       "       |          \\                   |                 ./          | \n",
       "       |           `.                 |                ./           | \n",
       "       |            \\.                |               ,/            | \n",
       "       |             \".               |              .`             | \n",
       "       |               \\.             |            ./               | \n",
       "       |                '.            |           r`                | \n",
       "       |                  \\.          |         ./                  | \n",
       "       |                    \\\\.       |      ../                    | \n",
       "       |                      '`._    |   _./`                      | \n",
       "    -3 |--------------------------TT--r-TT--------------------------| \n",
       "       +------------------------------------------------------------+ \n",
       "       -10.6                                                     10.6         +------------------------------------------------------------+ \n",
       "    1060 |                              |                           . | \n",
       "         |                              |                         ./  | \n",
       "         |                              |                        ./   | \n",
       "         |                              |                       .`    | \n",
       "         |                              |                     ./      | \n",
       "         |                              |                    ./       | \n",
       "         |                              |                  _/`        | \n",
       "         |                              |               ../           | \n",
       "         |                              |            _./\"             | \n",
       "         |                              L________--/\"                 | \n",
       "         |\"\"\"\"\"\"\"\"\"\"\"\"\"\"\"\"==}TT\"\"\"\"\"\"\"\"\"|\"\"\"\"\"\"\"\"\"\"\"\"\"\"\"\"\"\"\"\"\"\"\"\"\"\"\"\"\"| \n",
       "         |             .r/`             |                             | \n",
       "         |          ../`                |                             | \n",
       "         |         .`                   |                             | \n",
       "         |       ./                     |                             | \n",
       "         |     ./                       |                             | \n",
       "         |    ./                        |                             | \n",
       "         |   .`                         |                             | \n",
       "         |  .`                          |                             | \n",
       "   -1060 | \\`                           |                             | \n",
       "         +------------------------------------------------------------+ \n",
       "         -10.6                                                     10.6         +------------------------------------------------------------+ \n",
       "   10300 | ,                            |                           . | \n",
       "         | \",                           |                          ,` | \n",
       "         |  l                           |                          |  | \n",
       "         |  \",                          |                         .`  | \n",
       "         |   \\                          |                         /   | \n",
       "         |   |.                         |                         /   | \n",
       "         |    .                         |                        .    | \n",
       "         |    \\                         |                        /    | \n",
       "         |     \\                        |                       .     | \n",
       "         |     |.                       |                      .`     | \n",
       "         |      l                       |                      |      | \n",
       "         |      \".                      |                     .`      | \n",
       "         |       \\.                     |                    .`       | \n",
       "         |        \\.                    |                   ,`        | \n",
       "         |         \\.                   |                  ./         | \n",
       "         |          \\.                  |                 .`          | \n",
       "         |           \"..                |               ./`           | \n",
       "         |             '..              |             .r/             | \n",
       "         |               '-._.          |          _r/`               | \n",
       "    -300 |-------------------^TT^-------r------TTTT-------------------| \n",
       "         +------------------------------------------------------------+ \n",
       "         -10.6                                                     10.6"
      ]
     },
     "execution_count": 9,
     "metadata": {},
     "output_type": "execute_result"
    }
   ],
   "source": [
    "x = -10:10\n",
    "p1 = plot(x, x)\n",
    "p2 = plot(x, x.^2)\n",
    "p3 = plot(x, x.^3)\n",
    "p4 = plot(x, x.^4)\n",
    "plot(p1, p2, p3, p4, layout = (2, 2), legend = false)"
   ]
  },
  {
   "cell_type": "markdown",
   "metadata": {},
   "source": [
    "and then create a $4x1$ plot that uses `p1`, `p2`, `p3`, and `p4` as subplots."
   ]
  }
 ],
 "metadata": {
  "kernelspec": {
   "display_name": "Julia 1.4.2",
   "language": "julia",
   "name": "julia-1.4"
  },
  "language_info": {
   "file_extension": ".jl",
   "mimetype": "application/julia",
   "name": "julia",
   "version": "1.4.2"
  }
 },
 "nbformat": 4,
 "nbformat_minor": 3
}
